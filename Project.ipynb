{
 "cells": [
  {
   "cell_type": "code",
   "execution_count": 2,
   "metadata": {},
   "outputs": [],
   "source": [
    "import pandas as pd\n",
    "import plotly.express as px "
   ]
  },
  {
   "cell_type": "code",
   "execution_count": 3,
   "metadata": {},
   "outputs": [
    {
     "data": {
      "text/html": [
       "<div>\n",
       "<style scoped>\n",
       "    .dataframe tbody tr th:only-of-type {\n",
       "        vertical-align: middle;\n",
       "    }\n",
       "\n",
       "    .dataframe tbody tr th {\n",
       "        vertical-align: top;\n",
       "    }\n",
       "\n",
       "    .dataframe thead th {\n",
       "        text-align: right;\n",
       "    }\n",
       "</style>\n",
       "<table border=\"1\" class=\"dataframe\">\n",
       "  <thead>\n",
       "    <tr style=\"text-align: right;\">\n",
       "      <th></th>\n",
       "      <th>Country</th>\n",
       "      <th>Region</th>\n",
       "      <th>Happiness Rank</th>\n",
       "      <th>Happiness Score</th>\n",
       "      <th>Lower Confidence Interval</th>\n",
       "      <th>Upper Confidence Interval</th>\n",
       "      <th>Economy (GDP per Capita)</th>\n",
       "      <th>Family</th>\n",
       "      <th>Health (Life Expectancy)</th>\n",
       "      <th>Freedom</th>\n",
       "      <th>Trust (Government Corruption)</th>\n",
       "      <th>Generosity</th>\n",
       "      <th>Dystopia Residual</th>\n",
       "    </tr>\n",
       "  </thead>\n",
       "  <tbody>\n",
       "    <tr>\n",
       "      <th>0</th>\n",
       "      <td>Denmark</td>\n",
       "      <td>Western Europe</td>\n",
       "      <td>1</td>\n",
       "      <td>7.526</td>\n",
       "      <td>7.460</td>\n",
       "      <td>7.592</td>\n",
       "      <td>1.44178</td>\n",
       "      <td>1.16374</td>\n",
       "      <td>0.79504</td>\n",
       "      <td>0.57941</td>\n",
       "      <td>0.44453</td>\n",
       "      <td>0.36171</td>\n",
       "      <td>2.73939</td>\n",
       "    </tr>\n",
       "    <tr>\n",
       "      <th>1</th>\n",
       "      <td>Switzerland</td>\n",
       "      <td>Western Europe</td>\n",
       "      <td>2</td>\n",
       "      <td>7.509</td>\n",
       "      <td>7.428</td>\n",
       "      <td>7.590</td>\n",
       "      <td>1.52733</td>\n",
       "      <td>1.14524</td>\n",
       "      <td>0.86303</td>\n",
       "      <td>0.58557</td>\n",
       "      <td>0.41203</td>\n",
       "      <td>0.28083</td>\n",
       "      <td>2.69463</td>\n",
       "    </tr>\n",
       "    <tr>\n",
       "      <th>2</th>\n",
       "      <td>Iceland</td>\n",
       "      <td>Western Europe</td>\n",
       "      <td>3</td>\n",
       "      <td>7.501</td>\n",
       "      <td>7.333</td>\n",
       "      <td>7.669</td>\n",
       "      <td>1.42666</td>\n",
       "      <td>1.18326</td>\n",
       "      <td>0.86733</td>\n",
       "      <td>0.56624</td>\n",
       "      <td>0.14975</td>\n",
       "      <td>0.47678</td>\n",
       "      <td>2.83137</td>\n",
       "    </tr>\n",
       "    <tr>\n",
       "      <th>3</th>\n",
       "      <td>Norway</td>\n",
       "      <td>Western Europe</td>\n",
       "      <td>4</td>\n",
       "      <td>7.498</td>\n",
       "      <td>7.421</td>\n",
       "      <td>7.575</td>\n",
       "      <td>1.57744</td>\n",
       "      <td>1.12690</td>\n",
       "      <td>0.79579</td>\n",
       "      <td>0.59609</td>\n",
       "      <td>0.35776</td>\n",
       "      <td>0.37895</td>\n",
       "      <td>2.66465</td>\n",
       "    </tr>\n",
       "    <tr>\n",
       "      <th>4</th>\n",
       "      <td>Finland</td>\n",
       "      <td>Western Europe</td>\n",
       "      <td>5</td>\n",
       "      <td>7.413</td>\n",
       "      <td>7.351</td>\n",
       "      <td>7.475</td>\n",
       "      <td>1.40598</td>\n",
       "      <td>1.13464</td>\n",
       "      <td>0.81091</td>\n",
       "      <td>0.57104</td>\n",
       "      <td>0.41004</td>\n",
       "      <td>0.25492</td>\n",
       "      <td>2.82596</td>\n",
       "    </tr>\n",
       "    <tr>\n",
       "      <th>...</th>\n",
       "      <td>...</td>\n",
       "      <td>...</td>\n",
       "      <td>...</td>\n",
       "      <td>...</td>\n",
       "      <td>...</td>\n",
       "      <td>...</td>\n",
       "      <td>...</td>\n",
       "      <td>...</td>\n",
       "      <td>...</td>\n",
       "      <td>...</td>\n",
       "      <td>...</td>\n",
       "      <td>...</td>\n",
       "      <td>...</td>\n",
       "    </tr>\n",
       "    <tr>\n",
       "      <th>152</th>\n",
       "      <td>Benin</td>\n",
       "      <td>Sub-Saharan Africa</td>\n",
       "      <td>153</td>\n",
       "      <td>3.484</td>\n",
       "      <td>3.404</td>\n",
       "      <td>3.564</td>\n",
       "      <td>0.39499</td>\n",
       "      <td>0.10419</td>\n",
       "      <td>0.21028</td>\n",
       "      <td>0.39747</td>\n",
       "      <td>0.06681</td>\n",
       "      <td>0.20180</td>\n",
       "      <td>2.10812</td>\n",
       "    </tr>\n",
       "    <tr>\n",
       "      <th>153</th>\n",
       "      <td>Afghanistan</td>\n",
       "      <td>Southern Asia</td>\n",
       "      <td>154</td>\n",
       "      <td>3.360</td>\n",
       "      <td>3.288</td>\n",
       "      <td>3.432</td>\n",
       "      <td>0.38227</td>\n",
       "      <td>0.11037</td>\n",
       "      <td>0.17344</td>\n",
       "      <td>0.16430</td>\n",
       "      <td>0.07112</td>\n",
       "      <td>0.31268</td>\n",
       "      <td>2.14558</td>\n",
       "    </tr>\n",
       "    <tr>\n",
       "      <th>154</th>\n",
       "      <td>Togo</td>\n",
       "      <td>Sub-Saharan Africa</td>\n",
       "      <td>155</td>\n",
       "      <td>3.303</td>\n",
       "      <td>3.192</td>\n",
       "      <td>3.414</td>\n",
       "      <td>0.28123</td>\n",
       "      <td>0.00000</td>\n",
       "      <td>0.24811</td>\n",
       "      <td>0.34678</td>\n",
       "      <td>0.11587</td>\n",
       "      <td>0.17517</td>\n",
       "      <td>2.13540</td>\n",
       "    </tr>\n",
       "    <tr>\n",
       "      <th>155</th>\n",
       "      <td>Syria</td>\n",
       "      <td>Middle East and Northern Africa</td>\n",
       "      <td>156</td>\n",
       "      <td>3.069</td>\n",
       "      <td>2.936</td>\n",
       "      <td>3.202</td>\n",
       "      <td>0.74719</td>\n",
       "      <td>0.14866</td>\n",
       "      <td>0.62994</td>\n",
       "      <td>0.06912</td>\n",
       "      <td>0.17233</td>\n",
       "      <td>0.48397</td>\n",
       "      <td>0.81789</td>\n",
       "    </tr>\n",
       "    <tr>\n",
       "      <th>156</th>\n",
       "      <td>Burundi</td>\n",
       "      <td>Sub-Saharan Africa</td>\n",
       "      <td>157</td>\n",
       "      <td>2.905</td>\n",
       "      <td>2.732</td>\n",
       "      <td>3.078</td>\n",
       "      <td>0.06831</td>\n",
       "      <td>0.23442</td>\n",
       "      <td>0.15747</td>\n",
       "      <td>0.04320</td>\n",
       "      <td>0.09419</td>\n",
       "      <td>0.20290</td>\n",
       "      <td>2.10404</td>\n",
       "    </tr>\n",
       "  </tbody>\n",
       "</table>\n",
       "<p>157 rows × 13 columns</p>\n",
       "</div>"
      ],
      "text/plain": [
       "         Country                           Region  Happiness Rank  \\\n",
       "0        Denmark                   Western Europe               1   \n",
       "1    Switzerland                   Western Europe               2   \n",
       "2        Iceland                   Western Europe               3   \n",
       "3         Norway                   Western Europe               4   \n",
       "4        Finland                   Western Europe               5   \n",
       "..           ...                              ...             ...   \n",
       "152        Benin               Sub-Saharan Africa             153   \n",
       "153  Afghanistan                    Southern Asia             154   \n",
       "154         Togo               Sub-Saharan Africa             155   \n",
       "155        Syria  Middle East and Northern Africa             156   \n",
       "156      Burundi               Sub-Saharan Africa             157   \n",
       "\n",
       "     Happiness Score  Lower Confidence Interval  Upper Confidence Interval  \\\n",
       "0              7.526                      7.460                      7.592   \n",
       "1              7.509                      7.428                      7.590   \n",
       "2              7.501                      7.333                      7.669   \n",
       "3              7.498                      7.421                      7.575   \n",
       "4              7.413                      7.351                      7.475   \n",
       "..               ...                        ...                        ...   \n",
       "152            3.484                      3.404                      3.564   \n",
       "153            3.360                      3.288                      3.432   \n",
       "154            3.303                      3.192                      3.414   \n",
       "155            3.069                      2.936                      3.202   \n",
       "156            2.905                      2.732                      3.078   \n",
       "\n",
       "     Economy (GDP per Capita)   Family  Health (Life Expectancy)  Freedom  \\\n",
       "0                     1.44178  1.16374                   0.79504  0.57941   \n",
       "1                     1.52733  1.14524                   0.86303  0.58557   \n",
       "2                     1.42666  1.18326                   0.86733  0.56624   \n",
       "3                     1.57744  1.12690                   0.79579  0.59609   \n",
       "4                     1.40598  1.13464                   0.81091  0.57104   \n",
       "..                        ...      ...                       ...      ...   \n",
       "152                   0.39499  0.10419                   0.21028  0.39747   \n",
       "153                   0.38227  0.11037                   0.17344  0.16430   \n",
       "154                   0.28123  0.00000                   0.24811  0.34678   \n",
       "155                   0.74719  0.14866                   0.62994  0.06912   \n",
       "156                   0.06831  0.23442                   0.15747  0.04320   \n",
       "\n",
       "     Trust (Government Corruption)  Generosity  Dystopia Residual  \n",
       "0                          0.44453     0.36171            2.73939  \n",
       "1                          0.41203     0.28083            2.69463  \n",
       "2                          0.14975     0.47678            2.83137  \n",
       "3                          0.35776     0.37895            2.66465  \n",
       "4                          0.41004     0.25492            2.82596  \n",
       "..                             ...         ...                ...  \n",
       "152                        0.06681     0.20180            2.10812  \n",
       "153                        0.07112     0.31268            2.14558  \n",
       "154                        0.11587     0.17517            2.13540  \n",
       "155                        0.17233     0.48397            0.81789  \n",
       "156                        0.09419     0.20290            2.10404  \n",
       "\n",
       "[157 rows x 13 columns]"
      ]
     },
     "execution_count": 3,
     "metadata": {},
     "output_type": "execute_result"
    }
   ],
   "source": [
    "happiness_df = pd.read_csv('happiness.csv')\n",
    "happiness_df"
   ]
  },
  {
   "cell_type": "code",
   "execution_count": 4,
   "metadata": {},
   "outputs": [
    {
     "data": {
      "text/plain": [
       "Index(['Country', 'Region', 'Happiness_Rank', 'Happiness_Score',\n",
       "       'Lower Confidence Interval', 'Upper Confidence Interval', 'GDP',\n",
       "       'Family', 'Life_Expectancy', 'Freedom', 'Trust_against_corrruption',\n",
       "       'Generosity', 'Dystopia_Residual'],\n",
       "      dtype='object')"
      ]
     },
     "execution_count": 4,
     "metadata": {},
     "output_type": "execute_result"
    }
   ],
   "source": [
    "# Rename columns\n",
    "happiness_df = happiness_df.rename(columns={'Country name': 'Country', 'Regional indicator': 'Region', 'Health (Life Expectancy)': 'Life_Expectancy', 'Freedom to make life choices': 'Freedom', 'Trust (Government Corruption)': 'Trust_against_corrruption', 'Dystopia Residual': 'Dystopia_Residual', 'Economy (GDP per Capita)' : 'GDP', 'Happiness Score': 'Happiness_Score', 'Happiness Rank': 'Happiness_Rank', 'Happiness Score': 'Happiness_Score'})\n",
    "happiness_df.columns"
   ]
  },
  {
   "cell_type": "code",
   "execution_count": 5,
   "metadata": {},
   "outputs": [
    {
     "data": {
      "application/vnd.plotly.v1+json": {
       "config": {
        "plotlyServerURL": "https://plot.ly"
       },
       "data": [
        {
         "hovertemplate": "Country=Denmark<br>Happiness_Score=%{x}<br>Family=%{y}<br>Happiness_Rank=%{marker.size}<extra></extra>",
         "legendgroup": "Denmark",
         "marker": {
          "color": "#636efa",
          "size": [
           1
          ],
          "sizemode": "area",
          "sizeref": 0.3925,
          "symbol": "circle"
         },
         "mode": "markers",
         "name": "Denmark",
         "orientation": "v",
         "showlegend": true,
         "type": "scatter",
         "x": [
          7.526
         ],
         "xaxis": "x",
         "y": [
          1.16374
         ],
         "yaxis": "y"
        },
        {
         "hovertemplate": "Country=Switzerland<br>Happiness_Score=%{x}<br>Family=%{y}<br>Happiness_Rank=%{marker.size}<extra></extra>",
         "legendgroup": "Switzerland",
         "marker": {
          "color": "#EF553B",
          "size": [
           2
          ],
          "sizemode": "area",
          "sizeref": 0.3925,
          "symbol": "circle"
         },
         "mode": "markers",
         "name": "Switzerland",
         "orientation": "v",
         "showlegend": true,
         "type": "scatter",
         "x": [
          7.509
         ],
         "xaxis": "x",
         "y": [
          1.14524
         ],
         "yaxis": "y"
        },
        {
         "hovertemplate": "Country=Iceland<br>Happiness_Score=%{x}<br>Family=%{y}<br>Happiness_Rank=%{marker.size}<extra></extra>",
         "legendgroup": "Iceland",
         "marker": {
          "color": "#00cc96",
          "size": [
           3
          ],
          "sizemode": "area",
          "sizeref": 0.3925,
          "symbol": "circle"
         },
         "mode": "markers",
         "name": "Iceland",
         "orientation": "v",
         "showlegend": true,
         "type": "scatter",
         "x": [
          7.501
         ],
         "xaxis": "x",
         "y": [
          1.18326
         ],
         "yaxis": "y"
        },
        {
         "hovertemplate": "Country=Norway<br>Happiness_Score=%{x}<br>Family=%{y}<br>Happiness_Rank=%{marker.size}<extra></extra>",
         "legendgroup": "Norway",
         "marker": {
          "color": "#ab63fa",
          "size": [
           4
          ],
          "sizemode": "area",
          "sizeref": 0.3925,
          "symbol": "circle"
         },
         "mode": "markers",
         "name": "Norway",
         "orientation": "v",
         "showlegend": true,
         "type": "scatter",
         "x": [
          7.498
         ],
         "xaxis": "x",
         "y": [
          1.1269
         ],
         "yaxis": "y"
        },
        {
         "hovertemplate": "Country=Finland<br>Happiness_Score=%{x}<br>Family=%{y}<br>Happiness_Rank=%{marker.size}<extra></extra>",
         "legendgroup": "Finland",
         "marker": {
          "color": "#FFA15A",
          "size": [
           5
          ],
          "sizemode": "area",
          "sizeref": 0.3925,
          "symbol": "circle"
         },
         "mode": "markers",
         "name": "Finland",
         "orientation": "v",
         "showlegend": true,
         "type": "scatter",
         "x": [
          7.413
         ],
         "xaxis": "x",
         "y": [
          1.13464
         ],
         "yaxis": "y"
        },
        {
         "hovertemplate": "Country=Canada<br>Happiness_Score=%{x}<br>Family=%{y}<br>Happiness_Rank=%{marker.size}<extra></extra>",
         "legendgroup": "Canada",
         "marker": {
          "color": "#19d3f3",
          "size": [
           6
          ],
          "sizemode": "area",
          "sizeref": 0.3925,
          "symbol": "circle"
         },
         "mode": "markers",
         "name": "Canada",
         "orientation": "v",
         "showlegend": true,
         "type": "scatter",
         "x": [
          7.404
         ],
         "xaxis": "x",
         "y": [
          1.0961
         ],
         "yaxis": "y"
        },
        {
         "hovertemplate": "Country=Netherlands<br>Happiness_Score=%{x}<br>Family=%{y}<br>Happiness_Rank=%{marker.size}<extra></extra>",
         "legendgroup": "Netherlands",
         "marker": {
          "color": "#FF6692",
          "size": [
           7
          ],
          "sizemode": "area",
          "sizeref": 0.3925,
          "symbol": "circle"
         },
         "mode": "markers",
         "name": "Netherlands",
         "orientation": "v",
         "showlegend": true,
         "type": "scatter",
         "x": [
          7.339
         ],
         "xaxis": "x",
         "y": [
          1.02912
         ],
         "yaxis": "y"
        },
        {
         "hovertemplate": "Country=New Zealand<br>Happiness_Score=%{x}<br>Family=%{y}<br>Happiness_Rank=%{marker.size}<extra></extra>",
         "legendgroup": "New Zealand",
         "marker": {
          "color": "#B6E880",
          "size": [
           8
          ],
          "sizemode": "area",
          "sizeref": 0.3925,
          "symbol": "circle"
         },
         "mode": "markers",
         "name": "New Zealand",
         "orientation": "v",
         "showlegend": true,
         "type": "scatter",
         "x": [
          7.334
         ],
         "xaxis": "x",
         "y": [
          1.17278
         ],
         "yaxis": "y"
        },
        {
         "hovertemplate": "Country=Australia<br>Happiness_Score=%{x}<br>Family=%{y}<br>Happiness_Rank=%{marker.size}<extra></extra>",
         "legendgroup": "Australia",
         "marker": {
          "color": "#FF97FF",
          "size": [
           9
          ],
          "sizemode": "area",
          "sizeref": 0.3925,
          "symbol": "circle"
         },
         "mode": "markers",
         "name": "Australia",
         "orientation": "v",
         "showlegend": true,
         "type": "scatter",
         "x": [
          7.313
         ],
         "xaxis": "x",
         "y": [
          1.10476
         ],
         "yaxis": "y"
        },
        {
         "hovertemplate": "Country=Sweden<br>Happiness_Score=%{x}<br>Family=%{y}<br>Happiness_Rank=%{marker.size}<extra></extra>",
         "legendgroup": "Sweden",
         "marker": {
          "color": "#FECB52",
          "size": [
           10
          ],
          "sizemode": "area",
          "sizeref": 0.3925,
          "symbol": "circle"
         },
         "mode": "markers",
         "name": "Sweden",
         "orientation": "v",
         "showlegend": true,
         "type": "scatter",
         "x": [
          7.291
         ],
         "xaxis": "x",
         "y": [
          1.08764
         ],
         "yaxis": "y"
        },
        {
         "hovertemplate": "Country=Israel<br>Happiness_Score=%{x}<br>Family=%{y}<br>Happiness_Rank=%{marker.size}<extra></extra>",
         "legendgroup": "Israel",
         "marker": {
          "color": "#636efa",
          "size": [
           11
          ],
          "sizemode": "area",
          "sizeref": 0.3925,
          "symbol": "circle"
         },
         "mode": "markers",
         "name": "Israel",
         "orientation": "v",
         "showlegend": true,
         "type": "scatter",
         "x": [
          7.267
         ],
         "xaxis": "x",
         "y": [
          0.99537
         ],
         "yaxis": "y"
        },
        {
         "hovertemplate": "Country=Austria<br>Happiness_Score=%{x}<br>Family=%{y}<br>Happiness_Rank=%{marker.size}<extra></extra>",
         "legendgroup": "Austria",
         "marker": {
          "color": "#EF553B",
          "size": [
           12
          ],
          "sizemode": "area",
          "sizeref": 0.3925,
          "symbol": "circle"
         },
         "mode": "markers",
         "name": "Austria",
         "orientation": "v",
         "showlegend": true,
         "type": "scatter",
         "x": [
          7.119
         ],
         "xaxis": "x",
         "y": [
          1.08383
         ],
         "yaxis": "y"
        },
        {
         "hovertemplate": "Country=United States<br>Happiness_Score=%{x}<br>Family=%{y}<br>Happiness_Rank=%{marker.size}<extra></extra>",
         "legendgroup": "United States",
         "marker": {
          "color": "#00cc96",
          "size": [
           13
          ],
          "sizemode": "area",
          "sizeref": 0.3925,
          "symbol": "circle"
         },
         "mode": "markers",
         "name": "United States",
         "orientation": "v",
         "showlegend": true,
         "type": "scatter",
         "x": [
          7.104
         ],
         "xaxis": "x",
         "y": [
          1.04782
         ],
         "yaxis": "y"
        },
        {
         "hovertemplate": "Country=Costa Rica<br>Happiness_Score=%{x}<br>Family=%{y}<br>Happiness_Rank=%{marker.size}<extra></extra>",
         "legendgroup": "Costa Rica",
         "marker": {
          "color": "#ab63fa",
          "size": [
           14
          ],
          "sizemode": "area",
          "sizeref": 0.3925,
          "symbol": "circle"
         },
         "mode": "markers",
         "name": "Costa Rica",
         "orientation": "v",
         "showlegend": true,
         "type": "scatter",
         "x": [
          7.087
         ],
         "xaxis": "x",
         "y": [
          1.02152
         ],
         "yaxis": "y"
        },
        {
         "hovertemplate": "Country=Puerto Rico<br>Happiness_Score=%{x}<br>Family=%{y}<br>Happiness_Rank=%{marker.size}<extra></extra>",
         "legendgroup": "Puerto Rico",
         "marker": {
          "color": "#FFA15A",
          "size": [
           15
          ],
          "sizemode": "area",
          "sizeref": 0.3925,
          "symbol": "circle"
         },
         "mode": "markers",
         "name": "Puerto Rico",
         "orientation": "v",
         "showlegend": true,
         "type": "scatter",
         "x": [
          7.039
         ],
         "xaxis": "x",
         "y": [
          1.08113
         ],
         "yaxis": "y"
        },
        {
         "hovertemplate": "Country=Germany<br>Happiness_Score=%{x}<br>Family=%{y}<br>Happiness_Rank=%{marker.size}<extra></extra>",
         "legendgroup": "Germany",
         "marker": {
          "color": "#19d3f3",
          "size": [
           16
          ],
          "sizemode": "area",
          "sizeref": 0.3925,
          "symbol": "circle"
         },
         "mode": "markers",
         "name": "Germany",
         "orientation": "v",
         "showlegend": true,
         "type": "scatter",
         "x": [
          6.994
         ],
         "xaxis": "x",
         "y": [
          1.09774
         ],
         "yaxis": "y"
        },
        {
         "hovertemplate": "Country=Brazil<br>Happiness_Score=%{x}<br>Family=%{y}<br>Happiness_Rank=%{marker.size}<extra></extra>",
         "legendgroup": "Brazil",
         "marker": {
          "color": "#FF6692",
          "size": [
           17
          ],
          "sizemode": "area",
          "sizeref": 0.3925,
          "symbol": "circle"
         },
         "mode": "markers",
         "name": "Brazil",
         "orientation": "v",
         "showlegend": true,
         "type": "scatter",
         "x": [
          6.952
         ],
         "xaxis": "x",
         "y": [
          1.03938
         ],
         "yaxis": "y"
        },
        {
         "hovertemplate": "Country=Belgium<br>Happiness_Score=%{x}<br>Family=%{y}<br>Happiness_Rank=%{marker.size}<extra></extra>",
         "legendgroup": "Belgium",
         "marker": {
          "color": "#B6E880",
          "size": [
           18
          ],
          "sizemode": "area",
          "sizeref": 0.3925,
          "symbol": "circle"
         },
         "mode": "markers",
         "name": "Belgium",
         "orientation": "v",
         "showlegend": true,
         "type": "scatter",
         "x": [
          6.929
         ],
         "xaxis": "x",
         "y": [
          1.05249
         ],
         "yaxis": "y"
        },
        {
         "hovertemplate": "Country=Ireland<br>Happiness_Score=%{x}<br>Family=%{y}<br>Happiness_Rank=%{marker.size}<extra></extra>",
         "legendgroup": "Ireland",
         "marker": {
          "color": "#FF97FF",
          "size": [
           19
          ],
          "sizemode": "area",
          "sizeref": 0.3925,
          "symbol": "circle"
         },
         "mode": "markers",
         "name": "Ireland",
         "orientation": "v",
         "showlegend": true,
         "type": "scatter",
         "x": [
          6.907
         ],
         "xaxis": "x",
         "y": [
          1.16157
         ],
         "yaxis": "y"
        },
        {
         "hovertemplate": "Country=Luxembourg<br>Happiness_Score=%{x}<br>Family=%{y}<br>Happiness_Rank=%{marker.size}<extra></extra>",
         "legendgroup": "Luxembourg",
         "marker": {
          "color": "#FECB52",
          "size": [
           20
          ],
          "sizemode": "area",
          "sizeref": 0.3925,
          "symbol": "circle"
         },
         "mode": "markers",
         "name": "Luxembourg",
         "orientation": "v",
         "showlegend": true,
         "type": "scatter",
         "x": [
          6.871
         ],
         "xaxis": "x",
         "y": [
          1.03999
         ],
         "yaxis": "y"
        },
        {
         "hovertemplate": "Country=Mexico<br>Happiness_Score=%{x}<br>Family=%{y}<br>Happiness_Rank=%{marker.size}<extra></extra>",
         "legendgroup": "Mexico",
         "marker": {
          "color": "#636efa",
          "size": [
           21
          ],
          "sizemode": "area",
          "sizeref": 0.3925,
          "symbol": "circle"
         },
         "mode": "markers",
         "name": "Mexico",
         "orientation": "v",
         "showlegend": true,
         "type": "scatter",
         "x": [
          6.778
         ],
         "xaxis": "x",
         "y": [
          0.7146
         ],
         "yaxis": "y"
        },
        {
         "hovertemplate": "Country=Singapore<br>Happiness_Score=%{x}<br>Family=%{y}<br>Happiness_Rank=%{marker.size}<extra></extra>",
         "legendgroup": "Singapore",
         "marker": {
          "color": "#EF553B",
          "size": [
           22
          ],
          "sizemode": "area",
          "sizeref": 0.3925,
          "symbol": "circle"
         },
         "mode": "markers",
         "name": "Singapore",
         "orientation": "v",
         "showlegend": true,
         "type": "scatter",
         "x": [
          6.739
         ],
         "xaxis": "x",
         "y": [
          0.86758
         ],
         "yaxis": "y"
        },
        {
         "hovertemplate": "Country=United Kingdom<br>Happiness_Score=%{x}<br>Family=%{y}<br>Happiness_Rank=%{marker.size}<extra></extra>",
         "legendgroup": "United Kingdom",
         "marker": {
          "color": "#00cc96",
          "size": [
           23
          ],
          "sizemode": "area",
          "sizeref": 0.3925,
          "symbol": "circle"
         },
         "mode": "markers",
         "name": "United Kingdom",
         "orientation": "v",
         "showlegend": true,
         "type": "scatter",
         "x": [
          6.725
         ],
         "xaxis": "x",
         "y": [
          1.08672
         ],
         "yaxis": "y"
        },
        {
         "hovertemplate": "Country=Chile<br>Happiness_Score=%{x}<br>Family=%{y}<br>Happiness_Rank=%{marker.size}<extra></extra>",
         "legendgroup": "Chile",
         "marker": {
          "color": "#ab63fa",
          "size": [
           24
          ],
          "sizemode": "area",
          "sizeref": 0.3925,
          "symbol": "circle"
         },
         "mode": "markers",
         "name": "Chile",
         "orientation": "v",
         "showlegend": true,
         "type": "scatter",
         "x": [
          6.705
         ],
         "xaxis": "x",
         "y": [
          0.90587
         ],
         "yaxis": "y"
        },
        {
         "hovertemplate": "Country=Panama<br>Happiness_Score=%{x}<br>Family=%{y}<br>Happiness_Rank=%{marker.size}<extra></extra>",
         "legendgroup": "Panama",
         "marker": {
          "color": "#FFA15A",
          "size": [
           25
          ],
          "sizemode": "area",
          "sizeref": 0.3925,
          "symbol": "circle"
         },
         "mode": "markers",
         "name": "Panama",
         "orientation": "v",
         "showlegend": true,
         "type": "scatter",
         "x": [
          6.701
         ],
         "xaxis": "x",
         "y": [
          0.98912
         ],
         "yaxis": "y"
        },
        {
         "hovertemplate": "Country=Argentina<br>Happiness_Score=%{x}<br>Family=%{y}<br>Happiness_Rank=%{marker.size}<extra></extra>",
         "legendgroup": "Argentina",
         "marker": {
          "color": "#19d3f3",
          "size": [
           26
          ],
          "sizemode": "area",
          "sizeref": 0.3925,
          "symbol": "circle"
         },
         "mode": "markers",
         "name": "Argentina",
         "orientation": "v",
         "showlegend": true,
         "type": "scatter",
         "x": [
          6.65
         ],
         "xaxis": "x",
         "y": [
          1.06612
         ],
         "yaxis": "y"
        },
        {
         "hovertemplate": "Country=Czech Republic<br>Happiness_Score=%{x}<br>Family=%{y}<br>Happiness_Rank=%{marker.size}<extra></extra>",
         "legendgroup": "Czech Republic",
         "marker": {
          "color": "#FF6692",
          "size": [
           27
          ],
          "sizemode": "area",
          "sizeref": 0.3925,
          "symbol": "circle"
         },
         "mode": "markers",
         "name": "Czech Republic",
         "orientation": "v",
         "showlegend": true,
         "type": "scatter",
         "x": [
          6.596
         ],
         "xaxis": "x",
         "y": [
          1.00793
         ],
         "yaxis": "y"
        },
        {
         "hovertemplate": "Country=United Arab Emirates<br>Happiness_Score=%{x}<br>Family=%{y}<br>Happiness_Rank=%{marker.size}<extra></extra>",
         "legendgroup": "United Arab Emirates",
         "marker": {
          "color": "#B6E880",
          "size": [
           28
          ],
          "sizemode": "area",
          "sizeref": 0.3925,
          "symbol": "circle"
         },
         "mode": "markers",
         "name": "United Arab Emirates",
         "orientation": "v",
         "showlegend": true,
         "type": "scatter",
         "x": [
          6.573
         ],
         "xaxis": "x",
         "y": [
          0.87114
         ],
         "yaxis": "y"
        },
        {
         "hovertemplate": "Country=Uruguay<br>Happiness_Score=%{x}<br>Family=%{y}<br>Happiness_Rank=%{marker.size}<extra></extra>",
         "legendgroup": "Uruguay",
         "marker": {
          "color": "#FF97FF",
          "size": [
           29
          ],
          "sizemode": "area",
          "sizeref": 0.3925,
          "symbol": "circle"
         },
         "mode": "markers",
         "name": "Uruguay",
         "orientation": "v",
         "showlegend": true,
         "type": "scatter",
         "x": [
          6.545
         ],
         "xaxis": "x",
         "y": [
          1.03143
         ],
         "yaxis": "y"
        },
        {
         "hovertemplate": "Country=Malta<br>Happiness_Score=%{x}<br>Family=%{y}<br>Happiness_Rank=%{marker.size}<extra></extra>",
         "legendgroup": "Malta",
         "marker": {
          "color": "#FECB52",
          "size": [
           30
          ],
          "sizemode": "area",
          "sizeref": 0.3925,
          "symbol": "circle"
         },
         "mode": "markers",
         "name": "Malta",
         "orientation": "v",
         "showlegend": true,
         "type": "scatter",
         "x": [
          6.488
         ],
         "xaxis": "x",
         "y": [
          1.09879
         ],
         "yaxis": "y"
        },
        {
         "hovertemplate": "Country=Colombia<br>Happiness_Score=%{x}<br>Family=%{y}<br>Happiness_Rank=%{marker.size}<extra></extra>",
         "legendgroup": "Colombia",
         "marker": {
          "color": "#636efa",
          "size": [
           31
          ],
          "sizemode": "area",
          "sizeref": 0.3925,
          "symbol": "circle"
         },
         "mode": "markers",
         "name": "Colombia",
         "orientation": "v",
         "showlegend": true,
         "type": "scatter",
         "x": [
          6.481
         ],
         "xaxis": "x",
         "y": [
          1.02169
         ],
         "yaxis": "y"
        },
        {
         "hovertemplate": "Country=France<br>Happiness_Score=%{x}<br>Family=%{y}<br>Happiness_Rank=%{marker.size}<extra></extra>",
         "legendgroup": "France",
         "marker": {
          "color": "#EF553B",
          "size": [
           32
          ],
          "sizemode": "area",
          "sizeref": 0.3925,
          "symbol": "circle"
         },
         "mode": "markers",
         "name": "France",
         "orientation": "v",
         "showlegend": true,
         "type": "scatter",
         "x": [
          6.478
         ],
         "xaxis": "x",
         "y": [
          1.00508
         ],
         "yaxis": "y"
        },
        {
         "hovertemplate": "Country=Thailand<br>Happiness_Score=%{x}<br>Family=%{y}<br>Happiness_Rank=%{marker.size}<extra></extra>",
         "legendgroup": "Thailand",
         "marker": {
          "color": "#00cc96",
          "size": [
           33
          ],
          "sizemode": "area",
          "sizeref": 0.3925,
          "symbol": "circle"
         },
         "mode": "markers",
         "name": "Thailand",
         "orientation": "v",
         "showlegend": true,
         "type": "scatter",
         "x": [
          6.474
         ],
         "xaxis": "x",
         "y": [
          1.04477
         ],
         "yaxis": "y"
        },
        {
         "hovertemplate": "Country=Saudi Arabia<br>Happiness_Score=%{x}<br>Family=%{y}<br>Happiness_Rank=%{marker.size}<extra></extra>",
         "legendgroup": "Saudi Arabia",
         "marker": {
          "color": "#ab63fa",
          "size": [
           34
          ],
          "sizemode": "area",
          "sizeref": 0.3925,
          "symbol": "circle"
         },
         "mode": "markers",
         "name": "Saudi Arabia",
         "orientation": "v",
         "showlegend": true,
         "type": "scatter",
         "x": [
          6.379
         ],
         "xaxis": "x",
         "y": [
          0.84829
         ],
         "yaxis": "y"
        },
        {
         "hovertemplate": "Country=Taiwan<br>Happiness_Score=%{x}<br>Family=%{y}<br>Happiness_Rank=%{marker.size}<extra></extra>",
         "legendgroup": "Taiwan",
         "marker": {
          "color": "#FFA15A",
          "size": [
           34
          ],
          "sizemode": "area",
          "sizeref": 0.3925,
          "symbol": "circle"
         },
         "mode": "markers",
         "name": "Taiwan",
         "orientation": "v",
         "showlegend": true,
         "type": "scatter",
         "x": [
          6.379
         ],
         "xaxis": "x",
         "y": [
          0.92624
         ],
         "yaxis": "y"
        },
        {
         "hovertemplate": "Country=Qatar<br>Happiness_Score=%{x}<br>Family=%{y}<br>Happiness_Rank=%{marker.size}<extra></extra>",
         "legendgroup": "Qatar",
         "marker": {
          "color": "#19d3f3",
          "size": [
           36
          ],
          "sizemode": "area",
          "sizeref": 0.3925,
          "symbol": "circle"
         },
         "mode": "markers",
         "name": "Qatar",
         "orientation": "v",
         "showlegend": true,
         "type": "scatter",
         "x": [
          6.375
         ],
         "xaxis": "x",
         "y": [
          0.87964
         ],
         "yaxis": "y"
        },
        {
         "hovertemplate": "Country=Spain<br>Happiness_Score=%{x}<br>Family=%{y}<br>Happiness_Rank=%{marker.size}<extra></extra>",
         "legendgroup": "Spain",
         "marker": {
          "color": "#FF6692",
          "size": [
           37
          ],
          "sizemode": "area",
          "sizeref": 0.3925,
          "symbol": "circle"
         },
         "mode": "markers",
         "name": "Spain",
         "orientation": "v",
         "showlegend": true,
         "type": "scatter",
         "x": [
          6.361
         ],
         "xaxis": "x",
         "y": [
          1.12945
         ],
         "yaxis": "y"
        },
        {
         "hovertemplate": "Country=Algeria<br>Happiness_Score=%{x}<br>Family=%{y}<br>Happiness_Rank=%{marker.size}<extra></extra>",
         "legendgroup": "Algeria",
         "marker": {
          "color": "#B6E880",
          "size": [
           38
          ],
          "sizemode": "area",
          "sizeref": 0.3925,
          "symbol": "circle"
         },
         "mode": "markers",
         "name": "Algeria",
         "orientation": "v",
         "showlegend": true,
         "type": "scatter",
         "x": [
          6.355
         ],
         "xaxis": "x",
         "y": [
          0.83309
         ],
         "yaxis": "y"
        },
        {
         "hovertemplate": "Country=Guatemala<br>Happiness_Score=%{x}<br>Family=%{y}<br>Happiness_Rank=%{marker.size}<extra></extra>",
         "legendgroup": "Guatemala",
         "marker": {
          "color": "#FF97FF",
          "size": [
           39
          ],
          "sizemode": "area",
          "sizeref": 0.3925,
          "symbol": "circle"
         },
         "mode": "markers",
         "name": "Guatemala",
         "orientation": "v",
         "showlegend": true,
         "type": "scatter",
         "x": [
          6.324
         ],
         "xaxis": "x",
         "y": [
          0.87119
         ],
         "yaxis": "y"
        },
        {
         "hovertemplate": "Country=Suriname<br>Happiness_Score=%{x}<br>Family=%{y}<br>Happiness_Rank=%{marker.size}<extra></extra>",
         "legendgroup": "Suriname",
         "marker": {
          "color": "#FECB52",
          "size": [
           40
          ],
          "sizemode": "area",
          "sizeref": 0.3925,
          "symbol": "circle"
         },
         "mode": "markers",
         "name": "Suriname",
         "orientation": "v",
         "showlegend": true,
         "type": "scatter",
         "x": [
          6.269
         ],
         "xaxis": "x",
         "y": [
          0.77866
         ],
         "yaxis": "y"
        },
        {
         "hovertemplate": "Country=Kuwait<br>Happiness_Score=%{x}<br>Family=%{y}<br>Happiness_Rank=%{marker.size}<extra></extra>",
         "legendgroup": "Kuwait",
         "marker": {
          "color": "#636efa",
          "size": [
           41
          ],
          "sizemode": "area",
          "sizeref": 0.3925,
          "symbol": "circle"
         },
         "mode": "markers",
         "name": "Kuwait",
         "orientation": "v",
         "showlegend": true,
         "type": "scatter",
         "x": [
          6.239
         ],
         "xaxis": "x",
         "y": [
          0.87758
         ],
         "yaxis": "y"
        },
        {
         "hovertemplate": "Country=Bahrain<br>Happiness_Score=%{x}<br>Family=%{y}<br>Happiness_Rank=%{marker.size}<extra></extra>",
         "legendgroup": "Bahrain",
         "marker": {
          "color": "#EF553B",
          "size": [
           42
          ],
          "sizemode": "area",
          "sizeref": 0.3925,
          "symbol": "circle"
         },
         "mode": "markers",
         "name": "Bahrain",
         "orientation": "v",
         "showlegend": true,
         "type": "scatter",
         "x": [
          6.218
         ],
         "xaxis": "x",
         "y": [
          0.94397
         ],
         "yaxis": "y"
        },
        {
         "hovertemplate": "Country=Trinidad and Tobago<br>Happiness_Score=%{x}<br>Family=%{y}<br>Happiness_Rank=%{marker.size}<extra></extra>",
         "legendgroup": "Trinidad and Tobago",
         "marker": {
          "color": "#00cc96",
          "size": [
           43
          ],
          "sizemode": "area",
          "sizeref": 0.3925,
          "symbol": "circle"
         },
         "mode": "markers",
         "name": "Trinidad and Tobago",
         "orientation": "v",
         "showlegend": true,
         "type": "scatter",
         "x": [
          6.168
         ],
         "xaxis": "x",
         "y": [
          0.98569
         ],
         "yaxis": "y"
        },
        {
         "hovertemplate": "Country=Venezuela<br>Happiness_Score=%{x}<br>Family=%{y}<br>Happiness_Rank=%{marker.size}<extra></extra>",
         "legendgroup": "Venezuela",
         "marker": {
          "color": "#ab63fa",
          "size": [
           44
          ],
          "sizemode": "area",
          "sizeref": 0.3925,
          "symbol": "circle"
         },
         "mode": "markers",
         "name": "Venezuela",
         "orientation": "v",
         "showlegend": true,
         "type": "scatter",
         "x": [
          6.084
         ],
         "xaxis": "x",
         "y": [
          1.03302
         ],
         "yaxis": "y"
        },
        {
         "hovertemplate": "Country=Slovakia<br>Happiness_Score=%{x}<br>Family=%{y}<br>Happiness_Rank=%{marker.size}<extra></extra>",
         "legendgroup": "Slovakia",
         "marker": {
          "color": "#FFA15A",
          "size": [
           45
          ],
          "sizemode": "area",
          "sizeref": 0.3925,
          "symbol": "circle"
         },
         "mode": "markers",
         "name": "Slovakia",
         "orientation": "v",
         "showlegend": true,
         "type": "scatter",
         "x": [
          6.078
         ],
         "xaxis": "x",
         "y": [
          1.08268
         ],
         "yaxis": "y"
        },
        {
         "hovertemplate": "Country=El Salvador<br>Happiness_Score=%{x}<br>Family=%{y}<br>Happiness_Rank=%{marker.size}<extra></extra>",
         "legendgroup": "El Salvador",
         "marker": {
          "color": "#19d3f3",
          "size": [
           46
          ],
          "sizemode": "area",
          "sizeref": 0.3925,
          "symbol": "circle"
         },
         "mode": "markers",
         "name": "El Salvador",
         "orientation": "v",
         "showlegend": true,
         "type": "scatter",
         "x": [
          6.068
         ],
         "xaxis": "x",
         "y": [
          0.80975
         ],
         "yaxis": "y"
        },
        {
         "hovertemplate": "Country=Malaysia<br>Happiness_Score=%{x}<br>Family=%{y}<br>Happiness_Rank=%{marker.size}<extra></extra>",
         "legendgroup": "Malaysia",
         "marker": {
          "color": "#FF6692",
          "size": [
           47
          ],
          "sizemode": "area",
          "sizeref": 0.3925,
          "symbol": "circle"
         },
         "mode": "markers",
         "name": "Malaysia",
         "orientation": "v",
         "showlegend": true,
         "type": "scatter",
         "x": [
          6.005
         ],
         "xaxis": "x",
         "y": [
          0.88025
         ],
         "yaxis": "y"
        },
        {
         "hovertemplate": "Country=Nicaragua<br>Happiness_Score=%{x}<br>Family=%{y}<br>Happiness_Rank=%{marker.size}<extra></extra>",
         "legendgroup": "Nicaragua",
         "marker": {
          "color": "#B6E880",
          "size": [
           48
          ],
          "sizemode": "area",
          "sizeref": 0.3925,
          "symbol": "circle"
         },
         "mode": "markers",
         "name": "Nicaragua",
         "orientation": "v",
         "showlegend": true,
         "type": "scatter",
         "x": [
          5.992
         ],
         "xaxis": "x",
         "y": [
          0.89521
         ],
         "yaxis": "y"
        },
        {
         "hovertemplate": "Country=Uzbekistan<br>Happiness_Score=%{x}<br>Family=%{y}<br>Happiness_Rank=%{marker.size}<extra></extra>",
         "legendgroup": "Uzbekistan",
         "marker": {
          "color": "#FF97FF",
          "size": [
           49
          ],
          "sizemode": "area",
          "sizeref": 0.3925,
          "symbol": "circle"
         },
         "mode": "markers",
         "name": "Uzbekistan",
         "orientation": "v",
         "showlegend": true,
         "type": "scatter",
         "x": [
          5.987
         ],
         "xaxis": "x",
         "y": [
          1.1681
         ],
         "yaxis": "y"
        },
        {
         "hovertemplate": "Country=Italy<br>Happiness_Score=%{x}<br>Family=%{y}<br>Happiness_Rank=%{marker.size}<extra></extra>",
         "legendgroup": "Italy",
         "marker": {
          "color": "#FECB52",
          "size": [
           50
          ],
          "sizemode": "area",
          "sizeref": 0.3925,
          "symbol": "circle"
         },
         "mode": "markers",
         "name": "Italy",
         "orientation": "v",
         "showlegend": true,
         "type": "scatter",
         "x": [
          5.977
         ],
         "xaxis": "x",
         "y": [
          1.04167
         ],
         "yaxis": "y"
        },
        {
         "hovertemplate": "Country=Ecuador<br>Happiness_Score=%{x}<br>Family=%{y}<br>Happiness_Rank=%{marker.size}<extra></extra>",
         "legendgroup": "Ecuador",
         "marker": {
          "color": "#636efa",
          "size": [
           51
          ],
          "sizemode": "area",
          "sizeref": 0.3925,
          "symbol": "circle"
         },
         "mode": "markers",
         "name": "Ecuador",
         "orientation": "v",
         "showlegend": true,
         "type": "scatter",
         "x": [
          5.976
         ],
         "xaxis": "x",
         "y": [
          0.85974
         ],
         "yaxis": "y"
        },
        {
         "hovertemplate": "Country=Belize<br>Happiness_Score=%{x}<br>Family=%{y}<br>Happiness_Rank=%{marker.size}<extra></extra>",
         "legendgroup": "Belize",
         "marker": {
          "color": "#EF553B",
          "size": [
           52
          ],
          "sizemode": "area",
          "sizeref": 0.3925,
          "symbol": "circle"
         },
         "mode": "markers",
         "name": "Belize",
         "orientation": "v",
         "showlegend": true,
         "type": "scatter",
         "x": [
          5.956
         ],
         "xaxis": "x",
         "y": [
          0.68655
         ],
         "yaxis": "y"
        },
        {
         "hovertemplate": "Country=Japan<br>Happiness_Score=%{x}<br>Family=%{y}<br>Happiness_Rank=%{marker.size}<extra></extra>",
         "legendgroup": "Japan",
         "marker": {
          "color": "#00cc96",
          "size": [
           53
          ],
          "sizemode": "area",
          "sizeref": 0.3925,
          "symbol": "circle"
         },
         "mode": "markers",
         "name": "Japan",
         "orientation": "v",
         "showlegend": true,
         "type": "scatter",
         "x": [
          5.921
         ],
         "xaxis": "x",
         "y": [
          1.06054
         ],
         "yaxis": "y"
        },
        {
         "hovertemplate": "Country=Kazakhstan<br>Happiness_Score=%{x}<br>Family=%{y}<br>Happiness_Rank=%{marker.size}<extra></extra>",
         "legendgroup": "Kazakhstan",
         "marker": {
          "color": "#ab63fa",
          "size": [
           54
          ],
          "sizemode": "area",
          "sizeref": 0.3925,
          "symbol": "circle"
         },
         "mode": "markers",
         "name": "Kazakhstan",
         "orientation": "v",
         "showlegend": true,
         "type": "scatter",
         "x": [
          5.919
         ],
         "xaxis": "x",
         "y": [
          0.95544
         ],
         "yaxis": "y"
        },
        {
         "hovertemplate": "Country=Moldova<br>Happiness_Score=%{x}<br>Family=%{y}<br>Happiness_Rank=%{marker.size}<extra></extra>",
         "legendgroup": "Moldova",
         "marker": {
          "color": "#FFA15A",
          "size": [
           55
          ],
          "sizemode": "area",
          "sizeref": 0.3925,
          "symbol": "circle"
         },
         "mode": "markers",
         "name": "Moldova",
         "orientation": "v",
         "showlegend": true,
         "type": "scatter",
         "x": [
          5.897
         ],
         "xaxis": "x",
         "y": [
          0.83132
         ],
         "yaxis": "y"
        },
        {
         "hovertemplate": "Country=Russia<br>Happiness_Score=%{x}<br>Family=%{y}<br>Happiness_Rank=%{marker.size}<extra></extra>",
         "legendgroup": "Russia",
         "marker": {
          "color": "#19d3f3",
          "size": [
           56
          ],
          "sizemode": "area",
          "sizeref": 0.3925,
          "symbol": "circle"
         },
         "mode": "markers",
         "name": "Russia",
         "orientation": "v",
         "showlegend": true,
         "type": "scatter",
         "x": [
          5.856
         ],
         "xaxis": "x",
         "y": [
          1.05261
         ],
         "yaxis": "y"
        },
        {
         "hovertemplate": "Country=Poland<br>Happiness_Score=%{x}<br>Family=%{y}<br>Happiness_Rank=%{marker.size}<extra></extra>",
         "legendgroup": "Poland",
         "marker": {
          "color": "#FF6692",
          "size": [
           57
          ],
          "sizemode": "area",
          "sizeref": 0.3925,
          "symbol": "circle"
         },
         "mode": "markers",
         "name": "Poland",
         "orientation": "v",
         "showlegend": true,
         "type": "scatter",
         "x": [
          5.835
         ],
         "xaxis": "x",
         "y": [
          1.04685
         ],
         "yaxis": "y"
        },
        {
         "hovertemplate": "Country=South Korea<br>Happiness_Score=%{x}<br>Family=%{y}<br>Happiness_Rank=%{marker.size}<extra></extra>",
         "legendgroup": "South Korea",
         "marker": {
          "color": "#B6E880",
          "size": [
           57
          ],
          "sizemode": "area",
          "sizeref": 0.3925,
          "symbol": "circle"
         },
         "mode": "markers",
         "name": "South Korea",
         "orientation": "v",
         "showlegend": true,
         "type": "scatter",
         "x": [
          5.835
         ],
         "xaxis": "x",
         "y": [
          0.72194
         ],
         "yaxis": "y"
        },
        {
         "hovertemplate": "Country=Bolivia<br>Happiness_Score=%{x}<br>Family=%{y}<br>Happiness_Rank=%{marker.size}<extra></extra>",
         "legendgroup": "Bolivia",
         "marker": {
          "color": "#FF97FF",
          "size": [
           59
          ],
          "sizemode": "area",
          "sizeref": 0.3925,
          "symbol": "circle"
         },
         "mode": "markers",
         "name": "Bolivia",
         "orientation": "v",
         "showlegend": true,
         "type": "scatter",
         "x": [
          5.822
         ],
         "xaxis": "x",
         "y": [
          0.83779
         ],
         "yaxis": "y"
        },
        {
         "hovertemplate": "Country=Lithuania<br>Happiness_Score=%{x}<br>Family=%{y}<br>Happiness_Rank=%{marker.size}<extra></extra>",
         "legendgroup": "Lithuania",
         "marker": {
          "color": "#FECB52",
          "size": [
           60
          ],
          "sizemode": "area",
          "sizeref": 0.3925,
          "symbol": "circle"
         },
         "mode": "markers",
         "name": "Lithuania",
         "orientation": "v",
         "showlegend": true,
         "type": "scatter",
         "x": [
          5.813
         ],
         "xaxis": "x",
         "y": [
          1.06411
         ],
         "yaxis": "y"
        },
        {
         "hovertemplate": "Country=Belarus<br>Happiness_Score=%{x}<br>Family=%{y}<br>Happiness_Rank=%{marker.size}<extra></extra>",
         "legendgroup": "Belarus",
         "marker": {
          "color": "#636efa",
          "size": [
           61
          ],
          "sizemode": "area",
          "sizeref": 0.3925,
          "symbol": "circle"
         },
         "mode": "markers",
         "name": "Belarus",
         "orientation": "v",
         "showlegend": true,
         "type": "scatter",
         "x": [
          5.802
         ],
         "xaxis": "x",
         "y": [
          1.04993
         ],
         "yaxis": "y"
        },
        {
         "hovertemplate": "Country=North Cyprus<br>Happiness_Score=%{x}<br>Family=%{y}<br>Happiness_Rank=%{marker.size}<extra></extra>",
         "legendgroup": "North Cyprus",
         "marker": {
          "color": "#EF553B",
          "size": [
           62
          ],
          "sizemode": "area",
          "sizeref": 0.3925,
          "symbol": "circle"
         },
         "mode": "markers",
         "name": "North Cyprus",
         "orientation": "v",
         "showlegend": true,
         "type": "scatter",
         "x": [
          5.771
         ],
         "xaxis": "x",
         "y": [
          0.81826
         ],
         "yaxis": "y"
        },
        {
         "hovertemplate": "Country=Slovenia<br>Happiness_Score=%{x}<br>Family=%{y}<br>Happiness_Rank=%{marker.size}<extra></extra>",
         "legendgroup": "Slovenia",
         "marker": {
          "color": "#00cc96",
          "size": [
           63
          ],
          "sizemode": "area",
          "sizeref": 0.3925,
          "symbol": "circle"
         },
         "mode": "markers",
         "name": "Slovenia",
         "orientation": "v",
         "showlegend": true,
         "type": "scatter",
         "x": [
          5.768
         ],
         "xaxis": "x",
         "y": [
          1.05613
         ],
         "yaxis": "y"
        },
        {
         "hovertemplate": "Country=Peru<br>Happiness_Score=%{x}<br>Family=%{y}<br>Happiness_Rank=%{marker.size}<extra></extra>",
         "legendgroup": "Peru",
         "marker": {
          "color": "#ab63fa",
          "size": [
           64
          ],
          "sizemode": "area",
          "sizeref": 0.3925,
          "symbol": "circle"
         },
         "mode": "markers",
         "name": "Peru",
         "orientation": "v",
         "showlegend": true,
         "type": "scatter",
         "x": [
          5.743
         ],
         "xaxis": "x",
         "y": [
          0.81255
         ],
         "yaxis": "y"
        },
        {
         "hovertemplate": "Country=Turkmenistan<br>Happiness_Score=%{x}<br>Family=%{y}<br>Happiness_Rank=%{marker.size}<extra></extra>",
         "legendgroup": "Turkmenistan",
         "marker": {
          "color": "#FFA15A",
          "size": [
           65
          ],
          "sizemode": "area",
          "sizeref": 0.3925,
          "symbol": "circle"
         },
         "mode": "markers",
         "name": "Turkmenistan",
         "orientation": "v",
         "showlegend": true,
         "type": "scatter",
         "x": [
          5.658
         ],
         "xaxis": "x",
         "y": [
          1.03817
         ],
         "yaxis": "y"
        },
        {
         "hovertemplate": "Country=Mauritius<br>Happiness_Score=%{x}<br>Family=%{y}<br>Happiness_Rank=%{marker.size}<extra></extra>",
         "legendgroup": "Mauritius",
         "marker": {
          "color": "#19d3f3",
          "size": [
           66
          ],
          "sizemode": "area",
          "sizeref": 0.3925,
          "symbol": "circle"
         },
         "mode": "markers",
         "name": "Mauritius",
         "orientation": "v",
         "showlegend": true,
         "type": "scatter",
         "x": [
          5.648
         ],
         "xaxis": "x",
         "y": [
          0.75695
         ],
         "yaxis": "y"
        },
        {
         "hovertemplate": "Country=Libya<br>Happiness_Score=%{x}<br>Family=%{y}<br>Happiness_Rank=%{marker.size}<extra></extra>",
         "legendgroup": "Libya",
         "marker": {
          "color": "#FF6692",
          "size": [
           67
          ],
          "sizemode": "area",
          "sizeref": 0.3925,
          "symbol": "circle"
         },
         "mode": "markers",
         "name": "Libya",
         "orientation": "v",
         "showlegend": true,
         "type": "scatter",
         "x": [
          5.615
         ],
         "xaxis": "x",
         "y": [
          0.95076
         ],
         "yaxis": "y"
        },
        {
         "hovertemplate": "Country=Latvia<br>Happiness_Score=%{x}<br>Family=%{y}<br>Happiness_Rank=%{marker.size}<extra></extra>",
         "legendgroup": "Latvia",
         "marker": {
          "color": "#B6E880",
          "size": [
           68
          ],
          "sizemode": "area",
          "sizeref": 0.3925,
          "symbol": "circle"
         },
         "mode": "markers",
         "name": "Latvia",
         "orientation": "v",
         "showlegend": true,
         "type": "scatter",
         "x": [
          5.56
         ],
         "xaxis": "x",
         "y": [
          0.95025
         ],
         "yaxis": "y"
        },
        {
         "hovertemplate": "Country=Cyprus<br>Happiness_Score=%{x}<br>Family=%{y}<br>Happiness_Rank=%{marker.size}<extra></extra>",
         "legendgroup": "Cyprus",
         "marker": {
          "color": "#FF97FF",
          "size": [
           69
          ],
          "sizemode": "area",
          "sizeref": 0.3925,
          "symbol": "circle"
         },
         "mode": "markers",
         "name": "Cyprus",
         "orientation": "v",
         "showlegend": true,
         "type": "scatter",
         "x": [
          5.546
         ],
         "xaxis": "x",
         "y": [
          0.70697
         ],
         "yaxis": "y"
        },
        {
         "hovertemplate": "Country=Paraguay<br>Happiness_Score=%{x}<br>Family=%{y}<br>Happiness_Rank=%{marker.size}<extra></extra>",
         "legendgroup": "Paraguay",
         "marker": {
          "color": "#FECB52",
          "size": [
           70
          ],
          "sizemode": "area",
          "sizeref": 0.3925,
          "symbol": "circle"
         },
         "mode": "markers",
         "name": "Paraguay",
         "orientation": "v",
         "showlegend": true,
         "type": "scatter",
         "x": [
          5.538
         ],
         "xaxis": "x",
         "y": [
          1.11111
         ],
         "yaxis": "y"
        },
        {
         "hovertemplate": "Country=Romania<br>Happiness_Score=%{x}<br>Family=%{y}<br>Happiness_Rank=%{marker.size}<extra></extra>",
         "legendgroup": "Romania",
         "marker": {
          "color": "#636efa",
          "size": [
           71
          ],
          "sizemode": "area",
          "sizeref": 0.3925,
          "symbol": "circle"
         },
         "mode": "markers",
         "name": "Romania",
         "orientation": "v",
         "showlegend": true,
         "type": "scatter",
         "x": [
          5.528
         ],
         "xaxis": "x",
         "y": [
          0.72803
         ],
         "yaxis": "y"
        },
        {
         "hovertemplate": "Country=Estonia<br>Happiness_Score=%{x}<br>Family=%{y}<br>Happiness_Rank=%{marker.size}<extra></extra>",
         "legendgroup": "Estonia",
         "marker": {
          "color": "#EF553B",
          "size": [
           72
          ],
          "sizemode": "area",
          "sizeref": 0.3925,
          "symbol": "circle"
         },
         "mode": "markers",
         "name": "Estonia",
         "orientation": "v",
         "showlegend": true,
         "type": "scatter",
         "x": [
          5.517
         ],
         "xaxis": "x",
         "y": [
          1.05163
         ],
         "yaxis": "y"
        },
        {
         "hovertemplate": "Country=Jamaica<br>Happiness_Score=%{x}<br>Family=%{y}<br>Happiness_Rank=%{marker.size}<extra></extra>",
         "legendgroup": "Jamaica",
         "marker": {
          "color": "#00cc96",
          "size": [
           73
          ],
          "sizemode": "area",
          "sizeref": 0.3925,
          "symbol": "circle"
         },
         "mode": "markers",
         "name": "Jamaica",
         "orientation": "v",
         "showlegend": true,
         "type": "scatter",
         "x": [
          5.51
         ],
         "xaxis": "x",
         "y": [
          0.96372
         ],
         "yaxis": "y"
        },
        {
         "hovertemplate": "Country=Croatia<br>Happiness_Score=%{x}<br>Family=%{y}<br>Happiness_Rank=%{marker.size}<extra></extra>",
         "legendgroup": "Croatia",
         "marker": {
          "color": "#ab63fa",
          "size": [
           74
          ],
          "sizemode": "area",
          "sizeref": 0.3925,
          "symbol": "circle"
         },
         "mode": "markers",
         "name": "Croatia",
         "orientation": "v",
         "showlegend": true,
         "type": "scatter",
         "x": [
          5.488
         ],
         "xaxis": "x",
         "y": [
          0.60809
         ],
         "yaxis": "y"
        },
        {
         "hovertemplate": "Country=Hong Kong<br>Happiness_Score=%{x}<br>Family=%{y}<br>Happiness_Rank=%{marker.size}<extra></extra>",
         "legendgroup": "Hong Kong",
         "marker": {
          "color": "#FFA15A",
          "size": [
           75
          ],
          "sizemode": "area",
          "sizeref": 0.3925,
          "symbol": "circle"
         },
         "mode": "markers",
         "name": "Hong Kong",
         "orientation": "v",
         "showlegend": true,
         "type": "scatter",
         "x": [
          5.458
         ],
         "xaxis": "x",
         "y": [
          0.87021
         ],
         "yaxis": "y"
        },
        {
         "hovertemplate": "Country=Somalia<br>Happiness_Score=%{x}<br>Family=%{y}<br>Happiness_Rank=%{marker.size}<extra></extra>",
         "legendgroup": "Somalia",
         "marker": {
          "color": "#19d3f3",
          "size": [
           76
          ],
          "sizemode": "area",
          "sizeref": 0.3925,
          "symbol": "circle"
         },
         "mode": "markers",
         "name": "Somalia",
         "orientation": "v",
         "showlegend": true,
         "type": "scatter",
         "x": [
          5.44
         ],
         "xaxis": "x",
         "y": [
          0.33613
         ],
         "yaxis": "y"
        },
        {
         "hovertemplate": "Country=Kosovo<br>Happiness_Score=%{x}<br>Family=%{y}<br>Happiness_Rank=%{marker.size}<extra></extra>",
         "legendgroup": "Kosovo",
         "marker": {
          "color": "#FF6692",
          "size": [
           77
          ],
          "sizemode": "area",
          "sizeref": 0.3925,
          "symbol": "circle"
         },
         "mode": "markers",
         "name": "Kosovo",
         "orientation": "v",
         "showlegend": true,
         "type": "scatter",
         "x": [
          5.401
         ],
         "xaxis": "x",
         "y": [
          0.66062
         ],
         "yaxis": "y"
        },
        {
         "hovertemplate": "Country=Turkey<br>Happiness_Score=%{x}<br>Family=%{y}<br>Happiness_Rank=%{marker.size}<extra></extra>",
         "legendgroup": "Turkey",
         "marker": {
          "color": "#B6E880",
          "size": [
           78
          ],
          "sizemode": "area",
          "sizeref": 0.3925,
          "symbol": "circle"
         },
         "mode": "markers",
         "name": "Turkey",
         "orientation": "v",
         "showlegend": true,
         "type": "scatter",
         "x": [
          5.389
         ],
         "xaxis": "x",
         "y": [
          0.87717
         ],
         "yaxis": "y"
        },
        {
         "hovertemplate": "Country=Indonesia<br>Happiness_Score=%{x}<br>Family=%{y}<br>Happiness_Rank=%{marker.size}<extra></extra>",
         "legendgroup": "Indonesia",
         "marker": {
          "color": "#FF97FF",
          "size": [
           79
          ],
          "sizemode": "area",
          "sizeref": 0.3925,
          "symbol": "circle"
         },
         "mode": "markers",
         "name": "Indonesia",
         "orientation": "v",
         "showlegend": true,
         "type": "scatter",
         "x": [
          5.314
         ],
         "xaxis": "x",
         "y": [
          0.87625
         ],
         "yaxis": "y"
        },
        {
         "hovertemplate": "Country=Jordan<br>Happiness_Score=%{x}<br>Family=%{y}<br>Happiness_Rank=%{marker.size}<extra></extra>",
         "legendgroup": "Jordan",
         "marker": {
          "color": "#FECB52",
          "size": [
           80
          ],
          "sizemode": "area",
          "sizeref": 0.3925,
          "symbol": "circle"
         },
         "mode": "markers",
         "name": "Jordan",
         "orientation": "v",
         "showlegend": true,
         "type": "scatter",
         "x": [
          5.303
         ],
         "xaxis": "x",
         "y": [
          0.86216
         ],
         "yaxis": "y"
        },
        {
         "hovertemplate": "Country=Azerbaijan<br>Happiness_Score=%{x}<br>Family=%{y}<br>Happiness_Rank=%{marker.size}<extra></extra>",
         "legendgroup": "Azerbaijan",
         "marker": {
          "color": "#636efa",
          "size": [
           81
          ],
          "sizemode": "area",
          "sizeref": 0.3925,
          "symbol": "circle"
         },
         "mode": "markers",
         "name": "Azerbaijan",
         "orientation": "v",
         "showlegend": true,
         "type": "scatter",
         "x": [
          5.291
         ],
         "xaxis": "x",
         "y": [
          0.76042
         ],
         "yaxis": "y"
        },
        {
         "hovertemplate": "Country=Philippines<br>Happiness_Score=%{x}<br>Family=%{y}<br>Happiness_Rank=%{marker.size}<extra></extra>",
         "legendgroup": "Philippines",
         "marker": {
          "color": "#EF553B",
          "size": [
           82
          ],
          "sizemode": "area",
          "sizeref": 0.3925,
          "symbol": "circle"
         },
         "mode": "markers",
         "name": "Philippines",
         "orientation": "v",
         "showlegend": true,
         "type": "scatter",
         "x": [
          5.279
         ],
         "xaxis": "x",
         "y": [
          0.87877
         ],
         "yaxis": "y"
        },
        {
         "hovertemplate": "Country=China<br>Happiness_Score=%{x}<br>Family=%{y}<br>Happiness_Rank=%{marker.size}<extra></extra>",
         "legendgroup": "China",
         "marker": {
          "color": "#00cc96",
          "size": [
           83
          ],
          "sizemode": "area",
          "sizeref": 0.3925,
          "symbol": "circle"
         },
         "mode": "markers",
         "name": "China",
         "orientation": "v",
         "showlegend": true,
         "type": "scatter",
         "x": [
          5.245
         ],
         "xaxis": "x",
         "y": [
          0.79381
         ],
         "yaxis": "y"
        },
        {
         "hovertemplate": "Country=Bhutan<br>Happiness_Score=%{x}<br>Family=%{y}<br>Happiness_Rank=%{marker.size}<extra></extra>",
         "legendgroup": "Bhutan",
         "marker": {
          "color": "#ab63fa",
          "size": [
           84
          ],
          "sizemode": "area",
          "sizeref": 0.3925,
          "symbol": "circle"
         },
         "mode": "markers",
         "name": "Bhutan",
         "orientation": "v",
         "showlegend": true,
         "type": "scatter",
         "x": [
          5.196
         ],
         "xaxis": "x",
         "y": [
          0.90836
         ],
         "yaxis": "y"
        },
        {
         "hovertemplate": "Country=Kyrgyzstan<br>Happiness_Score=%{x}<br>Family=%{y}<br>Happiness_Rank=%{marker.size}<extra></extra>",
         "legendgroup": "Kyrgyzstan",
         "marker": {
          "color": "#FFA15A",
          "size": [
           85
          ],
          "sizemode": "area",
          "sizeref": 0.3925,
          "symbol": "circle"
         },
         "mode": "markers",
         "name": "Kyrgyzstan",
         "orientation": "v",
         "showlegend": true,
         "type": "scatter",
         "x": [
          5.185
         ],
         "xaxis": "x",
         "y": [
          0.95434
         ],
         "yaxis": "y"
        },
        {
         "hovertemplate": "Country=Serbia<br>Happiness_Score=%{x}<br>Family=%{y}<br>Happiness_Rank=%{marker.size}<extra></extra>",
         "legendgroup": "Serbia",
         "marker": {
          "color": "#19d3f3",
          "size": [
           86
          ],
          "sizemode": "area",
          "sizeref": 0.3925,
          "symbol": "circle"
         },
         "mode": "markers",
         "name": "Serbia",
         "orientation": "v",
         "showlegend": true,
         "type": "scatter",
         "x": [
          5.177
         ],
         "xaxis": "x",
         "y": [
          0.81329
         ],
         "yaxis": "y"
        },
        {
         "hovertemplate": "Country=Bosnia and Herzegovina<br>Happiness_Score=%{x}<br>Family=%{y}<br>Happiness_Rank=%{marker.size}<extra></extra>",
         "legendgroup": "Bosnia and Herzegovina",
         "marker": {
          "color": "#FF6692",
          "size": [
           87
          ],
          "sizemode": "area",
          "sizeref": 0.3925,
          "symbol": "circle"
         },
         "mode": "markers",
         "name": "Bosnia and Herzegovina",
         "orientation": "v",
         "showlegend": true,
         "type": "scatter",
         "x": [
          5.163
         ],
         "xaxis": "x",
         "y": [
          0.64367
         ],
         "yaxis": "y"
        },
        {
         "hovertemplate": "Country=Montenegro<br>Happiness_Score=%{x}<br>Family=%{y}<br>Happiness_Rank=%{marker.size}<extra></extra>",
         "legendgroup": "Montenegro",
         "marker": {
          "color": "#B6E880",
          "size": [
           88
          ],
          "sizemode": "area",
          "sizeref": 0.3925,
          "symbol": "circle"
         },
         "mode": "markers",
         "name": "Montenegro",
         "orientation": "v",
         "showlegend": true,
         "type": "scatter",
         "x": [
          5.161
         ],
         "xaxis": "x",
         "y": [
          0.74173
         ],
         "yaxis": "y"
        },
        {
         "hovertemplate": "Country=Dominican Republic<br>Happiness_Score=%{x}<br>Family=%{y}<br>Happiness_Rank=%{marker.size}<extra></extra>",
         "legendgroup": "Dominican Republic",
         "marker": {
          "color": "#FF97FF",
          "size": [
           89
          ],
          "sizemode": "area",
          "sizeref": 0.3925,
          "symbol": "circle"
         },
         "mode": "markers",
         "name": "Dominican Republic",
         "orientation": "v",
         "showlegend": true,
         "type": "scatter",
         "x": [
          5.155
         ],
         "xaxis": "x",
         "y": [
          0.99496
         ],
         "yaxis": "y"
        },
        {
         "hovertemplate": "Country=Morocco<br>Happiness_Score=%{x}<br>Family=%{y}<br>Happiness_Rank=%{marker.size}<extra></extra>",
         "legendgroup": "Morocco",
         "marker": {
          "color": "#FECB52",
          "size": [
           90
          ],
          "sizemode": "area",
          "sizeref": 0.3925,
          "symbol": "circle"
         },
         "mode": "markers",
         "name": "Morocco",
         "orientation": "v",
         "showlegend": true,
         "type": "scatter",
         "x": [
          5.151
         ],
         "xaxis": "x",
         "y": [
          0.38595
         ],
         "yaxis": "y"
        },
        {
         "hovertemplate": "Country=Hungary<br>Happiness_Score=%{x}<br>Family=%{y}<br>Happiness_Rank=%{marker.size}<extra></extra>",
         "legendgroup": "Hungary",
         "marker": {
          "color": "#636efa",
          "size": [
           91
          ],
          "sizemode": "area",
          "sizeref": 0.3925,
          "symbol": "circle"
         },
         "mode": "markers",
         "name": "Hungary",
         "orientation": "v",
         "showlegend": true,
         "type": "scatter",
         "x": [
          5.145
         ],
         "xaxis": "x",
         "y": [
          0.93164
         ],
         "yaxis": "y"
        },
        {
         "hovertemplate": "Country=Pakistan<br>Happiness_Score=%{x}<br>Family=%{y}<br>Happiness_Rank=%{marker.size}<extra></extra>",
         "legendgroup": "Pakistan",
         "marker": {
          "color": "#EF553B",
          "size": [
           92
          ],
          "sizemode": "area",
          "sizeref": 0.3925,
          "symbol": "circle"
         },
         "mode": "markers",
         "name": "Pakistan",
         "orientation": "v",
         "showlegend": true,
         "type": "scatter",
         "x": [
          5.132
         ],
         "xaxis": "x",
         "y": [
          0.26135
         ],
         "yaxis": "y"
        },
        {
         "hovertemplate": "Country=Lebanon<br>Happiness_Score=%{x}<br>Family=%{y}<br>Happiness_Rank=%{marker.size}<extra></extra>",
         "legendgroup": "Lebanon",
         "marker": {
          "color": "#00cc96",
          "size": [
           93
          ],
          "sizemode": "area",
          "sizeref": 0.3925,
          "symbol": "circle"
         },
         "mode": "markers",
         "name": "Lebanon",
         "orientation": "v",
         "showlegend": true,
         "type": "scatter",
         "x": [
          5.129
         ],
         "xaxis": "x",
         "y": [
          0.64184
         ],
         "yaxis": "y"
        },
        {
         "hovertemplate": "Country=Portugal<br>Happiness_Score=%{x}<br>Family=%{y}<br>Happiness_Rank=%{marker.size}<extra></extra>",
         "legendgroup": "Portugal",
         "marker": {
          "color": "#ab63fa",
          "size": [
           94
          ],
          "sizemode": "area",
          "sizeref": 0.3925,
          "symbol": "circle"
         },
         "mode": "markers",
         "name": "Portugal",
         "orientation": "v",
         "showlegend": true,
         "type": "scatter",
         "x": [
          5.123
         ],
         "xaxis": "x",
         "y": [
          0.94367
         ],
         "yaxis": "y"
        },
        {
         "hovertemplate": "Country=Macedonia<br>Happiness_Score=%{x}<br>Family=%{y}<br>Happiness_Rank=%{marker.size}<extra></extra>",
         "legendgroup": "Macedonia",
         "marker": {
          "color": "#FFA15A",
          "size": [
           95
          ],
          "sizemode": "area",
          "sizeref": 0.3925,
          "symbol": "circle"
         },
         "mode": "markers",
         "name": "Macedonia",
         "orientation": "v",
         "showlegend": true,
         "type": "scatter",
         "x": [
          5.121
         ],
         "xaxis": "x",
         "y": [
          0.78236
         ],
         "yaxis": "y"
        },
        {
         "hovertemplate": "Country=Vietnam<br>Happiness_Score=%{x}<br>Family=%{y}<br>Happiness_Rank=%{marker.size}<extra></extra>",
         "legendgroup": "Vietnam",
         "marker": {
          "color": "#19d3f3",
          "size": [
           96
          ],
          "sizemode": "area",
          "sizeref": 0.3925,
          "symbol": "circle"
         },
         "mode": "markers",
         "name": "Vietnam",
         "orientation": "v",
         "showlegend": true,
         "type": "scatter",
         "x": [
          5.061
         ],
         "xaxis": "x",
         "y": [
          0.79117
         ],
         "yaxis": "y"
        },
        {
         "hovertemplate": "Country=Somaliland Region<br>Happiness_Score=%{x}<br>Family=%{y}<br>Happiness_Rank=%{marker.size}<extra></extra>",
         "legendgroup": "Somaliland Region",
         "marker": {
          "color": "#FF6692",
          "size": [
           97
          ],
          "sizemode": "area",
          "sizeref": 0.3925,
          "symbol": "circle"
         },
         "mode": "markers",
         "name": "Somaliland Region",
         "orientation": "v",
         "showlegend": true,
         "type": "scatter",
         "x": [
          5.057
         ],
         "xaxis": "x",
         "y": [
          0.75862
         ],
         "yaxis": "y"
        },
        {
         "hovertemplate": "Country=Tunisia<br>Happiness_Score=%{x}<br>Family=%{y}<br>Happiness_Rank=%{marker.size}<extra></extra>",
         "legendgroup": "Tunisia",
         "marker": {
          "color": "#B6E880",
          "size": [
           98
          ],
          "sizemode": "area",
          "sizeref": 0.3925,
          "symbol": "circle"
         },
         "mode": "markers",
         "name": "Tunisia",
         "orientation": "v",
         "showlegend": true,
         "type": "scatter",
         "x": [
          5.045
         ],
         "xaxis": "x",
         "y": [
          0.43165
         ],
         "yaxis": "y"
        },
        {
         "hovertemplate": "Country=Greece<br>Happiness_Score=%{x}<br>Family=%{y}<br>Happiness_Rank=%{marker.size}<extra></extra>",
         "legendgroup": "Greece",
         "marker": {
          "color": "#FF97FF",
          "size": [
           99
          ],
          "sizemode": "area",
          "sizeref": 0.3925,
          "symbol": "circle"
         },
         "mode": "markers",
         "name": "Greece",
         "orientation": "v",
         "showlegend": true,
         "type": "scatter",
         "x": [
          5.033
         ],
         "xaxis": "x",
         "y": [
          0.75473
         ],
         "yaxis": "y"
        },
        {
         "hovertemplate": "Country=Tajikistan<br>Happiness_Score=%{x}<br>Family=%{y}<br>Happiness_Rank=%{marker.size}<extra></extra>",
         "legendgroup": "Tajikistan",
         "marker": {
          "color": "#FECB52",
          "size": [
           100
          ],
          "sizemode": "area",
          "sizeref": 0.3925,
          "symbol": "circle"
         },
         "mode": "markers",
         "name": "Tajikistan",
         "orientation": "v",
         "showlegend": true,
         "type": "scatter",
         "x": [
          4.996
         ],
         "xaxis": "x",
         "y": [
          0.75602
         ],
         "yaxis": "y"
        },
        {
         "hovertemplate": "Country=Mongolia<br>Happiness_Score=%{x}<br>Family=%{y}<br>Happiness_Rank=%{marker.size}<extra></extra>",
         "legendgroup": "Mongolia",
         "marker": {
          "color": "#636efa",
          "size": [
           101
          ],
          "sizemode": "area",
          "sizeref": 0.3925,
          "symbol": "circle"
         },
         "mode": "markers",
         "name": "Mongolia",
         "orientation": "v",
         "showlegend": true,
         "type": "scatter",
         "x": [
          4.907
         ],
         "xaxis": "x",
         "y": [
          1.08983
         ],
         "yaxis": "y"
        },
        {
         "hovertemplate": "Country=Laos<br>Happiness_Score=%{x}<br>Family=%{y}<br>Happiness_Rank=%{marker.size}<extra></extra>",
         "legendgroup": "Laos",
         "marker": {
          "color": "#EF553B",
          "size": [
           102
          ],
          "sizemode": "area",
          "sizeref": 0.3925,
          "symbol": "circle"
         },
         "mode": "markers",
         "name": "Laos",
         "orientation": "v",
         "showlegend": true,
         "type": "scatter",
         "x": [
          4.876
         ],
         "xaxis": "x",
         "y": [
          0.5497
         ],
         "yaxis": "y"
        },
        {
         "hovertemplate": "Country=Nigeria<br>Happiness_Score=%{x}<br>Family=%{y}<br>Happiness_Rank=%{marker.size}<extra></extra>",
         "legendgroup": "Nigeria",
         "marker": {
          "color": "#00cc96",
          "size": [
           103
          ],
          "sizemode": "area",
          "sizeref": 0.3925,
          "symbol": "circle"
         },
         "mode": "markers",
         "name": "Nigeria",
         "orientation": "v",
         "showlegend": true,
         "type": "scatter",
         "x": [
          4.875
         ],
         "xaxis": "x",
         "y": [
          0.64498
         ],
         "yaxis": "y"
        },
        {
         "hovertemplate": "Country=Honduras<br>Happiness_Score=%{x}<br>Family=%{y}<br>Happiness_Rank=%{marker.size}<extra></extra>",
         "legendgroup": "Honduras",
         "marker": {
          "color": "#ab63fa",
          "size": [
           104
          ],
          "sizemode": "area",
          "sizeref": 0.3925,
          "symbol": "circle"
         },
         "mode": "markers",
         "name": "Honduras",
         "orientation": "v",
         "showlegend": true,
         "type": "scatter",
         "x": [
          4.871
         ],
         "xaxis": "x",
         "y": [
          0.75596
         ],
         "yaxis": "y"
        },
        {
         "hovertemplate": "Country=Iran<br>Happiness_Score=%{x}<br>Family=%{y}<br>Happiness_Rank=%{marker.size}<extra></extra>",
         "legendgroup": "Iran",
         "marker": {
          "color": "#FFA15A",
          "size": [
           105
          ],
          "sizemode": "area",
          "sizeref": 0.3925,
          "symbol": "circle"
         },
         "mode": "markers",
         "name": "Iran",
         "orientation": "v",
         "showlegend": true,
         "type": "scatter",
         "x": [
          4.813
         ],
         "xaxis": "x",
         "y": [
          0.38857
         ],
         "yaxis": "y"
        },
        {
         "hovertemplate": "Country=Zambia<br>Happiness_Score=%{x}<br>Family=%{y}<br>Happiness_Rank=%{marker.size}<extra></extra>",
         "legendgroup": "Zambia",
         "marker": {
          "color": "#19d3f3",
          "size": [
           106
          ],
          "sizemode": "area",
          "sizeref": 0.3925,
          "symbol": "circle"
         },
         "mode": "markers",
         "name": "Zambia",
         "orientation": "v",
         "showlegend": true,
         "type": "scatter",
         "x": [
          4.795
         ],
         "xaxis": "x",
         "y": [
          0.6376
         ],
         "yaxis": "y"
        },
        {
         "hovertemplate": "Country=Nepal<br>Happiness_Score=%{x}<br>Family=%{y}<br>Happiness_Rank=%{marker.size}<extra></extra>",
         "legendgroup": "Nepal",
         "marker": {
          "color": "#FF6692",
          "size": [
           107
          ],
          "sizemode": "area",
          "sizeref": 0.3925,
          "symbol": "circle"
         },
         "mode": "markers",
         "name": "Nepal",
         "orientation": "v",
         "showlegend": true,
         "type": "scatter",
         "x": [
          4.793
         ],
         "xaxis": "x",
         "y": [
          0.69699
         ],
         "yaxis": "y"
        },
        {
         "hovertemplate": "Country=Palestinian Territories<br>Happiness_Score=%{x}<br>Family=%{y}<br>Happiness_Rank=%{marker.size}<extra></extra>",
         "legendgroup": "Palestinian Territories",
         "marker": {
          "color": "#B6E880",
          "size": [
           108
          ],
          "sizemode": "area",
          "sizeref": 0.3925,
          "symbol": "circle"
         },
         "mode": "markers",
         "name": "Palestinian Territories",
         "orientation": "v",
         "showlegend": true,
         "type": "scatter",
         "x": [
          4.754
         ],
         "xaxis": "x",
         "y": [
          0.71629
         ],
         "yaxis": "y"
        },
        {
         "hovertemplate": "Country=Albania<br>Happiness_Score=%{x}<br>Family=%{y}<br>Happiness_Rank=%{marker.size}<extra></extra>",
         "legendgroup": "Albania",
         "marker": {
          "color": "#FF97FF",
          "size": [
           109
          ],
          "sizemode": "area",
          "sizeref": 0.3925,
          "symbol": "circle"
         },
         "mode": "markers",
         "name": "Albania",
         "orientation": "v",
         "showlegend": true,
         "type": "scatter",
         "x": [
          4.655
         ],
         "xaxis": "x",
         "y": [
          0.50163
         ],
         "yaxis": "y"
        },
        {
         "hovertemplate": "Country=Bangladesh<br>Happiness_Score=%{x}<br>Family=%{y}<br>Happiness_Rank=%{marker.size}<extra></extra>",
         "legendgroup": "Bangladesh",
         "marker": {
          "color": "#FECB52",
          "size": [
           110
          ],
          "sizemode": "area",
          "sizeref": 0.3925,
          "symbol": "circle"
         },
         "mode": "markers",
         "name": "Bangladesh",
         "orientation": "v",
         "showlegend": true,
         "type": "scatter",
         "x": [
          4.643
         ],
         "xaxis": "x",
         "y": [
          0.24749
         ],
         "yaxis": "y"
        },
        {
         "hovertemplate": "Country=Sierra Leone<br>Happiness_Score=%{x}<br>Family=%{y}<br>Happiness_Rank=%{marker.size}<extra></extra>",
         "legendgroup": "Sierra Leone",
         "marker": {
          "color": "#636efa",
          "size": [
           111
          ],
          "sizemode": "area",
          "sizeref": 0.3925,
          "symbol": "circle"
         },
         "mode": "markers",
         "name": "Sierra Leone",
         "orientation": "v",
         "showlegend": true,
         "type": "scatter",
         "x": [
          4.635
         ],
         "xaxis": "x",
         "y": [
          0.628
         ],
         "yaxis": "y"
        },
        {
         "hovertemplate": "Country=Iraq<br>Happiness_Score=%{x}<br>Family=%{y}<br>Happiness_Rank=%{marker.size}<extra></extra>",
         "legendgroup": "Iraq",
         "marker": {
          "color": "#EF553B",
          "size": [
           112
          ],
          "sizemode": "area",
          "sizeref": 0.3925,
          "symbol": "circle"
         },
         "mode": "markers",
         "name": "Iraq",
         "orientation": "v",
         "showlegend": true,
         "type": "scatter",
         "x": [
          4.575
         ],
         "xaxis": "x",
         "y": [
          0.59205
         ],
         "yaxis": "y"
        },
        {
         "hovertemplate": "Country=Namibia<br>Happiness_Score=%{x}<br>Family=%{y}<br>Happiness_Rank=%{marker.size}<extra></extra>",
         "legendgroup": "Namibia",
         "marker": {
          "color": "#00cc96",
          "size": [
           113
          ],
          "sizemode": "area",
          "sizeref": 0.3925,
          "symbol": "circle"
         },
         "mode": "markers",
         "name": "Namibia",
         "orientation": "v",
         "showlegend": true,
         "type": "scatter",
         "x": [
          4.574
         ],
         "xaxis": "x",
         "y": [
          0.70362
         ],
         "yaxis": "y"
        },
        {
         "hovertemplate": "Country=Cameroon<br>Happiness_Score=%{x}<br>Family=%{y}<br>Happiness_Rank=%{marker.size}<extra></extra>",
         "legendgroup": "Cameroon",
         "marker": {
          "color": "#ab63fa",
          "size": [
           114
          ],
          "sizemode": "area",
          "sizeref": 0.3925,
          "symbol": "circle"
         },
         "mode": "markers",
         "name": "Cameroon",
         "orientation": "v",
         "showlegend": true,
         "type": "scatter",
         "x": [
          4.513
         ],
         "xaxis": "x",
         "y": [
          0.62542
         ],
         "yaxis": "y"
        },
        {
         "hovertemplate": "Country=Ethiopia<br>Happiness_Score=%{x}<br>Family=%{y}<br>Happiness_Rank=%{marker.size}<extra></extra>",
         "legendgroup": "Ethiopia",
         "marker": {
          "color": "#FFA15A",
          "size": [
           115
          ],
          "sizemode": "area",
          "sizeref": 0.3925,
          "symbol": "circle"
         },
         "mode": "markers",
         "name": "Ethiopia",
         "orientation": "v",
         "showlegend": true,
         "type": "scatter",
         "x": [
          4.508
         ],
         "xaxis": "x",
         "y": [
          0.37932
         ],
         "yaxis": "y"
        },
        {
         "hovertemplate": "Country=South Africa<br>Happiness_Score=%{x}<br>Family=%{y}<br>Happiness_Rank=%{marker.size}<extra></extra>",
         "legendgroup": "South Africa",
         "marker": {
          "color": "#19d3f3",
          "size": [
           116
          ],
          "sizemode": "area",
          "sizeref": 0.3925,
          "symbol": "circle"
         },
         "mode": "markers",
         "name": "South Africa",
         "orientation": "v",
         "showlegend": true,
         "type": "scatter",
         "x": [
          4.459
         ],
         "xaxis": "x",
         "y": [
          0.96053
         ],
         "yaxis": "y"
        },
        {
         "hovertemplate": "Country=Sri Lanka<br>Happiness_Score=%{x}<br>Family=%{y}<br>Happiness_Rank=%{marker.size}<extra></extra>",
         "legendgroup": "Sri Lanka",
         "marker": {
          "color": "#FF6692",
          "size": [
           117
          ],
          "sizemode": "area",
          "sizeref": 0.3925,
          "symbol": "circle"
         },
         "mode": "markers",
         "name": "Sri Lanka",
         "orientation": "v",
         "showlegend": true,
         "type": "scatter",
         "x": [
          4.415
         ],
         "xaxis": "x",
         "y": [
          0.84783
         ],
         "yaxis": "y"
        },
        {
         "hovertemplate": "Country=India<br>Happiness_Score=%{x}<br>Family=%{y}<br>Happiness_Rank=%{marker.size}<extra></extra>",
         "legendgroup": "India",
         "marker": {
          "color": "#B6E880",
          "size": [
           118
          ],
          "sizemode": "area",
          "sizeref": 0.3925,
          "symbol": "circle"
         },
         "mode": "markers",
         "name": "India",
         "orientation": "v",
         "showlegend": true,
         "type": "scatter",
         "x": [
          4.404
         ],
         "xaxis": "x",
         "y": [
          0.29247
         ],
         "yaxis": "y"
        },
        {
         "hovertemplate": "Country=Myanmar<br>Happiness_Score=%{x}<br>Family=%{y}<br>Happiness_Rank=%{marker.size}<extra></extra>",
         "legendgroup": "Myanmar",
         "marker": {
          "color": "#FF97FF",
          "size": [
           119
          ],
          "sizemode": "area",
          "sizeref": 0.3925,
          "symbol": "circle"
         },
         "mode": "markers",
         "name": "Myanmar",
         "orientation": "v",
         "showlegend": true,
         "type": "scatter",
         "x": [
          4.395
         ],
         "xaxis": "x",
         "y": [
          0.69981
         ],
         "yaxis": "y"
        },
        {
         "hovertemplate": "Country=Egypt<br>Happiness_Score=%{x}<br>Family=%{y}<br>Happiness_Rank=%{marker.size}<extra></extra>",
         "legendgroup": "Egypt",
         "marker": {
          "color": "#FECB52",
          "size": [
           120
          ],
          "sizemode": "area",
          "sizeref": 0.3925,
          "symbol": "circle"
         },
         "mode": "markers",
         "name": "Egypt",
         "orientation": "v",
         "showlegend": true,
         "type": "scatter",
         "x": [
          4.362
         ],
         "xaxis": "x",
         "y": [
          0.49813
         ],
         "yaxis": "y"
        },
        {
         "hovertemplate": "Country=Armenia<br>Happiness_Score=%{x}<br>Family=%{y}<br>Happiness_Rank=%{marker.size}<extra></extra>",
         "legendgroup": "Armenia",
         "marker": {
          "color": "#636efa",
          "size": [
           121
          ],
          "sizemode": "area",
          "sizeref": 0.3925,
          "symbol": "circle"
         },
         "mode": "markers",
         "name": "Armenia",
         "orientation": "v",
         "showlegend": true,
         "type": "scatter",
         "x": [
          4.36
         ],
         "xaxis": "x",
         "y": [
          0.62477
         ],
         "yaxis": "y"
        },
        {
         "hovertemplate": "Country=Kenya<br>Happiness_Score=%{x}<br>Family=%{y}<br>Happiness_Rank=%{marker.size}<extra></extra>",
         "legendgroup": "Kenya",
         "marker": {
          "color": "#EF553B",
          "size": [
           122
          ],
          "sizemode": "area",
          "sizeref": 0.3925,
          "symbol": "circle"
         },
         "mode": "markers",
         "name": "Kenya",
         "orientation": "v",
         "showlegend": true,
         "type": "scatter",
         "x": [
          4.356
         ],
         "xaxis": "x",
         "y": [
          0.7624
         ],
         "yaxis": "y"
        },
        {
         "hovertemplate": "Country=Ukraine<br>Happiness_Score=%{x}<br>Family=%{y}<br>Happiness_Rank=%{marker.size}<extra></extra>",
         "legendgroup": "Ukraine",
         "marker": {
          "color": "#00cc96",
          "size": [
           123
          ],
          "sizemode": "area",
          "sizeref": 0.3925,
          "symbol": "circle"
         },
         "mode": "markers",
         "name": "Ukraine",
         "orientation": "v",
         "showlegend": true,
         "type": "scatter",
         "x": [
          4.324
         ],
         "xaxis": "x",
         "y": [
          1.01413
         ],
         "yaxis": "y"
        },
        {
         "hovertemplate": "Country=Ghana<br>Happiness_Score=%{x}<br>Family=%{y}<br>Happiness_Rank=%{marker.size}<extra></extra>",
         "legendgroup": "Ghana",
         "marker": {
          "color": "#ab63fa",
          "size": [
           124
          ],
          "sizemode": "area",
          "sizeref": 0.3925,
          "symbol": "circle"
         },
         "mode": "markers",
         "name": "Ghana",
         "orientation": "v",
         "showlegend": true,
         "type": "scatter",
         "x": [
          4.276
         ],
         "xaxis": "x",
         "y": [
          0.49353
         ],
         "yaxis": "y"
        },
        {
         "hovertemplate": "Country=Congo (Kinshasa)<br>Happiness_Score=%{x}<br>Family=%{y}<br>Happiness_Rank=%{marker.size}<extra></extra>",
         "legendgroup": "Congo (Kinshasa)",
         "marker": {
          "color": "#FFA15A",
          "size": [
           125
          ],
          "sizemode": "area",
          "sizeref": 0.3925,
          "symbol": "circle"
         },
         "mode": "markers",
         "name": "Congo (Kinshasa)",
         "orientation": "v",
         "showlegend": true,
         "type": "scatter",
         "x": [
          4.272
         ],
         "xaxis": "x",
         "y": [
          0.80676
         ],
         "yaxis": "y"
        },
        {
         "hovertemplate": "Country=Georgia<br>Happiness_Score=%{x}<br>Family=%{y}<br>Happiness_Rank=%{marker.size}<extra></extra>",
         "legendgroup": "Georgia",
         "marker": {
          "color": "#19d3f3",
          "size": [
           126
          ],
          "sizemode": "area",
          "sizeref": 0.3925,
          "symbol": "circle"
         },
         "mode": "markers",
         "name": "Georgia",
         "orientation": "v",
         "showlegend": true,
         "type": "scatter",
         "x": [
          4.252
         ],
         "xaxis": "x",
         "y": [
          0.19249
         ],
         "yaxis": "y"
        },
        {
         "hovertemplate": "Country=Congo (Brazzaville)<br>Happiness_Score=%{x}<br>Family=%{y}<br>Happiness_Rank=%{marker.size}<extra></extra>",
         "legendgroup": "Congo (Brazzaville)",
         "marker": {
          "color": "#FF6692",
          "size": [
           127
          ],
          "sizemode": "area",
          "sizeref": 0.3925,
          "symbol": "circle"
         },
         "mode": "markers",
         "name": "Congo (Brazzaville)",
         "orientation": "v",
         "showlegend": true,
         "type": "scatter",
         "x": [
          4.236
         ],
         "xaxis": "x",
         "y": [
          0.47799
         ],
         "yaxis": "y"
        },
        {
         "hovertemplate": "Country=Senegal<br>Happiness_Score=%{x}<br>Family=%{y}<br>Happiness_Rank=%{marker.size}<extra></extra>",
         "legendgroup": "Senegal",
         "marker": {
          "color": "#B6E880",
          "size": [
           128
          ],
          "sizemode": "area",
          "sizeref": 0.3925,
          "symbol": "circle"
         },
         "mode": "markers",
         "name": "Senegal",
         "orientation": "v",
         "showlegend": true,
         "type": "scatter",
         "x": [
          4.219
         ],
         "xaxis": "x",
         "y": [
          0.77416
         ],
         "yaxis": "y"
        },
        {
         "hovertemplate": "Country=Bulgaria<br>Happiness_Score=%{x}<br>Family=%{y}<br>Happiness_Rank=%{marker.size}<extra></extra>",
         "legendgroup": "Bulgaria",
         "marker": {
          "color": "#FF97FF",
          "size": [
           129
          ],
          "sizemode": "area",
          "sizeref": 0.3925,
          "symbol": "circle"
         },
         "mode": "markers",
         "name": "Bulgaria",
         "orientation": "v",
         "showlegend": true,
         "type": "scatter",
         "x": [
          4.217
         ],
         "xaxis": "x",
         "y": [
          0.92542
         ],
         "yaxis": "y"
        },
        {
         "hovertemplate": "Country=Mauritania<br>Happiness_Score=%{x}<br>Family=%{y}<br>Happiness_Rank=%{marker.size}<extra></extra>",
         "legendgroup": "Mauritania",
         "marker": {
          "color": "#FECB52",
          "size": [
           130
          ],
          "sizemode": "area",
          "sizeref": 0.3925,
          "symbol": "circle"
         },
         "mode": "markers",
         "name": "Mauritania",
         "orientation": "v",
         "showlegend": true,
         "type": "scatter",
         "x": [
          4.201
         ],
         "xaxis": "x",
         "y": [
          0.84142
         ],
         "yaxis": "y"
        },
        {
         "hovertemplate": "Country=Zimbabwe<br>Happiness_Score=%{x}<br>Family=%{y}<br>Happiness_Rank=%{marker.size}<extra></extra>",
         "legendgroup": "Zimbabwe",
         "marker": {
          "color": "#636efa",
          "size": [
           131
          ],
          "sizemode": "area",
          "sizeref": 0.3925,
          "symbol": "circle"
         },
         "mode": "markers",
         "name": "Zimbabwe",
         "orientation": "v",
         "showlegend": true,
         "type": "scatter",
         "x": [
          4.193
         ],
         "xaxis": "x",
         "y": [
          0.71478
         ],
         "yaxis": "y"
        },
        {
         "hovertemplate": "Country=Malawi<br>Happiness_Score=%{x}<br>Family=%{y}<br>Happiness_Rank=%{marker.size}<extra></extra>",
         "legendgroup": "Malawi",
         "marker": {
          "color": "#EF553B",
          "size": [
           132
          ],
          "sizemode": "area",
          "sizeref": 0.3925,
          "symbol": "circle"
         },
         "mode": "markers",
         "name": "Malawi",
         "orientation": "v",
         "showlegend": true,
         "type": "scatter",
         "x": [
          4.156
         ],
         "xaxis": "x",
         "y": [
          0.147
         ],
         "yaxis": "y"
        },
        {
         "hovertemplate": "Country=Sudan<br>Happiness_Score=%{x}<br>Family=%{y}<br>Happiness_Rank=%{marker.size}<extra></extra>",
         "legendgroup": "Sudan",
         "marker": {
          "color": "#00cc96",
          "size": [
           133
          ],
          "sizemode": "area",
          "sizeref": 0.3925,
          "symbol": "circle"
         },
         "mode": "markers",
         "name": "Sudan",
         "orientation": "v",
         "showlegend": true,
         "type": "scatter",
         "x": [
          4.139
         ],
         "xaxis": "x",
         "y": [
          0.81928
         ],
         "yaxis": "y"
        },
        {
         "hovertemplate": "Country=Gabon<br>Happiness_Score=%{x}<br>Family=%{y}<br>Happiness_Rank=%{marker.size}<extra></extra>",
         "legendgroup": "Gabon",
         "marker": {
          "color": "#ab63fa",
          "size": [
           134
          ],
          "sizemode": "area",
          "sizeref": 0.3925,
          "symbol": "circle"
         },
         "mode": "markers",
         "name": "Gabon",
         "orientation": "v",
         "showlegend": true,
         "type": "scatter",
         "x": [
          4.121
         ],
         "xaxis": "x",
         "y": [
          0.72368
         ],
         "yaxis": "y"
        },
        {
         "hovertemplate": "Country=Mali<br>Happiness_Score=%{x}<br>Family=%{y}<br>Happiness_Rank=%{marker.size}<extra></extra>",
         "legendgroup": "Mali",
         "marker": {
          "color": "#FFA15A",
          "size": [
           135
          ],
          "sizemode": "area",
          "sizeref": 0.3925,
          "symbol": "circle"
         },
         "mode": "markers",
         "name": "Mali",
         "orientation": "v",
         "showlegend": true,
         "type": "scatter",
         "x": [
          4.073
         ],
         "xaxis": "x",
         "y": [
          0.86333
         ],
         "yaxis": "y"
        },
        {
         "hovertemplate": "Country=Haiti<br>Happiness_Score=%{x}<br>Family=%{y}<br>Happiness_Rank=%{marker.size}<extra></extra>",
         "legendgroup": "Haiti",
         "marker": {
          "color": "#19d3f3",
          "size": [
           136
          ],
          "sizemode": "area",
          "sizeref": 0.3925,
          "symbol": "circle"
         },
         "mode": "markers",
         "name": "Haiti",
         "orientation": "v",
         "showlegend": true,
         "type": "scatter",
         "x": [
          4.028
         ],
         "xaxis": "x",
         "y": [
          0.29561
         ],
         "yaxis": "y"
        },
        {
         "hovertemplate": "Country=Botswana<br>Happiness_Score=%{x}<br>Family=%{y}<br>Happiness_Rank=%{marker.size}<extra></extra>",
         "legendgroup": "Botswana",
         "marker": {
          "color": "#FF6692",
          "size": [
           137
          ],
          "sizemode": "area",
          "sizeref": 0.3925,
          "symbol": "circle"
         },
         "mode": "markers",
         "name": "Botswana",
         "orientation": "v",
         "showlegend": true,
         "type": "scatter",
         "x": [
          3.974
         ],
         "xaxis": "x",
         "y": [
          0.89186
         ],
         "yaxis": "y"
        },
        {
         "hovertemplate": "Country=Comoros<br>Happiness_Score=%{x}<br>Family=%{y}<br>Happiness_Rank=%{marker.size}<extra></extra>",
         "legendgroup": "Comoros",
         "marker": {
          "color": "#B6E880",
          "size": [
           138
          ],
          "sizemode": "area",
          "sizeref": 0.3925,
          "symbol": "circle"
         },
         "mode": "markers",
         "name": "Comoros",
         "orientation": "v",
         "showlegend": true,
         "type": "scatter",
         "x": [
          3.956
         ],
         "xaxis": "x",
         "y": [
          0.60323
         ],
         "yaxis": "y"
        },
        {
         "hovertemplate": "Country=Ivory Coast<br>Happiness_Score=%{x}<br>Family=%{y}<br>Happiness_Rank=%{marker.size}<extra></extra>",
         "legendgroup": "Ivory Coast",
         "marker": {
          "color": "#FF97FF",
          "size": [
           139
          ],
          "sizemode": "area",
          "sizeref": 0.3925,
          "symbol": "circle"
         },
         "mode": "markers",
         "name": "Ivory Coast",
         "orientation": "v",
         "showlegend": true,
         "type": "scatter",
         "x": [
          3.916
         ],
         "xaxis": "x",
         "y": [
          0.57576
         ],
         "yaxis": "y"
        },
        {
         "hovertemplate": "Country=Cambodia<br>Happiness_Score=%{x}<br>Family=%{y}<br>Happiness_Rank=%{marker.size}<extra></extra>",
         "legendgroup": "Cambodia",
         "marker": {
          "color": "#FECB52",
          "size": [
           140
          ],
          "sizemode": "area",
          "sizeref": 0.3925,
          "symbol": "circle"
         },
         "mode": "markers",
         "name": "Cambodia",
         "orientation": "v",
         "showlegend": true,
         "type": "scatter",
         "x": [
          3.907
         ],
         "xaxis": "x",
         "y": [
          0.5375
         ],
         "yaxis": "y"
        },
        {
         "hovertemplate": "Country=Angola<br>Happiness_Score=%{x}<br>Family=%{y}<br>Happiness_Rank=%{marker.size}<extra></extra>",
         "legendgroup": "Angola",
         "marker": {
          "color": "#636efa",
          "size": [
           141
          ],
          "sizemode": "area",
          "sizeref": 0.3925,
          "symbol": "circle"
         },
         "mode": "markers",
         "name": "Angola",
         "orientation": "v",
         "showlegend": true,
         "type": "scatter",
         "x": [
          3.866
         ],
         "xaxis": "x",
         "y": [
          0.66366
         ],
         "yaxis": "y"
        },
        {
         "hovertemplate": "Country=Niger<br>Happiness_Score=%{x}<br>Family=%{y}<br>Happiness_Rank=%{marker.size}<extra></extra>",
         "legendgroup": "Niger",
         "marker": {
          "color": "#EF553B",
          "size": [
           142
          ],
          "sizemode": "area",
          "sizeref": 0.3925,
          "symbol": "circle"
         },
         "mode": "markers",
         "name": "Niger",
         "orientation": "v",
         "showlegend": true,
         "type": "scatter",
         "x": [
          3.856
         ],
         "xaxis": "x",
         "y": [
          0.6053
         ],
         "yaxis": "y"
        },
        {
         "hovertemplate": "Country=South Sudan<br>Happiness_Score=%{x}<br>Family=%{y}<br>Happiness_Rank=%{marker.size}<extra></extra>",
         "legendgroup": "South Sudan",
         "marker": {
          "color": "#00cc96",
          "size": [
           143
          ],
          "sizemode": "area",
          "sizeref": 0.3925,
          "symbol": "circle"
         },
         "mode": "markers",
         "name": "South Sudan",
         "orientation": "v",
         "showlegend": true,
         "type": "scatter",
         "x": [
          3.832
         ],
         "xaxis": "x",
         "y": [
          0.18519
         ],
         "yaxis": "y"
        },
        {
         "hovertemplate": "Country=Chad<br>Happiness_Score=%{x}<br>Family=%{y}<br>Happiness_Rank=%{marker.size}<extra></extra>",
         "legendgroup": "Chad",
         "marker": {
          "color": "#ab63fa",
          "size": [
           144
          ],
          "sizemode": "area",
          "sizeref": 0.3925,
          "symbol": "circle"
         },
         "mode": "markers",
         "name": "Chad",
         "orientation": "v",
         "showlegend": true,
         "type": "scatter",
         "x": [
          3.763
         ],
         "xaxis": "x",
         "y": [
          0.63178
         ],
         "yaxis": "y"
        },
        {
         "hovertemplate": "Country=Burkina Faso<br>Happiness_Score=%{x}<br>Family=%{y}<br>Happiness_Rank=%{marker.size}<extra></extra>",
         "legendgroup": "Burkina Faso",
         "marker": {
          "color": "#FFA15A",
          "size": [
           145
          ],
          "sizemode": "area",
          "sizeref": 0.3925,
          "symbol": "circle"
         },
         "mode": "markers",
         "name": "Burkina Faso",
         "orientation": "v",
         "showlegend": true,
         "type": "scatter",
         "x": [
          3.739
         ],
         "xaxis": "x",
         "y": [
          0.63054
         ],
         "yaxis": "y"
        },
        {
         "hovertemplate": "Country=Uganda<br>Happiness_Score=%{x}<br>Family=%{y}<br>Happiness_Rank=%{marker.size}<extra></extra>",
         "legendgroup": "Uganda",
         "marker": {
          "color": "#19d3f3",
          "size": [
           145
          ],
          "sizemode": "area",
          "sizeref": 0.3925,
          "symbol": "circle"
         },
         "mode": "markers",
         "name": "Uganda",
         "orientation": "v",
         "showlegend": true,
         "type": "scatter",
         "x": [
          3.739
         ],
         "xaxis": "x",
         "y": [
          0.90981
         ],
         "yaxis": "y"
        },
        {
         "hovertemplate": "Country=Yemen<br>Happiness_Score=%{x}<br>Family=%{y}<br>Happiness_Rank=%{marker.size}<extra></extra>",
         "legendgroup": "Yemen",
         "marker": {
          "color": "#FF6692",
          "size": [
           147
          ],
          "sizemode": "area",
          "sizeref": 0.3925,
          "symbol": "circle"
         },
         "mode": "markers",
         "name": "Yemen",
         "orientation": "v",
         "showlegend": true,
         "type": "scatter",
         "x": [
          3.724
         ],
         "xaxis": "x",
         "y": [
          0.47493
         ],
         "yaxis": "y"
        },
        {
         "hovertemplate": "Country=Madagascar<br>Happiness_Score=%{x}<br>Family=%{y}<br>Happiness_Rank=%{marker.size}<extra></extra>",
         "legendgroup": "Madagascar",
         "marker": {
          "color": "#B6E880",
          "size": [
           148
          ],
          "sizemode": "area",
          "sizeref": 0.3925,
          "symbol": "circle"
         },
         "mode": "markers",
         "name": "Madagascar",
         "orientation": "v",
         "showlegend": true,
         "type": "scatter",
         "x": [
          3.695
         ],
         "xaxis": "x",
         "y": [
          0.46115
         ],
         "yaxis": "y"
        },
        {
         "hovertemplate": "Country=Tanzania<br>Happiness_Score=%{x}<br>Family=%{y}<br>Happiness_Rank=%{marker.size}<extra></extra>",
         "legendgroup": "Tanzania",
         "marker": {
          "color": "#FF97FF",
          "size": [
           149
          ],
          "sizemode": "area",
          "sizeref": 0.3925,
          "symbol": "circle"
         },
         "mode": "markers",
         "name": "Tanzania",
         "orientation": "v",
         "showlegend": true,
         "type": "scatter",
         "x": [
          3.666
         ],
         "xaxis": "x",
         "y": [
          0.77623
         ],
         "yaxis": "y"
        },
        {
         "hovertemplate": "Country=Liberia<br>Happiness_Score=%{x}<br>Family=%{y}<br>Happiness_Rank=%{marker.size}<extra></extra>",
         "legendgroup": "Liberia",
         "marker": {
          "color": "#FECB52",
          "size": [
           150
          ],
          "sizemode": "area",
          "sizeref": 0.3925,
          "symbol": "circle"
         },
         "mode": "markers",
         "name": "Liberia",
         "orientation": "v",
         "showlegend": true,
         "type": "scatter",
         "x": [
          3.622
         ],
         "xaxis": "x",
         "y": [
          0.50353
         ],
         "yaxis": "y"
        },
        {
         "hovertemplate": "Country=Guinea<br>Happiness_Score=%{x}<br>Family=%{y}<br>Happiness_Rank=%{marker.size}<extra></extra>",
         "legendgroup": "Guinea",
         "marker": {
          "color": "#636efa",
          "size": [
           151
          ],
          "sizemode": "area",
          "sizeref": 0.3925,
          "symbol": "circle"
         },
         "mode": "markers",
         "name": "Guinea",
         "orientation": "v",
         "showlegend": true,
         "type": "scatter",
         "x": [
          3.607
         ],
         "xaxis": "x",
         "y": [
          0.3109
         ],
         "yaxis": "y"
        },
        {
         "hovertemplate": "Country=Rwanda<br>Happiness_Score=%{x}<br>Family=%{y}<br>Happiness_Rank=%{marker.size}<extra></extra>",
         "legendgroup": "Rwanda",
         "marker": {
          "color": "#EF553B",
          "size": [
           152
          ],
          "sizemode": "area",
          "sizeref": 0.3925,
          "symbol": "circle"
         },
         "mode": "markers",
         "name": "Rwanda",
         "orientation": "v",
         "showlegend": true,
         "type": "scatter",
         "x": [
          3.515
         ],
         "xaxis": "x",
         "y": [
          0.61586
         ],
         "yaxis": "y"
        },
        {
         "hovertemplate": "Country=Benin<br>Happiness_Score=%{x}<br>Family=%{y}<br>Happiness_Rank=%{marker.size}<extra></extra>",
         "legendgroup": "Benin",
         "marker": {
          "color": "#00cc96",
          "size": [
           153
          ],
          "sizemode": "area",
          "sizeref": 0.3925,
          "symbol": "circle"
         },
         "mode": "markers",
         "name": "Benin",
         "orientation": "v",
         "showlegend": true,
         "type": "scatter",
         "x": [
          3.484
         ],
         "xaxis": "x",
         "y": [
          0.10419
         ],
         "yaxis": "y"
        },
        {
         "hovertemplate": "Country=Afghanistan<br>Happiness_Score=%{x}<br>Family=%{y}<br>Happiness_Rank=%{marker.size}<extra></extra>",
         "legendgroup": "Afghanistan",
         "marker": {
          "color": "#ab63fa",
          "size": [
           154
          ],
          "sizemode": "area",
          "sizeref": 0.3925,
          "symbol": "circle"
         },
         "mode": "markers",
         "name": "Afghanistan",
         "orientation": "v",
         "showlegend": true,
         "type": "scatter",
         "x": [
          3.36
         ],
         "xaxis": "x",
         "y": [
          0.11037
         ],
         "yaxis": "y"
        },
        {
         "hovertemplate": "Country=Togo<br>Happiness_Score=%{x}<br>Family=%{y}<br>Happiness_Rank=%{marker.size}<extra></extra>",
         "legendgroup": "Togo",
         "marker": {
          "color": "#FFA15A",
          "size": [
           155
          ],
          "sizemode": "area",
          "sizeref": 0.3925,
          "symbol": "circle"
         },
         "mode": "markers",
         "name": "Togo",
         "orientation": "v",
         "showlegend": true,
         "type": "scatter",
         "x": [
          3.303
         ],
         "xaxis": "x",
         "y": [
          0
         ],
         "yaxis": "y"
        },
        {
         "hovertemplate": "Country=Syria<br>Happiness_Score=%{x}<br>Family=%{y}<br>Happiness_Rank=%{marker.size}<extra></extra>",
         "legendgroup": "Syria",
         "marker": {
          "color": "#19d3f3",
          "size": [
           156
          ],
          "sizemode": "area",
          "sizeref": 0.3925,
          "symbol": "circle"
         },
         "mode": "markers",
         "name": "Syria",
         "orientation": "v",
         "showlegend": true,
         "type": "scatter",
         "x": [
          3.069
         ],
         "xaxis": "x",
         "y": [
          0.14866
         ],
         "yaxis": "y"
        },
        {
         "hovertemplate": "Country=Burundi<br>Happiness_Score=%{x}<br>Family=%{y}<br>Happiness_Rank=%{marker.size}<extra></extra>",
         "legendgroup": "Burundi",
         "marker": {
          "color": "#FF6692",
          "size": [
           157
          ],
          "sizemode": "area",
          "sizeref": 0.3925,
          "symbol": "circle"
         },
         "mode": "markers",
         "name": "Burundi",
         "orientation": "v",
         "showlegend": true,
         "type": "scatter",
         "x": [
          2.905
         ],
         "xaxis": "x",
         "y": [
          0.23442
         ],
         "yaxis": "y"
        }
       ],
       "layout": {
        "height": 800,
        "legend": {
         "itemsizing": "constant",
         "title": {
          "text": "Country"
         },
         "tracegroupgap": 0
        },
        "template": {
         "data": {
          "bar": [
           {
            "error_x": {
             "color": "#2a3f5f"
            },
            "error_y": {
             "color": "#2a3f5f"
            },
            "marker": {
             "line": {
              "color": "#E5ECF6",
              "width": 0.5
             },
             "pattern": {
              "fillmode": "overlay",
              "size": 10,
              "solidity": 0.2
             }
            },
            "type": "bar"
           }
          ],
          "barpolar": [
           {
            "marker": {
             "line": {
              "color": "#E5ECF6",
              "width": 0.5
             },
             "pattern": {
              "fillmode": "overlay",
              "size": 10,
              "solidity": 0.2
             }
            },
            "type": "barpolar"
           }
          ],
          "carpet": [
           {
            "aaxis": {
             "endlinecolor": "#2a3f5f",
             "gridcolor": "white",
             "linecolor": "white",
             "minorgridcolor": "white",
             "startlinecolor": "#2a3f5f"
            },
            "baxis": {
             "endlinecolor": "#2a3f5f",
             "gridcolor": "white",
             "linecolor": "white",
             "minorgridcolor": "white",
             "startlinecolor": "#2a3f5f"
            },
            "type": "carpet"
           }
          ],
          "choropleth": [
           {
            "colorbar": {
             "outlinewidth": 0,
             "ticks": ""
            },
            "type": "choropleth"
           }
          ],
          "contour": [
           {
            "colorbar": {
             "outlinewidth": 0,
             "ticks": ""
            },
            "colorscale": [
             [
              0,
              "#0d0887"
             ],
             [
              0.1111111111111111,
              "#46039f"
             ],
             [
              0.2222222222222222,
              "#7201a8"
             ],
             [
              0.3333333333333333,
              "#9c179e"
             ],
             [
              0.4444444444444444,
              "#bd3786"
             ],
             [
              0.5555555555555556,
              "#d8576b"
             ],
             [
              0.6666666666666666,
              "#ed7953"
             ],
             [
              0.7777777777777778,
              "#fb9f3a"
             ],
             [
              0.8888888888888888,
              "#fdca26"
             ],
             [
              1,
              "#f0f921"
             ]
            ],
            "type": "contour"
           }
          ],
          "contourcarpet": [
           {
            "colorbar": {
             "outlinewidth": 0,
             "ticks": ""
            },
            "type": "contourcarpet"
           }
          ],
          "heatmap": [
           {
            "colorbar": {
             "outlinewidth": 0,
             "ticks": ""
            },
            "colorscale": [
             [
              0,
              "#0d0887"
             ],
             [
              0.1111111111111111,
              "#46039f"
             ],
             [
              0.2222222222222222,
              "#7201a8"
             ],
             [
              0.3333333333333333,
              "#9c179e"
             ],
             [
              0.4444444444444444,
              "#bd3786"
             ],
             [
              0.5555555555555556,
              "#d8576b"
             ],
             [
              0.6666666666666666,
              "#ed7953"
             ],
             [
              0.7777777777777778,
              "#fb9f3a"
             ],
             [
              0.8888888888888888,
              "#fdca26"
             ],
             [
              1,
              "#f0f921"
             ]
            ],
            "type": "heatmap"
           }
          ],
          "heatmapgl": [
           {
            "colorbar": {
             "outlinewidth": 0,
             "ticks": ""
            },
            "colorscale": [
             [
              0,
              "#0d0887"
             ],
             [
              0.1111111111111111,
              "#46039f"
             ],
             [
              0.2222222222222222,
              "#7201a8"
             ],
             [
              0.3333333333333333,
              "#9c179e"
             ],
             [
              0.4444444444444444,
              "#bd3786"
             ],
             [
              0.5555555555555556,
              "#d8576b"
             ],
             [
              0.6666666666666666,
              "#ed7953"
             ],
             [
              0.7777777777777778,
              "#fb9f3a"
             ],
             [
              0.8888888888888888,
              "#fdca26"
             ],
             [
              1,
              "#f0f921"
             ]
            ],
            "type": "heatmapgl"
           }
          ],
          "histogram": [
           {
            "marker": {
             "pattern": {
              "fillmode": "overlay",
              "size": 10,
              "solidity": 0.2
             }
            },
            "type": "histogram"
           }
          ],
          "histogram2d": [
           {
            "colorbar": {
             "outlinewidth": 0,
             "ticks": ""
            },
            "colorscale": [
             [
              0,
              "#0d0887"
             ],
             [
              0.1111111111111111,
              "#46039f"
             ],
             [
              0.2222222222222222,
              "#7201a8"
             ],
             [
              0.3333333333333333,
              "#9c179e"
             ],
             [
              0.4444444444444444,
              "#bd3786"
             ],
             [
              0.5555555555555556,
              "#d8576b"
             ],
             [
              0.6666666666666666,
              "#ed7953"
             ],
             [
              0.7777777777777778,
              "#fb9f3a"
             ],
             [
              0.8888888888888888,
              "#fdca26"
             ],
             [
              1,
              "#f0f921"
             ]
            ],
            "type": "histogram2d"
           }
          ],
          "histogram2dcontour": [
           {
            "colorbar": {
             "outlinewidth": 0,
             "ticks": ""
            },
            "colorscale": [
             [
              0,
              "#0d0887"
             ],
             [
              0.1111111111111111,
              "#46039f"
             ],
             [
              0.2222222222222222,
              "#7201a8"
             ],
             [
              0.3333333333333333,
              "#9c179e"
             ],
             [
              0.4444444444444444,
              "#bd3786"
             ],
             [
              0.5555555555555556,
              "#d8576b"
             ],
             [
              0.6666666666666666,
              "#ed7953"
             ],
             [
              0.7777777777777778,
              "#fb9f3a"
             ],
             [
              0.8888888888888888,
              "#fdca26"
             ],
             [
              1,
              "#f0f921"
             ]
            ],
            "type": "histogram2dcontour"
           }
          ],
          "mesh3d": [
           {
            "colorbar": {
             "outlinewidth": 0,
             "ticks": ""
            },
            "type": "mesh3d"
           }
          ],
          "parcoords": [
           {
            "line": {
             "colorbar": {
              "outlinewidth": 0,
              "ticks": ""
             }
            },
            "type": "parcoords"
           }
          ],
          "pie": [
           {
            "automargin": true,
            "type": "pie"
           }
          ],
          "scatter": [
           {
            "marker": {
             "colorbar": {
              "outlinewidth": 0,
              "ticks": ""
             }
            },
            "type": "scatter"
           }
          ],
          "scatter3d": [
           {
            "line": {
             "colorbar": {
              "outlinewidth": 0,
              "ticks": ""
             }
            },
            "marker": {
             "colorbar": {
              "outlinewidth": 0,
              "ticks": ""
             }
            },
            "type": "scatter3d"
           }
          ],
          "scattercarpet": [
           {
            "marker": {
             "colorbar": {
              "outlinewidth": 0,
              "ticks": ""
             }
            },
            "type": "scattercarpet"
           }
          ],
          "scattergeo": [
           {
            "marker": {
             "colorbar": {
              "outlinewidth": 0,
              "ticks": ""
             }
            },
            "type": "scattergeo"
           }
          ],
          "scattergl": [
           {
            "marker": {
             "colorbar": {
              "outlinewidth": 0,
              "ticks": ""
             }
            },
            "type": "scattergl"
           }
          ],
          "scattermapbox": [
           {
            "marker": {
             "colorbar": {
              "outlinewidth": 0,
              "ticks": ""
             }
            },
            "type": "scattermapbox"
           }
          ],
          "scatterpolar": [
           {
            "marker": {
             "colorbar": {
              "outlinewidth": 0,
              "ticks": ""
             }
            },
            "type": "scatterpolar"
           }
          ],
          "scatterpolargl": [
           {
            "marker": {
             "colorbar": {
              "outlinewidth": 0,
              "ticks": ""
             }
            },
            "type": "scatterpolargl"
           }
          ],
          "scatterternary": [
           {
            "marker": {
             "colorbar": {
              "outlinewidth": 0,
              "ticks": ""
             }
            },
            "type": "scatterternary"
           }
          ],
          "surface": [
           {
            "colorbar": {
             "outlinewidth": 0,
             "ticks": ""
            },
            "colorscale": [
             [
              0,
              "#0d0887"
             ],
             [
              0.1111111111111111,
              "#46039f"
             ],
             [
              0.2222222222222222,
              "#7201a8"
             ],
             [
              0.3333333333333333,
              "#9c179e"
             ],
             [
              0.4444444444444444,
              "#bd3786"
             ],
             [
              0.5555555555555556,
              "#d8576b"
             ],
             [
              0.6666666666666666,
              "#ed7953"
             ],
             [
              0.7777777777777778,
              "#fb9f3a"
             ],
             [
              0.8888888888888888,
              "#fdca26"
             ],
             [
              1,
              "#f0f921"
             ]
            ],
            "type": "surface"
           }
          ],
          "table": [
           {
            "cells": {
             "fill": {
              "color": "#EBF0F8"
             },
             "line": {
              "color": "white"
             }
            },
            "header": {
             "fill": {
              "color": "#C8D4E3"
             },
             "line": {
              "color": "white"
             }
            },
            "type": "table"
           }
          ]
         },
         "layout": {
          "annotationdefaults": {
           "arrowcolor": "#2a3f5f",
           "arrowhead": 0,
           "arrowwidth": 1
          },
          "autotypenumbers": "strict",
          "coloraxis": {
           "colorbar": {
            "outlinewidth": 0,
            "ticks": ""
           }
          },
          "colorscale": {
           "diverging": [
            [
             0,
             "#8e0152"
            ],
            [
             0.1,
             "#c51b7d"
            ],
            [
             0.2,
             "#de77ae"
            ],
            [
             0.3,
             "#f1b6da"
            ],
            [
             0.4,
             "#fde0ef"
            ],
            [
             0.5,
             "#f7f7f7"
            ],
            [
             0.6,
             "#e6f5d0"
            ],
            [
             0.7,
             "#b8e186"
            ],
            [
             0.8,
             "#7fbc41"
            ],
            [
             0.9,
             "#4d9221"
            ],
            [
             1,
             "#276419"
            ]
           ],
           "sequential": [
            [
             0,
             "#0d0887"
            ],
            [
             0.1111111111111111,
             "#46039f"
            ],
            [
             0.2222222222222222,
             "#7201a8"
            ],
            [
             0.3333333333333333,
             "#9c179e"
            ],
            [
             0.4444444444444444,
             "#bd3786"
            ],
            [
             0.5555555555555556,
             "#d8576b"
            ],
            [
             0.6666666666666666,
             "#ed7953"
            ],
            [
             0.7777777777777778,
             "#fb9f3a"
            ],
            [
             0.8888888888888888,
             "#fdca26"
            ],
            [
             1,
             "#f0f921"
            ]
           ],
           "sequentialminus": [
            [
             0,
             "#0d0887"
            ],
            [
             0.1111111111111111,
             "#46039f"
            ],
            [
             0.2222222222222222,
             "#7201a8"
            ],
            [
             0.3333333333333333,
             "#9c179e"
            ],
            [
             0.4444444444444444,
             "#bd3786"
            ],
            [
             0.5555555555555556,
             "#d8576b"
            ],
            [
             0.6666666666666666,
             "#ed7953"
            ],
            [
             0.7777777777777778,
             "#fb9f3a"
            ],
            [
             0.8888888888888888,
             "#fdca26"
            ],
            [
             1,
             "#f0f921"
            ]
           ]
          },
          "colorway": [
           "#636efa",
           "#EF553B",
           "#00cc96",
           "#ab63fa",
           "#FFA15A",
           "#19d3f3",
           "#FF6692",
           "#B6E880",
           "#FF97FF",
           "#FECB52"
          ],
          "font": {
           "color": "#2a3f5f"
          },
          "geo": {
           "bgcolor": "white",
           "lakecolor": "white",
           "landcolor": "#E5ECF6",
           "showlakes": true,
           "showland": true,
           "subunitcolor": "white"
          },
          "hoverlabel": {
           "align": "left"
          },
          "hovermode": "closest",
          "mapbox": {
           "style": "light"
          },
          "paper_bgcolor": "white",
          "plot_bgcolor": "#E5ECF6",
          "polar": {
           "angularaxis": {
            "gridcolor": "white",
            "linecolor": "white",
            "ticks": ""
           },
           "bgcolor": "#E5ECF6",
           "radialaxis": {
            "gridcolor": "white",
            "linecolor": "white",
            "ticks": ""
           }
          },
          "scene": {
           "xaxis": {
            "backgroundcolor": "#E5ECF6",
            "gridcolor": "white",
            "gridwidth": 2,
            "linecolor": "white",
            "showbackground": true,
            "ticks": "",
            "zerolinecolor": "white"
           },
           "yaxis": {
            "backgroundcolor": "#E5ECF6",
            "gridcolor": "white",
            "gridwidth": 2,
            "linecolor": "white",
            "showbackground": true,
            "ticks": "",
            "zerolinecolor": "white"
           },
           "zaxis": {
            "backgroundcolor": "#E5ECF6",
            "gridcolor": "white",
            "gridwidth": 2,
            "linecolor": "white",
            "showbackground": true,
            "ticks": "",
            "zerolinecolor": "white"
           }
          },
          "shapedefaults": {
           "line": {
            "color": "#2a3f5f"
           }
          },
          "ternary": {
           "aaxis": {
            "gridcolor": "white",
            "linecolor": "white",
            "ticks": ""
           },
           "baxis": {
            "gridcolor": "white",
            "linecolor": "white",
            "ticks": ""
           },
           "bgcolor": "#E5ECF6",
           "caxis": {
            "gridcolor": "white",
            "linecolor": "white",
            "ticks": ""
           }
          },
          "title": {
           "x": 0.05
          },
          "xaxis": {
           "automargin": true,
           "gridcolor": "white",
           "linecolor": "white",
           "ticks": "",
           "title": {
            "standoff": 15
           },
           "zerolinecolor": "white",
           "zerolinewidth": 2
          },
          "yaxis": {
           "automargin": true,
           "gridcolor": "white",
           "linecolor": "white",
           "ticks": "",
           "title": {
            "standoff": 15
           },
           "zerolinecolor": "white",
           "zerolinewidth": 2
          }
         }
        },
        "title": {
         "text": "Happiness Score vs Family"
        },
        "width": 1500,
        "xaxis": {
         "anchor": "y",
         "domain": [
          0,
          1
         ],
         "title": {
          "text": "Happiness_Score"
         }
        },
        "yaxis": {
         "anchor": "x",
         "domain": [
          0,
          1
         ],
         "title": {
          "text": "Family"
         }
        }
       }
      }
     },
     "metadata": {},
     "output_type": "display_data"
    }
   ],
   "source": [
    "fig = px.scatter(happiness_df, x=\"Happiness_Score\", y=\"Family\", color=\"Country\",size=\"Happiness_Rank\", width=1500, height=800, title=\"Happiness Score vs Family\")\n",
    "fig.show()"
   ]
  },
  {
   "cell_type": "code",
   "execution_count": 6,
   "metadata": {},
   "outputs": [
    {
     "data": {
      "text/plain": [
       "Sub-Saharan Africa                 38\n",
       "Central and Eastern Europe         29\n",
       "Latin America and Caribbean        24\n",
       "Western Europe                     21\n",
       "Middle East and Northern Africa    19\n",
       "Southeastern Asia                   9\n",
       "Southern Asia                       7\n",
       "Eastern Asia                        6\n",
       "North America                       2\n",
       "Australia and New Zealand           2\n",
       "Name: Region, dtype: int64"
      ]
     },
     "execution_count": 6,
     "metadata": {},
     "output_type": "execute_result"
    }
   ],
   "source": [
    "happiness_df.Region.value_counts()"
   ]
  },
  {
   "cell_type": "code",
   "execution_count": 7,
   "metadata": {},
   "outputs": [],
   "source": [
    "happiness_df.Region.value_counts()\n",
    "# Substituting the Region names with numbers\n",
    "happiness_df.replace(to_replace =\"Western Europe\", value = \"Europe\", inplace=True)\n",
    "happiness_df.replace(to_replace =\"North America\", value = \"America\", inplace=True)\n",
    "happiness_df.replace(to_replace =\"Australia and New Zealand\", value = \"Oceania\", inplace=True)\n",
    "happiness_df.replace(to_replace =\"Middle East and Northern Africa\", value =\"Africa\", inplace=True)\n",
    "happiness_df.replace(to_replace =\"Latin America and Caribbean\", value = \"America\", inplace=True)\n",
    "happiness_df.replace(to_replace =\"Southeastern Asia\", value = \"Asia\", inplace=True)\n",
    "happiness_df.replace(to_replace =\"Central and Eastern Europe\", value = \"Europe\", inplace=True)\n",
    "happiness_df.replace(to_replace =\"Eastern Asia\", value = \"Asia\", inplace=True)\n",
    "happiness_df.replace(to_replace =\"Sub-Saharan Africa\", value = \"Africa\", inplace=True)\n",
    "happiness_df.replace(to_replace =\"Southern Asia\", value = \"Asia\", inplace=True)"
   ]
  },
  {
   "cell_type": "code",
   "execution_count": 8,
   "metadata": {},
   "outputs": [
    {
     "data": {
      "application/vnd.plotly.v1+json": {
       "config": {
        "plotlyServerURL": "https://plot.ly"
       },
       "data": [
        {
         "hovertemplate": "Country=Denmark<br>Region=Europe<br>Happiness_Score=%{x}<br>Family=%{y}<br>Happiness_Rank=%{marker.size}<extra></extra>",
         "legendgroup": "Denmark",
         "marker": {
          "color": "#636efa",
          "size": [
           1
          ],
          "sizemode": "area",
          "sizeref": 0.3925,
          "symbol": "circle"
         },
         "mode": "markers",
         "name": "Denmark",
         "orientation": "v",
         "showlegend": true,
         "type": "scatter",
         "x": [
          7.526
         ],
         "xaxis": "x5",
         "y": [
          1.16374
         ],
         "yaxis": "y5"
        },
        {
         "hovertemplate": "Country=Switzerland<br>Region=Europe<br>Happiness_Score=%{x}<br>Family=%{y}<br>Happiness_Rank=%{marker.size}<extra></extra>",
         "legendgroup": "Switzerland",
         "marker": {
          "color": "#EF553B",
          "size": [
           2
          ],
          "sizemode": "area",
          "sizeref": 0.3925,
          "symbol": "circle"
         },
         "mode": "markers",
         "name": "Switzerland",
         "orientation": "v",
         "showlegend": true,
         "type": "scatter",
         "x": [
          7.509
         ],
         "xaxis": "x5",
         "y": [
          1.14524
         ],
         "yaxis": "y5"
        },
        {
         "hovertemplate": "Country=Iceland<br>Region=Europe<br>Happiness_Score=%{x}<br>Family=%{y}<br>Happiness_Rank=%{marker.size}<extra></extra>",
         "legendgroup": "Iceland",
         "marker": {
          "color": "#00cc96",
          "size": [
           3
          ],
          "sizemode": "area",
          "sizeref": 0.3925,
          "symbol": "circle"
         },
         "mode": "markers",
         "name": "Iceland",
         "orientation": "v",
         "showlegend": true,
         "type": "scatter",
         "x": [
          7.501
         ],
         "xaxis": "x5",
         "y": [
          1.18326
         ],
         "yaxis": "y5"
        },
        {
         "hovertemplate": "Country=Norway<br>Region=Europe<br>Happiness_Score=%{x}<br>Family=%{y}<br>Happiness_Rank=%{marker.size}<extra></extra>",
         "legendgroup": "Norway",
         "marker": {
          "color": "#ab63fa",
          "size": [
           4
          ],
          "sizemode": "area",
          "sizeref": 0.3925,
          "symbol": "circle"
         },
         "mode": "markers",
         "name": "Norway",
         "orientation": "v",
         "showlegend": true,
         "type": "scatter",
         "x": [
          7.498
         ],
         "xaxis": "x5",
         "y": [
          1.1269
         ],
         "yaxis": "y5"
        },
        {
         "hovertemplate": "Country=Finland<br>Region=Europe<br>Happiness_Score=%{x}<br>Family=%{y}<br>Happiness_Rank=%{marker.size}<extra></extra>",
         "legendgroup": "Finland",
         "marker": {
          "color": "#FFA15A",
          "size": [
           5
          ],
          "sizemode": "area",
          "sizeref": 0.3925,
          "symbol": "circle"
         },
         "mode": "markers",
         "name": "Finland",
         "orientation": "v",
         "showlegend": true,
         "type": "scatter",
         "x": [
          7.413
         ],
         "xaxis": "x5",
         "y": [
          1.13464
         ],
         "yaxis": "y5"
        },
        {
         "hovertemplate": "Country=Canada<br>Region=America<br>Happiness_Score=%{x}<br>Family=%{y}<br>Happiness_Rank=%{marker.size}<extra></extra>",
         "legendgroup": "Canada",
         "marker": {
          "color": "#19d3f3",
          "size": [
           6
          ],
          "sizemode": "area",
          "sizeref": 0.3925,
          "symbol": "circle"
         },
         "mode": "markers",
         "name": "Canada",
         "orientation": "v",
         "showlegend": true,
         "type": "scatter",
         "x": [
          7.404
         ],
         "xaxis": "x4",
         "y": [
          1.0961
         ],
         "yaxis": "y4"
        },
        {
         "hovertemplate": "Country=Netherlands<br>Region=Europe<br>Happiness_Score=%{x}<br>Family=%{y}<br>Happiness_Rank=%{marker.size}<extra></extra>",
         "legendgroup": "Netherlands",
         "marker": {
          "color": "#FF6692",
          "size": [
           7
          ],
          "sizemode": "area",
          "sizeref": 0.3925,
          "symbol": "circle"
         },
         "mode": "markers",
         "name": "Netherlands",
         "orientation": "v",
         "showlegend": true,
         "type": "scatter",
         "x": [
          7.339
         ],
         "xaxis": "x5",
         "y": [
          1.02912
         ],
         "yaxis": "y5"
        },
        {
         "hovertemplate": "Country=New Zealand<br>Region=Oceania<br>Happiness_Score=%{x}<br>Family=%{y}<br>Happiness_Rank=%{marker.size}<extra></extra>",
         "legendgroup": "New Zealand",
         "marker": {
          "color": "#B6E880",
          "size": [
           8
          ],
          "sizemode": "area",
          "sizeref": 0.3925,
          "symbol": "circle"
         },
         "mode": "markers",
         "name": "New Zealand",
         "orientation": "v",
         "showlegend": true,
         "type": "scatter",
         "x": [
          7.334
         ],
         "xaxis": "x3",
         "y": [
          1.17278
         ],
         "yaxis": "y3"
        },
        {
         "hovertemplate": "Country=Australia<br>Region=Oceania<br>Happiness_Score=%{x}<br>Family=%{y}<br>Happiness_Rank=%{marker.size}<extra></extra>",
         "legendgroup": "Australia",
         "marker": {
          "color": "#FF97FF",
          "size": [
           9
          ],
          "sizemode": "area",
          "sizeref": 0.3925,
          "symbol": "circle"
         },
         "mode": "markers",
         "name": "Australia",
         "orientation": "v",
         "showlegend": true,
         "type": "scatter",
         "x": [
          7.313
         ],
         "xaxis": "x3",
         "y": [
          1.10476
         ],
         "yaxis": "y3"
        },
        {
         "hovertemplate": "Country=Sweden<br>Region=Europe<br>Happiness_Score=%{x}<br>Family=%{y}<br>Happiness_Rank=%{marker.size}<extra></extra>",
         "legendgroup": "Sweden",
         "marker": {
          "color": "#FECB52",
          "size": [
           10
          ],
          "sizemode": "area",
          "sizeref": 0.3925,
          "symbol": "circle"
         },
         "mode": "markers",
         "name": "Sweden",
         "orientation": "v",
         "showlegend": true,
         "type": "scatter",
         "x": [
          7.291
         ],
         "xaxis": "x5",
         "y": [
          1.08764
         ],
         "yaxis": "y5"
        },
        {
         "hovertemplate": "Country=Israel<br>Region=Africa<br>Happiness_Score=%{x}<br>Family=%{y}<br>Happiness_Rank=%{marker.size}<extra></extra>",
         "legendgroup": "Israel",
         "marker": {
          "color": "#636efa",
          "size": [
           11
          ],
          "sizemode": "area",
          "sizeref": 0.3925,
          "symbol": "circle"
         },
         "mode": "markers",
         "name": "Israel",
         "orientation": "v",
         "showlegend": true,
         "type": "scatter",
         "x": [
          7.267
         ],
         "xaxis": "x2",
         "y": [
          0.99537
         ],
         "yaxis": "y2"
        },
        {
         "hovertemplate": "Country=Austria<br>Region=Europe<br>Happiness_Score=%{x}<br>Family=%{y}<br>Happiness_Rank=%{marker.size}<extra></extra>",
         "legendgroup": "Austria",
         "marker": {
          "color": "#EF553B",
          "size": [
           12
          ],
          "sizemode": "area",
          "sizeref": 0.3925,
          "symbol": "circle"
         },
         "mode": "markers",
         "name": "Austria",
         "orientation": "v",
         "showlegend": true,
         "type": "scatter",
         "x": [
          7.119
         ],
         "xaxis": "x5",
         "y": [
          1.08383
         ],
         "yaxis": "y5"
        },
        {
         "hovertemplate": "Country=United States<br>Region=America<br>Happiness_Score=%{x}<br>Family=%{y}<br>Happiness_Rank=%{marker.size}<extra></extra>",
         "legendgroup": "United States",
         "marker": {
          "color": "#00cc96",
          "size": [
           13
          ],
          "sizemode": "area",
          "sizeref": 0.3925,
          "symbol": "circle"
         },
         "mode": "markers",
         "name": "United States",
         "orientation": "v",
         "showlegend": true,
         "type": "scatter",
         "x": [
          7.104
         ],
         "xaxis": "x4",
         "y": [
          1.04782
         ],
         "yaxis": "y4"
        },
        {
         "hovertemplate": "Country=Costa Rica<br>Region=America<br>Happiness_Score=%{x}<br>Family=%{y}<br>Happiness_Rank=%{marker.size}<extra></extra>",
         "legendgroup": "Costa Rica",
         "marker": {
          "color": "#ab63fa",
          "size": [
           14
          ],
          "sizemode": "area",
          "sizeref": 0.3925,
          "symbol": "circle"
         },
         "mode": "markers",
         "name": "Costa Rica",
         "orientation": "v",
         "showlegend": true,
         "type": "scatter",
         "x": [
          7.087
         ],
         "xaxis": "x4",
         "y": [
          1.02152
         ],
         "yaxis": "y4"
        },
        {
         "hovertemplate": "Country=Puerto Rico<br>Region=America<br>Happiness_Score=%{x}<br>Family=%{y}<br>Happiness_Rank=%{marker.size}<extra></extra>",
         "legendgroup": "Puerto Rico",
         "marker": {
          "color": "#FFA15A",
          "size": [
           15
          ],
          "sizemode": "area",
          "sizeref": 0.3925,
          "symbol": "circle"
         },
         "mode": "markers",
         "name": "Puerto Rico",
         "orientation": "v",
         "showlegend": true,
         "type": "scatter",
         "x": [
          7.039
         ],
         "xaxis": "x4",
         "y": [
          1.08113
         ],
         "yaxis": "y4"
        },
        {
         "hovertemplate": "Country=Germany<br>Region=Europe<br>Happiness_Score=%{x}<br>Family=%{y}<br>Happiness_Rank=%{marker.size}<extra></extra>",
         "legendgroup": "Germany",
         "marker": {
          "color": "#19d3f3",
          "size": [
           16
          ],
          "sizemode": "area",
          "sizeref": 0.3925,
          "symbol": "circle"
         },
         "mode": "markers",
         "name": "Germany",
         "orientation": "v",
         "showlegend": true,
         "type": "scatter",
         "x": [
          6.994
         ],
         "xaxis": "x5",
         "y": [
          1.09774
         ],
         "yaxis": "y5"
        },
        {
         "hovertemplate": "Country=Brazil<br>Region=America<br>Happiness_Score=%{x}<br>Family=%{y}<br>Happiness_Rank=%{marker.size}<extra></extra>",
         "legendgroup": "Brazil",
         "marker": {
          "color": "#FF6692",
          "size": [
           17
          ],
          "sizemode": "area",
          "sizeref": 0.3925,
          "symbol": "circle"
         },
         "mode": "markers",
         "name": "Brazil",
         "orientation": "v",
         "showlegend": true,
         "type": "scatter",
         "x": [
          6.952
         ],
         "xaxis": "x4",
         "y": [
          1.03938
         ],
         "yaxis": "y4"
        },
        {
         "hovertemplate": "Country=Belgium<br>Region=Europe<br>Happiness_Score=%{x}<br>Family=%{y}<br>Happiness_Rank=%{marker.size}<extra></extra>",
         "legendgroup": "Belgium",
         "marker": {
          "color": "#B6E880",
          "size": [
           18
          ],
          "sizemode": "area",
          "sizeref": 0.3925,
          "symbol": "circle"
         },
         "mode": "markers",
         "name": "Belgium",
         "orientation": "v",
         "showlegend": true,
         "type": "scatter",
         "x": [
          6.929
         ],
         "xaxis": "x5",
         "y": [
          1.05249
         ],
         "yaxis": "y5"
        },
        {
         "hovertemplate": "Country=Ireland<br>Region=Europe<br>Happiness_Score=%{x}<br>Family=%{y}<br>Happiness_Rank=%{marker.size}<extra></extra>",
         "legendgroup": "Ireland",
         "marker": {
          "color": "#FF97FF",
          "size": [
           19
          ],
          "sizemode": "area",
          "sizeref": 0.3925,
          "symbol": "circle"
         },
         "mode": "markers",
         "name": "Ireland",
         "orientation": "v",
         "showlegend": true,
         "type": "scatter",
         "x": [
          6.907
         ],
         "xaxis": "x5",
         "y": [
          1.16157
         ],
         "yaxis": "y5"
        },
        {
         "hovertemplate": "Country=Luxembourg<br>Region=Europe<br>Happiness_Score=%{x}<br>Family=%{y}<br>Happiness_Rank=%{marker.size}<extra></extra>",
         "legendgroup": "Luxembourg",
         "marker": {
          "color": "#FECB52",
          "size": [
           20
          ],
          "sizemode": "area",
          "sizeref": 0.3925,
          "symbol": "circle"
         },
         "mode": "markers",
         "name": "Luxembourg",
         "orientation": "v",
         "showlegend": true,
         "type": "scatter",
         "x": [
          6.871
         ],
         "xaxis": "x5",
         "y": [
          1.03999
         ],
         "yaxis": "y5"
        },
        {
         "hovertemplate": "Country=Mexico<br>Region=America<br>Happiness_Score=%{x}<br>Family=%{y}<br>Happiness_Rank=%{marker.size}<extra></extra>",
         "legendgroup": "Mexico",
         "marker": {
          "color": "#636efa",
          "size": [
           21
          ],
          "sizemode": "area",
          "sizeref": 0.3925,
          "symbol": "circle"
         },
         "mode": "markers",
         "name": "Mexico",
         "orientation": "v",
         "showlegend": true,
         "type": "scatter",
         "x": [
          6.778
         ],
         "xaxis": "x4",
         "y": [
          0.7146
         ],
         "yaxis": "y4"
        },
        {
         "hovertemplate": "Country=Singapore<br>Region=Asia<br>Happiness_Score=%{x}<br>Family=%{y}<br>Happiness_Rank=%{marker.size}<extra></extra>",
         "legendgroup": "Singapore",
         "marker": {
          "color": "#EF553B",
          "size": [
           22
          ],
          "sizemode": "area",
          "sizeref": 0.3925,
          "symbol": "circle"
         },
         "mode": "markers",
         "name": "Singapore",
         "orientation": "v",
         "showlegend": true,
         "type": "scatter",
         "x": [
          6.739
         ],
         "xaxis": "x",
         "y": [
          0.86758
         ],
         "yaxis": "y"
        },
        {
         "hovertemplate": "Country=United Kingdom<br>Region=Europe<br>Happiness_Score=%{x}<br>Family=%{y}<br>Happiness_Rank=%{marker.size}<extra></extra>",
         "legendgroup": "United Kingdom",
         "marker": {
          "color": "#00cc96",
          "size": [
           23
          ],
          "sizemode": "area",
          "sizeref": 0.3925,
          "symbol": "circle"
         },
         "mode": "markers",
         "name": "United Kingdom",
         "orientation": "v",
         "showlegend": true,
         "type": "scatter",
         "x": [
          6.725
         ],
         "xaxis": "x5",
         "y": [
          1.08672
         ],
         "yaxis": "y5"
        },
        {
         "hovertemplate": "Country=Chile<br>Region=America<br>Happiness_Score=%{x}<br>Family=%{y}<br>Happiness_Rank=%{marker.size}<extra></extra>",
         "legendgroup": "Chile",
         "marker": {
          "color": "#ab63fa",
          "size": [
           24
          ],
          "sizemode": "area",
          "sizeref": 0.3925,
          "symbol": "circle"
         },
         "mode": "markers",
         "name": "Chile",
         "orientation": "v",
         "showlegend": true,
         "type": "scatter",
         "x": [
          6.705
         ],
         "xaxis": "x4",
         "y": [
          0.90587
         ],
         "yaxis": "y4"
        },
        {
         "hovertemplate": "Country=Panama<br>Region=America<br>Happiness_Score=%{x}<br>Family=%{y}<br>Happiness_Rank=%{marker.size}<extra></extra>",
         "legendgroup": "Panama",
         "marker": {
          "color": "#FFA15A",
          "size": [
           25
          ],
          "sizemode": "area",
          "sizeref": 0.3925,
          "symbol": "circle"
         },
         "mode": "markers",
         "name": "Panama",
         "orientation": "v",
         "showlegend": true,
         "type": "scatter",
         "x": [
          6.701
         ],
         "xaxis": "x4",
         "y": [
          0.98912
         ],
         "yaxis": "y4"
        },
        {
         "hovertemplate": "Country=Argentina<br>Region=America<br>Happiness_Score=%{x}<br>Family=%{y}<br>Happiness_Rank=%{marker.size}<extra></extra>",
         "legendgroup": "Argentina",
         "marker": {
          "color": "#19d3f3",
          "size": [
           26
          ],
          "sizemode": "area",
          "sizeref": 0.3925,
          "symbol": "circle"
         },
         "mode": "markers",
         "name": "Argentina",
         "orientation": "v",
         "showlegend": true,
         "type": "scatter",
         "x": [
          6.65
         ],
         "xaxis": "x4",
         "y": [
          1.06612
         ],
         "yaxis": "y4"
        },
        {
         "hovertemplate": "Country=Czech Republic<br>Region=Europe<br>Happiness_Score=%{x}<br>Family=%{y}<br>Happiness_Rank=%{marker.size}<extra></extra>",
         "legendgroup": "Czech Republic",
         "marker": {
          "color": "#FF6692",
          "size": [
           27
          ],
          "sizemode": "area",
          "sizeref": 0.3925,
          "symbol": "circle"
         },
         "mode": "markers",
         "name": "Czech Republic",
         "orientation": "v",
         "showlegend": true,
         "type": "scatter",
         "x": [
          6.596
         ],
         "xaxis": "x5",
         "y": [
          1.00793
         ],
         "yaxis": "y5"
        },
        {
         "hovertemplate": "Country=United Arab Emirates<br>Region=Africa<br>Happiness_Score=%{x}<br>Family=%{y}<br>Happiness_Rank=%{marker.size}<extra></extra>",
         "legendgroup": "United Arab Emirates",
         "marker": {
          "color": "#B6E880",
          "size": [
           28
          ],
          "sizemode": "area",
          "sizeref": 0.3925,
          "symbol": "circle"
         },
         "mode": "markers",
         "name": "United Arab Emirates",
         "orientation": "v",
         "showlegend": true,
         "type": "scatter",
         "x": [
          6.573
         ],
         "xaxis": "x2",
         "y": [
          0.87114
         ],
         "yaxis": "y2"
        },
        {
         "hovertemplate": "Country=Uruguay<br>Region=America<br>Happiness_Score=%{x}<br>Family=%{y}<br>Happiness_Rank=%{marker.size}<extra></extra>",
         "legendgroup": "Uruguay",
         "marker": {
          "color": "#FF97FF",
          "size": [
           29
          ],
          "sizemode": "area",
          "sizeref": 0.3925,
          "symbol": "circle"
         },
         "mode": "markers",
         "name": "Uruguay",
         "orientation": "v",
         "showlegend": true,
         "type": "scatter",
         "x": [
          6.545
         ],
         "xaxis": "x4",
         "y": [
          1.03143
         ],
         "yaxis": "y4"
        },
        {
         "hovertemplate": "Country=Malta<br>Region=Europe<br>Happiness_Score=%{x}<br>Family=%{y}<br>Happiness_Rank=%{marker.size}<extra></extra>",
         "legendgroup": "Malta",
         "marker": {
          "color": "#FECB52",
          "size": [
           30
          ],
          "sizemode": "area",
          "sizeref": 0.3925,
          "symbol": "circle"
         },
         "mode": "markers",
         "name": "Malta",
         "orientation": "v",
         "showlegend": true,
         "type": "scatter",
         "x": [
          6.488
         ],
         "xaxis": "x5",
         "y": [
          1.09879
         ],
         "yaxis": "y5"
        },
        {
         "hovertemplate": "Country=Colombia<br>Region=America<br>Happiness_Score=%{x}<br>Family=%{y}<br>Happiness_Rank=%{marker.size}<extra></extra>",
         "legendgroup": "Colombia",
         "marker": {
          "color": "#636efa",
          "size": [
           31
          ],
          "sizemode": "area",
          "sizeref": 0.3925,
          "symbol": "circle"
         },
         "mode": "markers",
         "name": "Colombia",
         "orientation": "v",
         "showlegend": true,
         "type": "scatter",
         "x": [
          6.481
         ],
         "xaxis": "x4",
         "y": [
          1.02169
         ],
         "yaxis": "y4"
        },
        {
         "hovertemplate": "Country=France<br>Region=Europe<br>Happiness_Score=%{x}<br>Family=%{y}<br>Happiness_Rank=%{marker.size}<extra></extra>",
         "legendgroup": "France",
         "marker": {
          "color": "#EF553B",
          "size": [
           32
          ],
          "sizemode": "area",
          "sizeref": 0.3925,
          "symbol": "circle"
         },
         "mode": "markers",
         "name": "France",
         "orientation": "v",
         "showlegend": true,
         "type": "scatter",
         "x": [
          6.478
         ],
         "xaxis": "x5",
         "y": [
          1.00508
         ],
         "yaxis": "y5"
        },
        {
         "hovertemplate": "Country=Thailand<br>Region=Asia<br>Happiness_Score=%{x}<br>Family=%{y}<br>Happiness_Rank=%{marker.size}<extra></extra>",
         "legendgroup": "Thailand",
         "marker": {
          "color": "#00cc96",
          "size": [
           33
          ],
          "sizemode": "area",
          "sizeref": 0.3925,
          "symbol": "circle"
         },
         "mode": "markers",
         "name": "Thailand",
         "orientation": "v",
         "showlegend": true,
         "type": "scatter",
         "x": [
          6.474
         ],
         "xaxis": "x",
         "y": [
          1.04477
         ],
         "yaxis": "y"
        },
        {
         "hovertemplate": "Country=Saudi Arabia<br>Region=Africa<br>Happiness_Score=%{x}<br>Family=%{y}<br>Happiness_Rank=%{marker.size}<extra></extra>",
         "legendgroup": "Saudi Arabia",
         "marker": {
          "color": "#ab63fa",
          "size": [
           34
          ],
          "sizemode": "area",
          "sizeref": 0.3925,
          "symbol": "circle"
         },
         "mode": "markers",
         "name": "Saudi Arabia",
         "orientation": "v",
         "showlegend": true,
         "type": "scatter",
         "x": [
          6.379
         ],
         "xaxis": "x2",
         "y": [
          0.84829
         ],
         "yaxis": "y2"
        },
        {
         "hovertemplate": "Country=Taiwan<br>Region=Asia<br>Happiness_Score=%{x}<br>Family=%{y}<br>Happiness_Rank=%{marker.size}<extra></extra>",
         "legendgroup": "Taiwan",
         "marker": {
          "color": "#FFA15A",
          "size": [
           34
          ],
          "sizemode": "area",
          "sizeref": 0.3925,
          "symbol": "circle"
         },
         "mode": "markers",
         "name": "Taiwan",
         "orientation": "v",
         "showlegend": true,
         "type": "scatter",
         "x": [
          6.379
         ],
         "xaxis": "x",
         "y": [
          0.92624
         ],
         "yaxis": "y"
        },
        {
         "hovertemplate": "Country=Qatar<br>Region=Africa<br>Happiness_Score=%{x}<br>Family=%{y}<br>Happiness_Rank=%{marker.size}<extra></extra>",
         "legendgroup": "Qatar",
         "marker": {
          "color": "#19d3f3",
          "size": [
           36
          ],
          "sizemode": "area",
          "sizeref": 0.3925,
          "symbol": "circle"
         },
         "mode": "markers",
         "name": "Qatar",
         "orientation": "v",
         "showlegend": true,
         "type": "scatter",
         "x": [
          6.375
         ],
         "xaxis": "x2",
         "y": [
          0.87964
         ],
         "yaxis": "y2"
        },
        {
         "hovertemplate": "Country=Spain<br>Region=Europe<br>Happiness_Score=%{x}<br>Family=%{y}<br>Happiness_Rank=%{marker.size}<extra></extra>",
         "legendgroup": "Spain",
         "marker": {
          "color": "#FF6692",
          "size": [
           37
          ],
          "sizemode": "area",
          "sizeref": 0.3925,
          "symbol": "circle"
         },
         "mode": "markers",
         "name": "Spain",
         "orientation": "v",
         "showlegend": true,
         "type": "scatter",
         "x": [
          6.361
         ],
         "xaxis": "x5",
         "y": [
          1.12945
         ],
         "yaxis": "y5"
        },
        {
         "hovertemplate": "Country=Algeria<br>Region=Africa<br>Happiness_Score=%{x}<br>Family=%{y}<br>Happiness_Rank=%{marker.size}<extra></extra>",
         "legendgroup": "Algeria",
         "marker": {
          "color": "#B6E880",
          "size": [
           38
          ],
          "sizemode": "area",
          "sizeref": 0.3925,
          "symbol": "circle"
         },
         "mode": "markers",
         "name": "Algeria",
         "orientation": "v",
         "showlegend": true,
         "type": "scatter",
         "x": [
          6.355
         ],
         "xaxis": "x2",
         "y": [
          0.83309
         ],
         "yaxis": "y2"
        },
        {
         "hovertemplate": "Country=Guatemala<br>Region=America<br>Happiness_Score=%{x}<br>Family=%{y}<br>Happiness_Rank=%{marker.size}<extra></extra>",
         "legendgroup": "Guatemala",
         "marker": {
          "color": "#FF97FF",
          "size": [
           39
          ],
          "sizemode": "area",
          "sizeref": 0.3925,
          "symbol": "circle"
         },
         "mode": "markers",
         "name": "Guatemala",
         "orientation": "v",
         "showlegend": true,
         "type": "scatter",
         "x": [
          6.324
         ],
         "xaxis": "x4",
         "y": [
          0.87119
         ],
         "yaxis": "y4"
        },
        {
         "hovertemplate": "Country=Suriname<br>Region=America<br>Happiness_Score=%{x}<br>Family=%{y}<br>Happiness_Rank=%{marker.size}<extra></extra>",
         "legendgroup": "Suriname",
         "marker": {
          "color": "#FECB52",
          "size": [
           40
          ],
          "sizemode": "area",
          "sizeref": 0.3925,
          "symbol": "circle"
         },
         "mode": "markers",
         "name": "Suriname",
         "orientation": "v",
         "showlegend": true,
         "type": "scatter",
         "x": [
          6.269
         ],
         "xaxis": "x4",
         "y": [
          0.77866
         ],
         "yaxis": "y4"
        },
        {
         "hovertemplate": "Country=Kuwait<br>Region=Africa<br>Happiness_Score=%{x}<br>Family=%{y}<br>Happiness_Rank=%{marker.size}<extra></extra>",
         "legendgroup": "Kuwait",
         "marker": {
          "color": "#636efa",
          "size": [
           41
          ],
          "sizemode": "area",
          "sizeref": 0.3925,
          "symbol": "circle"
         },
         "mode": "markers",
         "name": "Kuwait",
         "orientation": "v",
         "showlegend": true,
         "type": "scatter",
         "x": [
          6.239
         ],
         "xaxis": "x2",
         "y": [
          0.87758
         ],
         "yaxis": "y2"
        },
        {
         "hovertemplate": "Country=Bahrain<br>Region=Africa<br>Happiness_Score=%{x}<br>Family=%{y}<br>Happiness_Rank=%{marker.size}<extra></extra>",
         "legendgroup": "Bahrain",
         "marker": {
          "color": "#EF553B",
          "size": [
           42
          ],
          "sizemode": "area",
          "sizeref": 0.3925,
          "symbol": "circle"
         },
         "mode": "markers",
         "name": "Bahrain",
         "orientation": "v",
         "showlegend": true,
         "type": "scatter",
         "x": [
          6.218
         ],
         "xaxis": "x2",
         "y": [
          0.94397
         ],
         "yaxis": "y2"
        },
        {
         "hovertemplate": "Country=Trinidad and Tobago<br>Region=America<br>Happiness_Score=%{x}<br>Family=%{y}<br>Happiness_Rank=%{marker.size}<extra></extra>",
         "legendgroup": "Trinidad and Tobago",
         "marker": {
          "color": "#00cc96",
          "size": [
           43
          ],
          "sizemode": "area",
          "sizeref": 0.3925,
          "symbol": "circle"
         },
         "mode": "markers",
         "name": "Trinidad and Tobago",
         "orientation": "v",
         "showlegend": true,
         "type": "scatter",
         "x": [
          6.168
         ],
         "xaxis": "x4",
         "y": [
          0.98569
         ],
         "yaxis": "y4"
        },
        {
         "hovertemplate": "Country=Venezuela<br>Region=America<br>Happiness_Score=%{x}<br>Family=%{y}<br>Happiness_Rank=%{marker.size}<extra></extra>",
         "legendgroup": "Venezuela",
         "marker": {
          "color": "#ab63fa",
          "size": [
           44
          ],
          "sizemode": "area",
          "sizeref": 0.3925,
          "symbol": "circle"
         },
         "mode": "markers",
         "name": "Venezuela",
         "orientation": "v",
         "showlegend": true,
         "type": "scatter",
         "x": [
          6.084
         ],
         "xaxis": "x4",
         "y": [
          1.03302
         ],
         "yaxis": "y4"
        },
        {
         "hovertemplate": "Country=Slovakia<br>Region=Europe<br>Happiness_Score=%{x}<br>Family=%{y}<br>Happiness_Rank=%{marker.size}<extra></extra>",
         "legendgroup": "Slovakia",
         "marker": {
          "color": "#FFA15A",
          "size": [
           45
          ],
          "sizemode": "area",
          "sizeref": 0.3925,
          "symbol": "circle"
         },
         "mode": "markers",
         "name": "Slovakia",
         "orientation": "v",
         "showlegend": true,
         "type": "scatter",
         "x": [
          6.078
         ],
         "xaxis": "x5",
         "y": [
          1.08268
         ],
         "yaxis": "y5"
        },
        {
         "hovertemplate": "Country=El Salvador<br>Region=America<br>Happiness_Score=%{x}<br>Family=%{y}<br>Happiness_Rank=%{marker.size}<extra></extra>",
         "legendgroup": "El Salvador",
         "marker": {
          "color": "#19d3f3",
          "size": [
           46
          ],
          "sizemode": "area",
          "sizeref": 0.3925,
          "symbol": "circle"
         },
         "mode": "markers",
         "name": "El Salvador",
         "orientation": "v",
         "showlegend": true,
         "type": "scatter",
         "x": [
          6.068
         ],
         "xaxis": "x4",
         "y": [
          0.80975
         ],
         "yaxis": "y4"
        },
        {
         "hovertemplate": "Country=Malaysia<br>Region=Asia<br>Happiness_Score=%{x}<br>Family=%{y}<br>Happiness_Rank=%{marker.size}<extra></extra>",
         "legendgroup": "Malaysia",
         "marker": {
          "color": "#FF6692",
          "size": [
           47
          ],
          "sizemode": "area",
          "sizeref": 0.3925,
          "symbol": "circle"
         },
         "mode": "markers",
         "name": "Malaysia",
         "orientation": "v",
         "showlegend": true,
         "type": "scatter",
         "x": [
          6.005
         ],
         "xaxis": "x",
         "y": [
          0.88025
         ],
         "yaxis": "y"
        },
        {
         "hovertemplate": "Country=Nicaragua<br>Region=America<br>Happiness_Score=%{x}<br>Family=%{y}<br>Happiness_Rank=%{marker.size}<extra></extra>",
         "legendgroup": "Nicaragua",
         "marker": {
          "color": "#B6E880",
          "size": [
           48
          ],
          "sizemode": "area",
          "sizeref": 0.3925,
          "symbol": "circle"
         },
         "mode": "markers",
         "name": "Nicaragua",
         "orientation": "v",
         "showlegend": true,
         "type": "scatter",
         "x": [
          5.992
         ],
         "xaxis": "x4",
         "y": [
          0.89521
         ],
         "yaxis": "y4"
        },
        {
         "hovertemplate": "Country=Uzbekistan<br>Region=Europe<br>Happiness_Score=%{x}<br>Family=%{y}<br>Happiness_Rank=%{marker.size}<extra></extra>",
         "legendgroup": "Uzbekistan",
         "marker": {
          "color": "#FF97FF",
          "size": [
           49
          ],
          "sizemode": "area",
          "sizeref": 0.3925,
          "symbol": "circle"
         },
         "mode": "markers",
         "name": "Uzbekistan",
         "orientation": "v",
         "showlegend": true,
         "type": "scatter",
         "x": [
          5.987
         ],
         "xaxis": "x5",
         "y": [
          1.1681
         ],
         "yaxis": "y5"
        },
        {
         "hovertemplate": "Country=Italy<br>Region=Europe<br>Happiness_Score=%{x}<br>Family=%{y}<br>Happiness_Rank=%{marker.size}<extra></extra>",
         "legendgroup": "Italy",
         "marker": {
          "color": "#FECB52",
          "size": [
           50
          ],
          "sizemode": "area",
          "sizeref": 0.3925,
          "symbol": "circle"
         },
         "mode": "markers",
         "name": "Italy",
         "orientation": "v",
         "showlegend": true,
         "type": "scatter",
         "x": [
          5.977
         ],
         "xaxis": "x5",
         "y": [
          1.04167
         ],
         "yaxis": "y5"
        },
        {
         "hovertemplate": "Country=Ecuador<br>Region=America<br>Happiness_Score=%{x}<br>Family=%{y}<br>Happiness_Rank=%{marker.size}<extra></extra>",
         "legendgroup": "Ecuador",
         "marker": {
          "color": "#636efa",
          "size": [
           51
          ],
          "sizemode": "area",
          "sizeref": 0.3925,
          "symbol": "circle"
         },
         "mode": "markers",
         "name": "Ecuador",
         "orientation": "v",
         "showlegend": true,
         "type": "scatter",
         "x": [
          5.976
         ],
         "xaxis": "x4",
         "y": [
          0.85974
         ],
         "yaxis": "y4"
        },
        {
         "hovertemplate": "Country=Belize<br>Region=America<br>Happiness_Score=%{x}<br>Family=%{y}<br>Happiness_Rank=%{marker.size}<extra></extra>",
         "legendgroup": "Belize",
         "marker": {
          "color": "#EF553B",
          "size": [
           52
          ],
          "sizemode": "area",
          "sizeref": 0.3925,
          "symbol": "circle"
         },
         "mode": "markers",
         "name": "Belize",
         "orientation": "v",
         "showlegend": true,
         "type": "scatter",
         "x": [
          5.956
         ],
         "xaxis": "x4",
         "y": [
          0.68655
         ],
         "yaxis": "y4"
        },
        {
         "hovertemplate": "Country=Japan<br>Region=Asia<br>Happiness_Score=%{x}<br>Family=%{y}<br>Happiness_Rank=%{marker.size}<extra></extra>",
         "legendgroup": "Japan",
         "marker": {
          "color": "#00cc96",
          "size": [
           53
          ],
          "sizemode": "area",
          "sizeref": 0.3925,
          "symbol": "circle"
         },
         "mode": "markers",
         "name": "Japan",
         "orientation": "v",
         "showlegend": true,
         "type": "scatter",
         "x": [
          5.921
         ],
         "xaxis": "x",
         "y": [
          1.06054
         ],
         "yaxis": "y"
        },
        {
         "hovertemplate": "Country=Kazakhstan<br>Region=Europe<br>Happiness_Score=%{x}<br>Family=%{y}<br>Happiness_Rank=%{marker.size}<extra></extra>",
         "legendgroup": "Kazakhstan",
         "marker": {
          "color": "#ab63fa",
          "size": [
           54
          ],
          "sizemode": "area",
          "sizeref": 0.3925,
          "symbol": "circle"
         },
         "mode": "markers",
         "name": "Kazakhstan",
         "orientation": "v",
         "showlegend": true,
         "type": "scatter",
         "x": [
          5.919
         ],
         "xaxis": "x5",
         "y": [
          0.95544
         ],
         "yaxis": "y5"
        },
        {
         "hovertemplate": "Country=Moldova<br>Region=Europe<br>Happiness_Score=%{x}<br>Family=%{y}<br>Happiness_Rank=%{marker.size}<extra></extra>",
         "legendgroup": "Moldova",
         "marker": {
          "color": "#FFA15A",
          "size": [
           55
          ],
          "sizemode": "area",
          "sizeref": 0.3925,
          "symbol": "circle"
         },
         "mode": "markers",
         "name": "Moldova",
         "orientation": "v",
         "showlegend": true,
         "type": "scatter",
         "x": [
          5.897
         ],
         "xaxis": "x5",
         "y": [
          0.83132
         ],
         "yaxis": "y5"
        },
        {
         "hovertemplate": "Country=Russia<br>Region=Europe<br>Happiness_Score=%{x}<br>Family=%{y}<br>Happiness_Rank=%{marker.size}<extra></extra>",
         "legendgroup": "Russia",
         "marker": {
          "color": "#19d3f3",
          "size": [
           56
          ],
          "sizemode": "area",
          "sizeref": 0.3925,
          "symbol": "circle"
         },
         "mode": "markers",
         "name": "Russia",
         "orientation": "v",
         "showlegend": true,
         "type": "scatter",
         "x": [
          5.856
         ],
         "xaxis": "x5",
         "y": [
          1.05261
         ],
         "yaxis": "y5"
        },
        {
         "hovertemplate": "Country=Poland<br>Region=Europe<br>Happiness_Score=%{x}<br>Family=%{y}<br>Happiness_Rank=%{marker.size}<extra></extra>",
         "legendgroup": "Poland",
         "marker": {
          "color": "#FF6692",
          "size": [
           57
          ],
          "sizemode": "area",
          "sizeref": 0.3925,
          "symbol": "circle"
         },
         "mode": "markers",
         "name": "Poland",
         "orientation": "v",
         "showlegend": true,
         "type": "scatter",
         "x": [
          5.835
         ],
         "xaxis": "x5",
         "y": [
          1.04685
         ],
         "yaxis": "y5"
        },
        {
         "hovertemplate": "Country=South Korea<br>Region=Asia<br>Happiness_Score=%{x}<br>Family=%{y}<br>Happiness_Rank=%{marker.size}<extra></extra>",
         "legendgroup": "South Korea",
         "marker": {
          "color": "#B6E880",
          "size": [
           57
          ],
          "sizemode": "area",
          "sizeref": 0.3925,
          "symbol": "circle"
         },
         "mode": "markers",
         "name": "South Korea",
         "orientation": "v",
         "showlegend": true,
         "type": "scatter",
         "x": [
          5.835
         ],
         "xaxis": "x",
         "y": [
          0.72194
         ],
         "yaxis": "y"
        },
        {
         "hovertemplate": "Country=Bolivia<br>Region=America<br>Happiness_Score=%{x}<br>Family=%{y}<br>Happiness_Rank=%{marker.size}<extra></extra>",
         "legendgroup": "Bolivia",
         "marker": {
          "color": "#FF97FF",
          "size": [
           59
          ],
          "sizemode": "area",
          "sizeref": 0.3925,
          "symbol": "circle"
         },
         "mode": "markers",
         "name": "Bolivia",
         "orientation": "v",
         "showlegend": true,
         "type": "scatter",
         "x": [
          5.822
         ],
         "xaxis": "x4",
         "y": [
          0.83779
         ],
         "yaxis": "y4"
        },
        {
         "hovertemplate": "Country=Lithuania<br>Region=Europe<br>Happiness_Score=%{x}<br>Family=%{y}<br>Happiness_Rank=%{marker.size}<extra></extra>",
         "legendgroup": "Lithuania",
         "marker": {
          "color": "#FECB52",
          "size": [
           60
          ],
          "sizemode": "area",
          "sizeref": 0.3925,
          "symbol": "circle"
         },
         "mode": "markers",
         "name": "Lithuania",
         "orientation": "v",
         "showlegend": true,
         "type": "scatter",
         "x": [
          5.813
         ],
         "xaxis": "x5",
         "y": [
          1.06411
         ],
         "yaxis": "y5"
        },
        {
         "hovertemplate": "Country=Belarus<br>Region=Europe<br>Happiness_Score=%{x}<br>Family=%{y}<br>Happiness_Rank=%{marker.size}<extra></extra>",
         "legendgroup": "Belarus",
         "marker": {
          "color": "#636efa",
          "size": [
           61
          ],
          "sizemode": "area",
          "sizeref": 0.3925,
          "symbol": "circle"
         },
         "mode": "markers",
         "name": "Belarus",
         "orientation": "v",
         "showlegend": true,
         "type": "scatter",
         "x": [
          5.802
         ],
         "xaxis": "x5",
         "y": [
          1.04993
         ],
         "yaxis": "y5"
        },
        {
         "hovertemplate": "Country=North Cyprus<br>Region=Europe<br>Happiness_Score=%{x}<br>Family=%{y}<br>Happiness_Rank=%{marker.size}<extra></extra>",
         "legendgroup": "North Cyprus",
         "marker": {
          "color": "#EF553B",
          "size": [
           62
          ],
          "sizemode": "area",
          "sizeref": 0.3925,
          "symbol": "circle"
         },
         "mode": "markers",
         "name": "North Cyprus",
         "orientation": "v",
         "showlegend": true,
         "type": "scatter",
         "x": [
          5.771
         ],
         "xaxis": "x5",
         "y": [
          0.81826
         ],
         "yaxis": "y5"
        },
        {
         "hovertemplate": "Country=Slovenia<br>Region=Europe<br>Happiness_Score=%{x}<br>Family=%{y}<br>Happiness_Rank=%{marker.size}<extra></extra>",
         "legendgroup": "Slovenia",
         "marker": {
          "color": "#00cc96",
          "size": [
           63
          ],
          "sizemode": "area",
          "sizeref": 0.3925,
          "symbol": "circle"
         },
         "mode": "markers",
         "name": "Slovenia",
         "orientation": "v",
         "showlegend": true,
         "type": "scatter",
         "x": [
          5.768
         ],
         "xaxis": "x5",
         "y": [
          1.05613
         ],
         "yaxis": "y5"
        },
        {
         "hovertemplate": "Country=Peru<br>Region=America<br>Happiness_Score=%{x}<br>Family=%{y}<br>Happiness_Rank=%{marker.size}<extra></extra>",
         "legendgroup": "Peru",
         "marker": {
          "color": "#ab63fa",
          "size": [
           64
          ],
          "sizemode": "area",
          "sizeref": 0.3925,
          "symbol": "circle"
         },
         "mode": "markers",
         "name": "Peru",
         "orientation": "v",
         "showlegend": true,
         "type": "scatter",
         "x": [
          5.743
         ],
         "xaxis": "x4",
         "y": [
          0.81255
         ],
         "yaxis": "y4"
        },
        {
         "hovertemplate": "Country=Turkmenistan<br>Region=Europe<br>Happiness_Score=%{x}<br>Family=%{y}<br>Happiness_Rank=%{marker.size}<extra></extra>",
         "legendgroup": "Turkmenistan",
         "marker": {
          "color": "#FFA15A",
          "size": [
           65
          ],
          "sizemode": "area",
          "sizeref": 0.3925,
          "symbol": "circle"
         },
         "mode": "markers",
         "name": "Turkmenistan",
         "orientation": "v",
         "showlegend": true,
         "type": "scatter",
         "x": [
          5.658
         ],
         "xaxis": "x5",
         "y": [
          1.03817
         ],
         "yaxis": "y5"
        },
        {
         "hovertemplate": "Country=Mauritius<br>Region=Africa<br>Happiness_Score=%{x}<br>Family=%{y}<br>Happiness_Rank=%{marker.size}<extra></extra>",
         "legendgroup": "Mauritius",
         "marker": {
          "color": "#19d3f3",
          "size": [
           66
          ],
          "sizemode": "area",
          "sizeref": 0.3925,
          "symbol": "circle"
         },
         "mode": "markers",
         "name": "Mauritius",
         "orientation": "v",
         "showlegend": true,
         "type": "scatter",
         "x": [
          5.648
         ],
         "xaxis": "x2",
         "y": [
          0.75695
         ],
         "yaxis": "y2"
        },
        {
         "hovertemplate": "Country=Libya<br>Region=Africa<br>Happiness_Score=%{x}<br>Family=%{y}<br>Happiness_Rank=%{marker.size}<extra></extra>",
         "legendgroup": "Libya",
         "marker": {
          "color": "#FF6692",
          "size": [
           67
          ],
          "sizemode": "area",
          "sizeref": 0.3925,
          "symbol": "circle"
         },
         "mode": "markers",
         "name": "Libya",
         "orientation": "v",
         "showlegend": true,
         "type": "scatter",
         "x": [
          5.615
         ],
         "xaxis": "x2",
         "y": [
          0.95076
         ],
         "yaxis": "y2"
        },
        {
         "hovertemplate": "Country=Latvia<br>Region=Europe<br>Happiness_Score=%{x}<br>Family=%{y}<br>Happiness_Rank=%{marker.size}<extra></extra>",
         "legendgroup": "Latvia",
         "marker": {
          "color": "#B6E880",
          "size": [
           68
          ],
          "sizemode": "area",
          "sizeref": 0.3925,
          "symbol": "circle"
         },
         "mode": "markers",
         "name": "Latvia",
         "orientation": "v",
         "showlegend": true,
         "type": "scatter",
         "x": [
          5.56
         ],
         "xaxis": "x5",
         "y": [
          0.95025
         ],
         "yaxis": "y5"
        },
        {
         "hovertemplate": "Country=Cyprus<br>Region=Europe<br>Happiness_Score=%{x}<br>Family=%{y}<br>Happiness_Rank=%{marker.size}<extra></extra>",
         "legendgroup": "Cyprus",
         "marker": {
          "color": "#FF97FF",
          "size": [
           69
          ],
          "sizemode": "area",
          "sizeref": 0.3925,
          "symbol": "circle"
         },
         "mode": "markers",
         "name": "Cyprus",
         "orientation": "v",
         "showlegend": true,
         "type": "scatter",
         "x": [
          5.546
         ],
         "xaxis": "x5",
         "y": [
          0.70697
         ],
         "yaxis": "y5"
        },
        {
         "hovertemplate": "Country=Paraguay<br>Region=America<br>Happiness_Score=%{x}<br>Family=%{y}<br>Happiness_Rank=%{marker.size}<extra></extra>",
         "legendgroup": "Paraguay",
         "marker": {
          "color": "#FECB52",
          "size": [
           70
          ],
          "sizemode": "area",
          "sizeref": 0.3925,
          "symbol": "circle"
         },
         "mode": "markers",
         "name": "Paraguay",
         "orientation": "v",
         "showlegend": true,
         "type": "scatter",
         "x": [
          5.538
         ],
         "xaxis": "x4",
         "y": [
          1.11111
         ],
         "yaxis": "y4"
        },
        {
         "hovertemplate": "Country=Romania<br>Region=Europe<br>Happiness_Score=%{x}<br>Family=%{y}<br>Happiness_Rank=%{marker.size}<extra></extra>",
         "legendgroup": "Romania",
         "marker": {
          "color": "#636efa",
          "size": [
           71
          ],
          "sizemode": "area",
          "sizeref": 0.3925,
          "symbol": "circle"
         },
         "mode": "markers",
         "name": "Romania",
         "orientation": "v",
         "showlegend": true,
         "type": "scatter",
         "x": [
          5.528
         ],
         "xaxis": "x5",
         "y": [
          0.72803
         ],
         "yaxis": "y5"
        },
        {
         "hovertemplate": "Country=Estonia<br>Region=Europe<br>Happiness_Score=%{x}<br>Family=%{y}<br>Happiness_Rank=%{marker.size}<extra></extra>",
         "legendgroup": "Estonia",
         "marker": {
          "color": "#EF553B",
          "size": [
           72
          ],
          "sizemode": "area",
          "sizeref": 0.3925,
          "symbol": "circle"
         },
         "mode": "markers",
         "name": "Estonia",
         "orientation": "v",
         "showlegend": true,
         "type": "scatter",
         "x": [
          5.517
         ],
         "xaxis": "x5",
         "y": [
          1.05163
         ],
         "yaxis": "y5"
        },
        {
         "hovertemplate": "Country=Jamaica<br>Region=America<br>Happiness_Score=%{x}<br>Family=%{y}<br>Happiness_Rank=%{marker.size}<extra></extra>",
         "legendgroup": "Jamaica",
         "marker": {
          "color": "#00cc96",
          "size": [
           73
          ],
          "sizemode": "area",
          "sizeref": 0.3925,
          "symbol": "circle"
         },
         "mode": "markers",
         "name": "Jamaica",
         "orientation": "v",
         "showlegend": true,
         "type": "scatter",
         "x": [
          5.51
         ],
         "xaxis": "x4",
         "y": [
          0.96372
         ],
         "yaxis": "y4"
        },
        {
         "hovertemplate": "Country=Croatia<br>Region=Europe<br>Happiness_Score=%{x}<br>Family=%{y}<br>Happiness_Rank=%{marker.size}<extra></extra>",
         "legendgroup": "Croatia",
         "marker": {
          "color": "#ab63fa",
          "size": [
           74
          ],
          "sizemode": "area",
          "sizeref": 0.3925,
          "symbol": "circle"
         },
         "mode": "markers",
         "name": "Croatia",
         "orientation": "v",
         "showlegend": true,
         "type": "scatter",
         "x": [
          5.488
         ],
         "xaxis": "x5",
         "y": [
          0.60809
         ],
         "yaxis": "y5"
        },
        {
         "hovertemplate": "Country=Hong Kong<br>Region=Asia<br>Happiness_Score=%{x}<br>Family=%{y}<br>Happiness_Rank=%{marker.size}<extra></extra>",
         "legendgroup": "Hong Kong",
         "marker": {
          "color": "#FFA15A",
          "size": [
           75
          ],
          "sizemode": "area",
          "sizeref": 0.3925,
          "symbol": "circle"
         },
         "mode": "markers",
         "name": "Hong Kong",
         "orientation": "v",
         "showlegend": true,
         "type": "scatter",
         "x": [
          5.458
         ],
         "xaxis": "x",
         "y": [
          0.87021
         ],
         "yaxis": "y"
        },
        {
         "hovertemplate": "Country=Somalia<br>Region=Africa<br>Happiness_Score=%{x}<br>Family=%{y}<br>Happiness_Rank=%{marker.size}<extra></extra>",
         "legendgroup": "Somalia",
         "marker": {
          "color": "#19d3f3",
          "size": [
           76
          ],
          "sizemode": "area",
          "sizeref": 0.3925,
          "symbol": "circle"
         },
         "mode": "markers",
         "name": "Somalia",
         "orientation": "v",
         "showlegend": true,
         "type": "scatter",
         "x": [
          5.44
         ],
         "xaxis": "x2",
         "y": [
          0.33613
         ],
         "yaxis": "y2"
        },
        {
         "hovertemplate": "Country=Kosovo<br>Region=Europe<br>Happiness_Score=%{x}<br>Family=%{y}<br>Happiness_Rank=%{marker.size}<extra></extra>",
         "legendgroup": "Kosovo",
         "marker": {
          "color": "#FF6692",
          "size": [
           77
          ],
          "sizemode": "area",
          "sizeref": 0.3925,
          "symbol": "circle"
         },
         "mode": "markers",
         "name": "Kosovo",
         "orientation": "v",
         "showlegend": true,
         "type": "scatter",
         "x": [
          5.401
         ],
         "xaxis": "x5",
         "y": [
          0.66062
         ],
         "yaxis": "y5"
        },
        {
         "hovertemplate": "Country=Turkey<br>Region=Africa<br>Happiness_Score=%{x}<br>Family=%{y}<br>Happiness_Rank=%{marker.size}<extra></extra>",
         "legendgroup": "Turkey",
         "marker": {
          "color": "#B6E880",
          "size": [
           78
          ],
          "sizemode": "area",
          "sizeref": 0.3925,
          "symbol": "circle"
         },
         "mode": "markers",
         "name": "Turkey",
         "orientation": "v",
         "showlegend": true,
         "type": "scatter",
         "x": [
          5.389
         ],
         "xaxis": "x2",
         "y": [
          0.87717
         ],
         "yaxis": "y2"
        },
        {
         "hovertemplate": "Country=Indonesia<br>Region=Asia<br>Happiness_Score=%{x}<br>Family=%{y}<br>Happiness_Rank=%{marker.size}<extra></extra>",
         "legendgroup": "Indonesia",
         "marker": {
          "color": "#FF97FF",
          "size": [
           79
          ],
          "sizemode": "area",
          "sizeref": 0.3925,
          "symbol": "circle"
         },
         "mode": "markers",
         "name": "Indonesia",
         "orientation": "v",
         "showlegend": true,
         "type": "scatter",
         "x": [
          5.314
         ],
         "xaxis": "x",
         "y": [
          0.87625
         ],
         "yaxis": "y"
        },
        {
         "hovertemplate": "Country=Jordan<br>Region=Africa<br>Happiness_Score=%{x}<br>Family=%{y}<br>Happiness_Rank=%{marker.size}<extra></extra>",
         "legendgroup": "Jordan",
         "marker": {
          "color": "#FECB52",
          "size": [
           80
          ],
          "sizemode": "area",
          "sizeref": 0.3925,
          "symbol": "circle"
         },
         "mode": "markers",
         "name": "Jordan",
         "orientation": "v",
         "showlegend": true,
         "type": "scatter",
         "x": [
          5.303
         ],
         "xaxis": "x2",
         "y": [
          0.86216
         ],
         "yaxis": "y2"
        },
        {
         "hovertemplate": "Country=Azerbaijan<br>Region=Europe<br>Happiness_Score=%{x}<br>Family=%{y}<br>Happiness_Rank=%{marker.size}<extra></extra>",
         "legendgroup": "Azerbaijan",
         "marker": {
          "color": "#636efa",
          "size": [
           81
          ],
          "sizemode": "area",
          "sizeref": 0.3925,
          "symbol": "circle"
         },
         "mode": "markers",
         "name": "Azerbaijan",
         "orientation": "v",
         "showlegend": true,
         "type": "scatter",
         "x": [
          5.291
         ],
         "xaxis": "x5",
         "y": [
          0.76042
         ],
         "yaxis": "y5"
        },
        {
         "hovertemplate": "Country=Philippines<br>Region=Asia<br>Happiness_Score=%{x}<br>Family=%{y}<br>Happiness_Rank=%{marker.size}<extra></extra>",
         "legendgroup": "Philippines",
         "marker": {
          "color": "#EF553B",
          "size": [
           82
          ],
          "sizemode": "area",
          "sizeref": 0.3925,
          "symbol": "circle"
         },
         "mode": "markers",
         "name": "Philippines",
         "orientation": "v",
         "showlegend": true,
         "type": "scatter",
         "x": [
          5.279
         ],
         "xaxis": "x",
         "y": [
          0.87877
         ],
         "yaxis": "y"
        },
        {
         "hovertemplate": "Country=China<br>Region=Asia<br>Happiness_Score=%{x}<br>Family=%{y}<br>Happiness_Rank=%{marker.size}<extra></extra>",
         "legendgroup": "China",
         "marker": {
          "color": "#00cc96",
          "size": [
           83
          ],
          "sizemode": "area",
          "sizeref": 0.3925,
          "symbol": "circle"
         },
         "mode": "markers",
         "name": "China",
         "orientation": "v",
         "showlegend": true,
         "type": "scatter",
         "x": [
          5.245
         ],
         "xaxis": "x",
         "y": [
          0.79381
         ],
         "yaxis": "y"
        },
        {
         "hovertemplate": "Country=Bhutan<br>Region=Asia<br>Happiness_Score=%{x}<br>Family=%{y}<br>Happiness_Rank=%{marker.size}<extra></extra>",
         "legendgroup": "Bhutan",
         "marker": {
          "color": "#ab63fa",
          "size": [
           84
          ],
          "sizemode": "area",
          "sizeref": 0.3925,
          "symbol": "circle"
         },
         "mode": "markers",
         "name": "Bhutan",
         "orientation": "v",
         "showlegend": true,
         "type": "scatter",
         "x": [
          5.196
         ],
         "xaxis": "x",
         "y": [
          0.90836
         ],
         "yaxis": "y"
        },
        {
         "hovertemplate": "Country=Kyrgyzstan<br>Region=Europe<br>Happiness_Score=%{x}<br>Family=%{y}<br>Happiness_Rank=%{marker.size}<extra></extra>",
         "legendgroup": "Kyrgyzstan",
         "marker": {
          "color": "#FFA15A",
          "size": [
           85
          ],
          "sizemode": "area",
          "sizeref": 0.3925,
          "symbol": "circle"
         },
         "mode": "markers",
         "name": "Kyrgyzstan",
         "orientation": "v",
         "showlegend": true,
         "type": "scatter",
         "x": [
          5.185
         ],
         "xaxis": "x5",
         "y": [
          0.95434
         ],
         "yaxis": "y5"
        },
        {
         "hovertemplate": "Country=Serbia<br>Region=Europe<br>Happiness_Score=%{x}<br>Family=%{y}<br>Happiness_Rank=%{marker.size}<extra></extra>",
         "legendgroup": "Serbia",
         "marker": {
          "color": "#19d3f3",
          "size": [
           86
          ],
          "sizemode": "area",
          "sizeref": 0.3925,
          "symbol": "circle"
         },
         "mode": "markers",
         "name": "Serbia",
         "orientation": "v",
         "showlegend": true,
         "type": "scatter",
         "x": [
          5.177
         ],
         "xaxis": "x5",
         "y": [
          0.81329
         ],
         "yaxis": "y5"
        },
        {
         "hovertemplate": "Country=Bosnia and Herzegovina<br>Region=Europe<br>Happiness_Score=%{x}<br>Family=%{y}<br>Happiness_Rank=%{marker.size}<extra></extra>",
         "legendgroup": "Bosnia and Herzegovina",
         "marker": {
          "color": "#FF6692",
          "size": [
           87
          ],
          "sizemode": "area",
          "sizeref": 0.3925,
          "symbol": "circle"
         },
         "mode": "markers",
         "name": "Bosnia and Herzegovina",
         "orientation": "v",
         "showlegend": true,
         "type": "scatter",
         "x": [
          5.163
         ],
         "xaxis": "x5",
         "y": [
          0.64367
         ],
         "yaxis": "y5"
        },
        {
         "hovertemplate": "Country=Montenegro<br>Region=Europe<br>Happiness_Score=%{x}<br>Family=%{y}<br>Happiness_Rank=%{marker.size}<extra></extra>",
         "legendgroup": "Montenegro",
         "marker": {
          "color": "#B6E880",
          "size": [
           88
          ],
          "sizemode": "area",
          "sizeref": 0.3925,
          "symbol": "circle"
         },
         "mode": "markers",
         "name": "Montenegro",
         "orientation": "v",
         "showlegend": true,
         "type": "scatter",
         "x": [
          5.161
         ],
         "xaxis": "x5",
         "y": [
          0.74173
         ],
         "yaxis": "y5"
        },
        {
         "hovertemplate": "Country=Dominican Republic<br>Region=America<br>Happiness_Score=%{x}<br>Family=%{y}<br>Happiness_Rank=%{marker.size}<extra></extra>",
         "legendgroup": "Dominican Republic",
         "marker": {
          "color": "#FF97FF",
          "size": [
           89
          ],
          "sizemode": "area",
          "sizeref": 0.3925,
          "symbol": "circle"
         },
         "mode": "markers",
         "name": "Dominican Republic",
         "orientation": "v",
         "showlegend": true,
         "type": "scatter",
         "x": [
          5.155
         ],
         "xaxis": "x4",
         "y": [
          0.99496
         ],
         "yaxis": "y4"
        },
        {
         "hovertemplate": "Country=Morocco<br>Region=Africa<br>Happiness_Score=%{x}<br>Family=%{y}<br>Happiness_Rank=%{marker.size}<extra></extra>",
         "legendgroup": "Morocco",
         "marker": {
          "color": "#FECB52",
          "size": [
           90
          ],
          "sizemode": "area",
          "sizeref": 0.3925,
          "symbol": "circle"
         },
         "mode": "markers",
         "name": "Morocco",
         "orientation": "v",
         "showlegend": true,
         "type": "scatter",
         "x": [
          5.151
         ],
         "xaxis": "x2",
         "y": [
          0.38595
         ],
         "yaxis": "y2"
        },
        {
         "hovertemplate": "Country=Hungary<br>Region=Europe<br>Happiness_Score=%{x}<br>Family=%{y}<br>Happiness_Rank=%{marker.size}<extra></extra>",
         "legendgroup": "Hungary",
         "marker": {
          "color": "#636efa",
          "size": [
           91
          ],
          "sizemode": "area",
          "sizeref": 0.3925,
          "symbol": "circle"
         },
         "mode": "markers",
         "name": "Hungary",
         "orientation": "v",
         "showlegend": true,
         "type": "scatter",
         "x": [
          5.145
         ],
         "xaxis": "x5",
         "y": [
          0.93164
         ],
         "yaxis": "y5"
        },
        {
         "hovertemplate": "Country=Pakistan<br>Region=Asia<br>Happiness_Score=%{x}<br>Family=%{y}<br>Happiness_Rank=%{marker.size}<extra></extra>",
         "legendgroup": "Pakistan",
         "marker": {
          "color": "#EF553B",
          "size": [
           92
          ],
          "sizemode": "area",
          "sizeref": 0.3925,
          "symbol": "circle"
         },
         "mode": "markers",
         "name": "Pakistan",
         "orientation": "v",
         "showlegend": true,
         "type": "scatter",
         "x": [
          5.132
         ],
         "xaxis": "x",
         "y": [
          0.26135
         ],
         "yaxis": "y"
        },
        {
         "hovertemplate": "Country=Lebanon<br>Region=Africa<br>Happiness_Score=%{x}<br>Family=%{y}<br>Happiness_Rank=%{marker.size}<extra></extra>",
         "legendgroup": "Lebanon",
         "marker": {
          "color": "#00cc96",
          "size": [
           93
          ],
          "sizemode": "area",
          "sizeref": 0.3925,
          "symbol": "circle"
         },
         "mode": "markers",
         "name": "Lebanon",
         "orientation": "v",
         "showlegend": true,
         "type": "scatter",
         "x": [
          5.129
         ],
         "xaxis": "x2",
         "y": [
          0.64184
         ],
         "yaxis": "y2"
        },
        {
         "hovertemplate": "Country=Portugal<br>Region=Europe<br>Happiness_Score=%{x}<br>Family=%{y}<br>Happiness_Rank=%{marker.size}<extra></extra>",
         "legendgroup": "Portugal",
         "marker": {
          "color": "#ab63fa",
          "size": [
           94
          ],
          "sizemode": "area",
          "sizeref": 0.3925,
          "symbol": "circle"
         },
         "mode": "markers",
         "name": "Portugal",
         "orientation": "v",
         "showlegend": true,
         "type": "scatter",
         "x": [
          5.123
         ],
         "xaxis": "x5",
         "y": [
          0.94367
         ],
         "yaxis": "y5"
        },
        {
         "hovertemplate": "Country=Macedonia<br>Region=Europe<br>Happiness_Score=%{x}<br>Family=%{y}<br>Happiness_Rank=%{marker.size}<extra></extra>",
         "legendgroup": "Macedonia",
         "marker": {
          "color": "#FFA15A",
          "size": [
           95
          ],
          "sizemode": "area",
          "sizeref": 0.3925,
          "symbol": "circle"
         },
         "mode": "markers",
         "name": "Macedonia",
         "orientation": "v",
         "showlegend": true,
         "type": "scatter",
         "x": [
          5.121
         ],
         "xaxis": "x5",
         "y": [
          0.78236
         ],
         "yaxis": "y5"
        },
        {
         "hovertemplate": "Country=Vietnam<br>Region=Asia<br>Happiness_Score=%{x}<br>Family=%{y}<br>Happiness_Rank=%{marker.size}<extra></extra>",
         "legendgroup": "Vietnam",
         "marker": {
          "color": "#19d3f3",
          "size": [
           96
          ],
          "sizemode": "area",
          "sizeref": 0.3925,
          "symbol": "circle"
         },
         "mode": "markers",
         "name": "Vietnam",
         "orientation": "v",
         "showlegend": true,
         "type": "scatter",
         "x": [
          5.061
         ],
         "xaxis": "x",
         "y": [
          0.79117
         ],
         "yaxis": "y"
        },
        {
         "hovertemplate": "Country=Somaliland Region<br>Region=Africa<br>Happiness_Score=%{x}<br>Family=%{y}<br>Happiness_Rank=%{marker.size}<extra></extra>",
         "legendgroup": "Somaliland Region",
         "marker": {
          "color": "#FF6692",
          "size": [
           97
          ],
          "sizemode": "area",
          "sizeref": 0.3925,
          "symbol": "circle"
         },
         "mode": "markers",
         "name": "Somaliland Region",
         "orientation": "v",
         "showlegend": true,
         "type": "scatter",
         "x": [
          5.057
         ],
         "xaxis": "x2",
         "y": [
          0.75862
         ],
         "yaxis": "y2"
        },
        {
         "hovertemplate": "Country=Tunisia<br>Region=Africa<br>Happiness_Score=%{x}<br>Family=%{y}<br>Happiness_Rank=%{marker.size}<extra></extra>",
         "legendgroup": "Tunisia",
         "marker": {
          "color": "#B6E880",
          "size": [
           98
          ],
          "sizemode": "area",
          "sizeref": 0.3925,
          "symbol": "circle"
         },
         "mode": "markers",
         "name": "Tunisia",
         "orientation": "v",
         "showlegend": true,
         "type": "scatter",
         "x": [
          5.045
         ],
         "xaxis": "x2",
         "y": [
          0.43165
         ],
         "yaxis": "y2"
        },
        {
         "hovertemplate": "Country=Greece<br>Region=Europe<br>Happiness_Score=%{x}<br>Family=%{y}<br>Happiness_Rank=%{marker.size}<extra></extra>",
         "legendgroup": "Greece",
         "marker": {
          "color": "#FF97FF",
          "size": [
           99
          ],
          "sizemode": "area",
          "sizeref": 0.3925,
          "symbol": "circle"
         },
         "mode": "markers",
         "name": "Greece",
         "orientation": "v",
         "showlegend": true,
         "type": "scatter",
         "x": [
          5.033
         ],
         "xaxis": "x5",
         "y": [
          0.75473
         ],
         "yaxis": "y5"
        },
        {
         "hovertemplate": "Country=Tajikistan<br>Region=Europe<br>Happiness_Score=%{x}<br>Family=%{y}<br>Happiness_Rank=%{marker.size}<extra></extra>",
         "legendgroup": "Tajikistan",
         "marker": {
          "color": "#FECB52",
          "size": [
           100
          ],
          "sizemode": "area",
          "sizeref": 0.3925,
          "symbol": "circle"
         },
         "mode": "markers",
         "name": "Tajikistan",
         "orientation": "v",
         "showlegend": true,
         "type": "scatter",
         "x": [
          4.996
         ],
         "xaxis": "x5",
         "y": [
          0.75602
         ],
         "yaxis": "y5"
        },
        {
         "hovertemplate": "Country=Mongolia<br>Region=Asia<br>Happiness_Score=%{x}<br>Family=%{y}<br>Happiness_Rank=%{marker.size}<extra></extra>",
         "legendgroup": "Mongolia",
         "marker": {
          "color": "#636efa",
          "size": [
           101
          ],
          "sizemode": "area",
          "sizeref": 0.3925,
          "symbol": "circle"
         },
         "mode": "markers",
         "name": "Mongolia",
         "orientation": "v",
         "showlegend": true,
         "type": "scatter",
         "x": [
          4.907
         ],
         "xaxis": "x",
         "y": [
          1.08983
         ],
         "yaxis": "y"
        },
        {
         "hovertemplate": "Country=Laos<br>Region=Asia<br>Happiness_Score=%{x}<br>Family=%{y}<br>Happiness_Rank=%{marker.size}<extra></extra>",
         "legendgroup": "Laos",
         "marker": {
          "color": "#EF553B",
          "size": [
           102
          ],
          "sizemode": "area",
          "sizeref": 0.3925,
          "symbol": "circle"
         },
         "mode": "markers",
         "name": "Laos",
         "orientation": "v",
         "showlegend": true,
         "type": "scatter",
         "x": [
          4.876
         ],
         "xaxis": "x",
         "y": [
          0.5497
         ],
         "yaxis": "y"
        },
        {
         "hovertemplate": "Country=Nigeria<br>Region=Africa<br>Happiness_Score=%{x}<br>Family=%{y}<br>Happiness_Rank=%{marker.size}<extra></extra>",
         "legendgroup": "Nigeria",
         "marker": {
          "color": "#00cc96",
          "size": [
           103
          ],
          "sizemode": "area",
          "sizeref": 0.3925,
          "symbol": "circle"
         },
         "mode": "markers",
         "name": "Nigeria",
         "orientation": "v",
         "showlegend": true,
         "type": "scatter",
         "x": [
          4.875
         ],
         "xaxis": "x2",
         "y": [
          0.64498
         ],
         "yaxis": "y2"
        },
        {
         "hovertemplate": "Country=Honduras<br>Region=America<br>Happiness_Score=%{x}<br>Family=%{y}<br>Happiness_Rank=%{marker.size}<extra></extra>",
         "legendgroup": "Honduras",
         "marker": {
          "color": "#ab63fa",
          "size": [
           104
          ],
          "sizemode": "area",
          "sizeref": 0.3925,
          "symbol": "circle"
         },
         "mode": "markers",
         "name": "Honduras",
         "orientation": "v",
         "showlegend": true,
         "type": "scatter",
         "x": [
          4.871
         ],
         "xaxis": "x4",
         "y": [
          0.75596
         ],
         "yaxis": "y4"
        },
        {
         "hovertemplate": "Country=Iran<br>Region=Africa<br>Happiness_Score=%{x}<br>Family=%{y}<br>Happiness_Rank=%{marker.size}<extra></extra>",
         "legendgroup": "Iran",
         "marker": {
          "color": "#FFA15A",
          "size": [
           105
          ],
          "sizemode": "area",
          "sizeref": 0.3925,
          "symbol": "circle"
         },
         "mode": "markers",
         "name": "Iran",
         "orientation": "v",
         "showlegend": true,
         "type": "scatter",
         "x": [
          4.813
         ],
         "xaxis": "x2",
         "y": [
          0.38857
         ],
         "yaxis": "y2"
        },
        {
         "hovertemplate": "Country=Zambia<br>Region=Africa<br>Happiness_Score=%{x}<br>Family=%{y}<br>Happiness_Rank=%{marker.size}<extra></extra>",
         "legendgroup": "Zambia",
         "marker": {
          "color": "#19d3f3",
          "size": [
           106
          ],
          "sizemode": "area",
          "sizeref": 0.3925,
          "symbol": "circle"
         },
         "mode": "markers",
         "name": "Zambia",
         "orientation": "v",
         "showlegend": true,
         "type": "scatter",
         "x": [
          4.795
         ],
         "xaxis": "x2",
         "y": [
          0.6376
         ],
         "yaxis": "y2"
        },
        {
         "hovertemplate": "Country=Nepal<br>Region=Asia<br>Happiness_Score=%{x}<br>Family=%{y}<br>Happiness_Rank=%{marker.size}<extra></extra>",
         "legendgroup": "Nepal",
         "marker": {
          "color": "#FF6692",
          "size": [
           107
          ],
          "sizemode": "area",
          "sizeref": 0.3925,
          "symbol": "circle"
         },
         "mode": "markers",
         "name": "Nepal",
         "orientation": "v",
         "showlegend": true,
         "type": "scatter",
         "x": [
          4.793
         ],
         "xaxis": "x",
         "y": [
          0.69699
         ],
         "yaxis": "y"
        },
        {
         "hovertemplate": "Country=Palestinian Territories<br>Region=Africa<br>Happiness_Score=%{x}<br>Family=%{y}<br>Happiness_Rank=%{marker.size}<extra></extra>",
         "legendgroup": "Palestinian Territories",
         "marker": {
          "color": "#B6E880",
          "size": [
           108
          ],
          "sizemode": "area",
          "sizeref": 0.3925,
          "symbol": "circle"
         },
         "mode": "markers",
         "name": "Palestinian Territories",
         "orientation": "v",
         "showlegend": true,
         "type": "scatter",
         "x": [
          4.754
         ],
         "xaxis": "x2",
         "y": [
          0.71629
         ],
         "yaxis": "y2"
        },
        {
         "hovertemplate": "Country=Albania<br>Region=Europe<br>Happiness_Score=%{x}<br>Family=%{y}<br>Happiness_Rank=%{marker.size}<extra></extra>",
         "legendgroup": "Albania",
         "marker": {
          "color": "#FF97FF",
          "size": [
           109
          ],
          "sizemode": "area",
          "sizeref": 0.3925,
          "symbol": "circle"
         },
         "mode": "markers",
         "name": "Albania",
         "orientation": "v",
         "showlegend": true,
         "type": "scatter",
         "x": [
          4.655
         ],
         "xaxis": "x5",
         "y": [
          0.50163
         ],
         "yaxis": "y5"
        },
        {
         "hovertemplate": "Country=Bangladesh<br>Region=Asia<br>Happiness_Score=%{x}<br>Family=%{y}<br>Happiness_Rank=%{marker.size}<extra></extra>",
         "legendgroup": "Bangladesh",
         "marker": {
          "color": "#FECB52",
          "size": [
           110
          ],
          "sizemode": "area",
          "sizeref": 0.3925,
          "symbol": "circle"
         },
         "mode": "markers",
         "name": "Bangladesh",
         "orientation": "v",
         "showlegend": true,
         "type": "scatter",
         "x": [
          4.643
         ],
         "xaxis": "x",
         "y": [
          0.24749
         ],
         "yaxis": "y"
        },
        {
         "hovertemplate": "Country=Sierra Leone<br>Region=Africa<br>Happiness_Score=%{x}<br>Family=%{y}<br>Happiness_Rank=%{marker.size}<extra></extra>",
         "legendgroup": "Sierra Leone",
         "marker": {
          "color": "#636efa",
          "size": [
           111
          ],
          "sizemode": "area",
          "sizeref": 0.3925,
          "symbol": "circle"
         },
         "mode": "markers",
         "name": "Sierra Leone",
         "orientation": "v",
         "showlegend": true,
         "type": "scatter",
         "x": [
          4.635
         ],
         "xaxis": "x2",
         "y": [
          0.628
         ],
         "yaxis": "y2"
        },
        {
         "hovertemplate": "Country=Iraq<br>Region=Africa<br>Happiness_Score=%{x}<br>Family=%{y}<br>Happiness_Rank=%{marker.size}<extra></extra>",
         "legendgroup": "Iraq",
         "marker": {
          "color": "#EF553B",
          "size": [
           112
          ],
          "sizemode": "area",
          "sizeref": 0.3925,
          "symbol": "circle"
         },
         "mode": "markers",
         "name": "Iraq",
         "orientation": "v",
         "showlegend": true,
         "type": "scatter",
         "x": [
          4.575
         ],
         "xaxis": "x2",
         "y": [
          0.59205
         ],
         "yaxis": "y2"
        },
        {
         "hovertemplate": "Country=Namibia<br>Region=Africa<br>Happiness_Score=%{x}<br>Family=%{y}<br>Happiness_Rank=%{marker.size}<extra></extra>",
         "legendgroup": "Namibia",
         "marker": {
          "color": "#00cc96",
          "size": [
           113
          ],
          "sizemode": "area",
          "sizeref": 0.3925,
          "symbol": "circle"
         },
         "mode": "markers",
         "name": "Namibia",
         "orientation": "v",
         "showlegend": true,
         "type": "scatter",
         "x": [
          4.574
         ],
         "xaxis": "x2",
         "y": [
          0.70362
         ],
         "yaxis": "y2"
        },
        {
         "hovertemplate": "Country=Cameroon<br>Region=Africa<br>Happiness_Score=%{x}<br>Family=%{y}<br>Happiness_Rank=%{marker.size}<extra></extra>",
         "legendgroup": "Cameroon",
         "marker": {
          "color": "#ab63fa",
          "size": [
           114
          ],
          "sizemode": "area",
          "sizeref": 0.3925,
          "symbol": "circle"
         },
         "mode": "markers",
         "name": "Cameroon",
         "orientation": "v",
         "showlegend": true,
         "type": "scatter",
         "x": [
          4.513
         ],
         "xaxis": "x2",
         "y": [
          0.62542
         ],
         "yaxis": "y2"
        },
        {
         "hovertemplate": "Country=Ethiopia<br>Region=Africa<br>Happiness_Score=%{x}<br>Family=%{y}<br>Happiness_Rank=%{marker.size}<extra></extra>",
         "legendgroup": "Ethiopia",
         "marker": {
          "color": "#FFA15A",
          "size": [
           115
          ],
          "sizemode": "area",
          "sizeref": 0.3925,
          "symbol": "circle"
         },
         "mode": "markers",
         "name": "Ethiopia",
         "orientation": "v",
         "showlegend": true,
         "type": "scatter",
         "x": [
          4.508
         ],
         "xaxis": "x2",
         "y": [
          0.37932
         ],
         "yaxis": "y2"
        },
        {
         "hovertemplate": "Country=South Africa<br>Region=Africa<br>Happiness_Score=%{x}<br>Family=%{y}<br>Happiness_Rank=%{marker.size}<extra></extra>",
         "legendgroup": "South Africa",
         "marker": {
          "color": "#19d3f3",
          "size": [
           116
          ],
          "sizemode": "area",
          "sizeref": 0.3925,
          "symbol": "circle"
         },
         "mode": "markers",
         "name": "South Africa",
         "orientation": "v",
         "showlegend": true,
         "type": "scatter",
         "x": [
          4.459
         ],
         "xaxis": "x2",
         "y": [
          0.96053
         ],
         "yaxis": "y2"
        },
        {
         "hovertemplate": "Country=Sri Lanka<br>Region=Asia<br>Happiness_Score=%{x}<br>Family=%{y}<br>Happiness_Rank=%{marker.size}<extra></extra>",
         "legendgroup": "Sri Lanka",
         "marker": {
          "color": "#FF6692",
          "size": [
           117
          ],
          "sizemode": "area",
          "sizeref": 0.3925,
          "symbol": "circle"
         },
         "mode": "markers",
         "name": "Sri Lanka",
         "orientation": "v",
         "showlegend": true,
         "type": "scatter",
         "x": [
          4.415
         ],
         "xaxis": "x",
         "y": [
          0.84783
         ],
         "yaxis": "y"
        },
        {
         "hovertemplate": "Country=India<br>Region=Asia<br>Happiness_Score=%{x}<br>Family=%{y}<br>Happiness_Rank=%{marker.size}<extra></extra>",
         "legendgroup": "India",
         "marker": {
          "color": "#B6E880",
          "size": [
           118
          ],
          "sizemode": "area",
          "sizeref": 0.3925,
          "symbol": "circle"
         },
         "mode": "markers",
         "name": "India",
         "orientation": "v",
         "showlegend": true,
         "type": "scatter",
         "x": [
          4.404
         ],
         "xaxis": "x",
         "y": [
          0.29247
         ],
         "yaxis": "y"
        },
        {
         "hovertemplate": "Country=Myanmar<br>Region=Asia<br>Happiness_Score=%{x}<br>Family=%{y}<br>Happiness_Rank=%{marker.size}<extra></extra>",
         "legendgroup": "Myanmar",
         "marker": {
          "color": "#FF97FF",
          "size": [
           119
          ],
          "sizemode": "area",
          "sizeref": 0.3925,
          "symbol": "circle"
         },
         "mode": "markers",
         "name": "Myanmar",
         "orientation": "v",
         "showlegend": true,
         "type": "scatter",
         "x": [
          4.395
         ],
         "xaxis": "x",
         "y": [
          0.69981
         ],
         "yaxis": "y"
        },
        {
         "hovertemplate": "Country=Egypt<br>Region=Africa<br>Happiness_Score=%{x}<br>Family=%{y}<br>Happiness_Rank=%{marker.size}<extra></extra>",
         "legendgroup": "Egypt",
         "marker": {
          "color": "#FECB52",
          "size": [
           120
          ],
          "sizemode": "area",
          "sizeref": 0.3925,
          "symbol": "circle"
         },
         "mode": "markers",
         "name": "Egypt",
         "orientation": "v",
         "showlegend": true,
         "type": "scatter",
         "x": [
          4.362
         ],
         "xaxis": "x2",
         "y": [
          0.49813
         ],
         "yaxis": "y2"
        },
        {
         "hovertemplate": "Country=Armenia<br>Region=Europe<br>Happiness_Score=%{x}<br>Family=%{y}<br>Happiness_Rank=%{marker.size}<extra></extra>",
         "legendgroup": "Armenia",
         "marker": {
          "color": "#636efa",
          "size": [
           121
          ],
          "sizemode": "area",
          "sizeref": 0.3925,
          "symbol": "circle"
         },
         "mode": "markers",
         "name": "Armenia",
         "orientation": "v",
         "showlegend": true,
         "type": "scatter",
         "x": [
          4.36
         ],
         "xaxis": "x5",
         "y": [
          0.62477
         ],
         "yaxis": "y5"
        },
        {
         "hovertemplate": "Country=Kenya<br>Region=Africa<br>Happiness_Score=%{x}<br>Family=%{y}<br>Happiness_Rank=%{marker.size}<extra></extra>",
         "legendgroup": "Kenya",
         "marker": {
          "color": "#EF553B",
          "size": [
           122
          ],
          "sizemode": "area",
          "sizeref": 0.3925,
          "symbol": "circle"
         },
         "mode": "markers",
         "name": "Kenya",
         "orientation": "v",
         "showlegend": true,
         "type": "scatter",
         "x": [
          4.356
         ],
         "xaxis": "x2",
         "y": [
          0.7624
         ],
         "yaxis": "y2"
        },
        {
         "hovertemplate": "Country=Ukraine<br>Region=Europe<br>Happiness_Score=%{x}<br>Family=%{y}<br>Happiness_Rank=%{marker.size}<extra></extra>",
         "legendgroup": "Ukraine",
         "marker": {
          "color": "#00cc96",
          "size": [
           123
          ],
          "sizemode": "area",
          "sizeref": 0.3925,
          "symbol": "circle"
         },
         "mode": "markers",
         "name": "Ukraine",
         "orientation": "v",
         "showlegend": true,
         "type": "scatter",
         "x": [
          4.324
         ],
         "xaxis": "x5",
         "y": [
          1.01413
         ],
         "yaxis": "y5"
        },
        {
         "hovertemplate": "Country=Ghana<br>Region=Africa<br>Happiness_Score=%{x}<br>Family=%{y}<br>Happiness_Rank=%{marker.size}<extra></extra>",
         "legendgroup": "Ghana",
         "marker": {
          "color": "#ab63fa",
          "size": [
           124
          ],
          "sizemode": "area",
          "sizeref": 0.3925,
          "symbol": "circle"
         },
         "mode": "markers",
         "name": "Ghana",
         "orientation": "v",
         "showlegend": true,
         "type": "scatter",
         "x": [
          4.276
         ],
         "xaxis": "x2",
         "y": [
          0.49353
         ],
         "yaxis": "y2"
        },
        {
         "hovertemplate": "Country=Congo (Kinshasa)<br>Region=Africa<br>Happiness_Score=%{x}<br>Family=%{y}<br>Happiness_Rank=%{marker.size}<extra></extra>",
         "legendgroup": "Congo (Kinshasa)",
         "marker": {
          "color": "#FFA15A",
          "size": [
           125
          ],
          "sizemode": "area",
          "sizeref": 0.3925,
          "symbol": "circle"
         },
         "mode": "markers",
         "name": "Congo (Kinshasa)",
         "orientation": "v",
         "showlegend": true,
         "type": "scatter",
         "x": [
          4.272
         ],
         "xaxis": "x2",
         "y": [
          0.80676
         ],
         "yaxis": "y2"
        },
        {
         "hovertemplate": "Country=Georgia<br>Region=Europe<br>Happiness_Score=%{x}<br>Family=%{y}<br>Happiness_Rank=%{marker.size}<extra></extra>",
         "legendgroup": "Georgia",
         "marker": {
          "color": "#19d3f3",
          "size": [
           126
          ],
          "sizemode": "area",
          "sizeref": 0.3925,
          "symbol": "circle"
         },
         "mode": "markers",
         "name": "Georgia",
         "orientation": "v",
         "showlegend": true,
         "type": "scatter",
         "x": [
          4.252
         ],
         "xaxis": "x5",
         "y": [
          0.19249
         ],
         "yaxis": "y5"
        },
        {
         "hovertemplate": "Country=Congo (Brazzaville)<br>Region=Africa<br>Happiness_Score=%{x}<br>Family=%{y}<br>Happiness_Rank=%{marker.size}<extra></extra>",
         "legendgroup": "Congo (Brazzaville)",
         "marker": {
          "color": "#FF6692",
          "size": [
           127
          ],
          "sizemode": "area",
          "sizeref": 0.3925,
          "symbol": "circle"
         },
         "mode": "markers",
         "name": "Congo (Brazzaville)",
         "orientation": "v",
         "showlegend": true,
         "type": "scatter",
         "x": [
          4.236
         ],
         "xaxis": "x2",
         "y": [
          0.47799
         ],
         "yaxis": "y2"
        },
        {
         "hovertemplate": "Country=Senegal<br>Region=Africa<br>Happiness_Score=%{x}<br>Family=%{y}<br>Happiness_Rank=%{marker.size}<extra></extra>",
         "legendgroup": "Senegal",
         "marker": {
          "color": "#B6E880",
          "size": [
           128
          ],
          "sizemode": "area",
          "sizeref": 0.3925,
          "symbol": "circle"
         },
         "mode": "markers",
         "name": "Senegal",
         "orientation": "v",
         "showlegend": true,
         "type": "scatter",
         "x": [
          4.219
         ],
         "xaxis": "x2",
         "y": [
          0.77416
         ],
         "yaxis": "y2"
        },
        {
         "hovertemplate": "Country=Bulgaria<br>Region=Europe<br>Happiness_Score=%{x}<br>Family=%{y}<br>Happiness_Rank=%{marker.size}<extra></extra>",
         "legendgroup": "Bulgaria",
         "marker": {
          "color": "#FF97FF",
          "size": [
           129
          ],
          "sizemode": "area",
          "sizeref": 0.3925,
          "symbol": "circle"
         },
         "mode": "markers",
         "name": "Bulgaria",
         "orientation": "v",
         "showlegend": true,
         "type": "scatter",
         "x": [
          4.217
         ],
         "xaxis": "x5",
         "y": [
          0.92542
         ],
         "yaxis": "y5"
        },
        {
         "hovertemplate": "Country=Mauritania<br>Region=Africa<br>Happiness_Score=%{x}<br>Family=%{y}<br>Happiness_Rank=%{marker.size}<extra></extra>",
         "legendgroup": "Mauritania",
         "marker": {
          "color": "#FECB52",
          "size": [
           130
          ],
          "sizemode": "area",
          "sizeref": 0.3925,
          "symbol": "circle"
         },
         "mode": "markers",
         "name": "Mauritania",
         "orientation": "v",
         "showlegend": true,
         "type": "scatter",
         "x": [
          4.201
         ],
         "xaxis": "x2",
         "y": [
          0.84142
         ],
         "yaxis": "y2"
        },
        {
         "hovertemplate": "Country=Zimbabwe<br>Region=Africa<br>Happiness_Score=%{x}<br>Family=%{y}<br>Happiness_Rank=%{marker.size}<extra></extra>",
         "legendgroup": "Zimbabwe",
         "marker": {
          "color": "#636efa",
          "size": [
           131
          ],
          "sizemode": "area",
          "sizeref": 0.3925,
          "symbol": "circle"
         },
         "mode": "markers",
         "name": "Zimbabwe",
         "orientation": "v",
         "showlegend": true,
         "type": "scatter",
         "x": [
          4.193
         ],
         "xaxis": "x2",
         "y": [
          0.71478
         ],
         "yaxis": "y2"
        },
        {
         "hovertemplate": "Country=Malawi<br>Region=Africa<br>Happiness_Score=%{x}<br>Family=%{y}<br>Happiness_Rank=%{marker.size}<extra></extra>",
         "legendgroup": "Malawi",
         "marker": {
          "color": "#EF553B",
          "size": [
           132
          ],
          "sizemode": "area",
          "sizeref": 0.3925,
          "symbol": "circle"
         },
         "mode": "markers",
         "name": "Malawi",
         "orientation": "v",
         "showlegend": true,
         "type": "scatter",
         "x": [
          4.156
         ],
         "xaxis": "x2",
         "y": [
          0.147
         ],
         "yaxis": "y2"
        },
        {
         "hovertemplate": "Country=Sudan<br>Region=Africa<br>Happiness_Score=%{x}<br>Family=%{y}<br>Happiness_Rank=%{marker.size}<extra></extra>",
         "legendgroup": "Sudan",
         "marker": {
          "color": "#00cc96",
          "size": [
           133
          ],
          "sizemode": "area",
          "sizeref": 0.3925,
          "symbol": "circle"
         },
         "mode": "markers",
         "name": "Sudan",
         "orientation": "v",
         "showlegend": true,
         "type": "scatter",
         "x": [
          4.139
         ],
         "xaxis": "x2",
         "y": [
          0.81928
         ],
         "yaxis": "y2"
        },
        {
         "hovertemplate": "Country=Gabon<br>Region=Africa<br>Happiness_Score=%{x}<br>Family=%{y}<br>Happiness_Rank=%{marker.size}<extra></extra>",
         "legendgroup": "Gabon",
         "marker": {
          "color": "#ab63fa",
          "size": [
           134
          ],
          "sizemode": "area",
          "sizeref": 0.3925,
          "symbol": "circle"
         },
         "mode": "markers",
         "name": "Gabon",
         "orientation": "v",
         "showlegend": true,
         "type": "scatter",
         "x": [
          4.121
         ],
         "xaxis": "x2",
         "y": [
          0.72368
         ],
         "yaxis": "y2"
        },
        {
         "hovertemplate": "Country=Mali<br>Region=Africa<br>Happiness_Score=%{x}<br>Family=%{y}<br>Happiness_Rank=%{marker.size}<extra></extra>",
         "legendgroup": "Mali",
         "marker": {
          "color": "#FFA15A",
          "size": [
           135
          ],
          "sizemode": "area",
          "sizeref": 0.3925,
          "symbol": "circle"
         },
         "mode": "markers",
         "name": "Mali",
         "orientation": "v",
         "showlegend": true,
         "type": "scatter",
         "x": [
          4.073
         ],
         "xaxis": "x2",
         "y": [
          0.86333
         ],
         "yaxis": "y2"
        },
        {
         "hovertemplate": "Country=Haiti<br>Region=America<br>Happiness_Score=%{x}<br>Family=%{y}<br>Happiness_Rank=%{marker.size}<extra></extra>",
         "legendgroup": "Haiti",
         "marker": {
          "color": "#19d3f3",
          "size": [
           136
          ],
          "sizemode": "area",
          "sizeref": 0.3925,
          "symbol": "circle"
         },
         "mode": "markers",
         "name": "Haiti",
         "orientation": "v",
         "showlegend": true,
         "type": "scatter",
         "x": [
          4.028
         ],
         "xaxis": "x4",
         "y": [
          0.29561
         ],
         "yaxis": "y4"
        },
        {
         "hovertemplate": "Country=Botswana<br>Region=Africa<br>Happiness_Score=%{x}<br>Family=%{y}<br>Happiness_Rank=%{marker.size}<extra></extra>",
         "legendgroup": "Botswana",
         "marker": {
          "color": "#FF6692",
          "size": [
           137
          ],
          "sizemode": "area",
          "sizeref": 0.3925,
          "symbol": "circle"
         },
         "mode": "markers",
         "name": "Botswana",
         "orientation": "v",
         "showlegend": true,
         "type": "scatter",
         "x": [
          3.974
         ],
         "xaxis": "x2",
         "y": [
          0.89186
         ],
         "yaxis": "y2"
        },
        {
         "hovertemplate": "Country=Comoros<br>Region=Africa<br>Happiness_Score=%{x}<br>Family=%{y}<br>Happiness_Rank=%{marker.size}<extra></extra>",
         "legendgroup": "Comoros",
         "marker": {
          "color": "#B6E880",
          "size": [
           138
          ],
          "sizemode": "area",
          "sizeref": 0.3925,
          "symbol": "circle"
         },
         "mode": "markers",
         "name": "Comoros",
         "orientation": "v",
         "showlegend": true,
         "type": "scatter",
         "x": [
          3.956
         ],
         "xaxis": "x2",
         "y": [
          0.60323
         ],
         "yaxis": "y2"
        },
        {
         "hovertemplate": "Country=Ivory Coast<br>Region=Africa<br>Happiness_Score=%{x}<br>Family=%{y}<br>Happiness_Rank=%{marker.size}<extra></extra>",
         "legendgroup": "Ivory Coast",
         "marker": {
          "color": "#FF97FF",
          "size": [
           139
          ],
          "sizemode": "area",
          "sizeref": 0.3925,
          "symbol": "circle"
         },
         "mode": "markers",
         "name": "Ivory Coast",
         "orientation": "v",
         "showlegend": true,
         "type": "scatter",
         "x": [
          3.916
         ],
         "xaxis": "x2",
         "y": [
          0.57576
         ],
         "yaxis": "y2"
        },
        {
         "hovertemplate": "Country=Cambodia<br>Region=Asia<br>Happiness_Score=%{x}<br>Family=%{y}<br>Happiness_Rank=%{marker.size}<extra></extra>",
         "legendgroup": "Cambodia",
         "marker": {
          "color": "#FECB52",
          "size": [
           140
          ],
          "sizemode": "area",
          "sizeref": 0.3925,
          "symbol": "circle"
         },
         "mode": "markers",
         "name": "Cambodia",
         "orientation": "v",
         "showlegend": true,
         "type": "scatter",
         "x": [
          3.907
         ],
         "xaxis": "x",
         "y": [
          0.5375
         ],
         "yaxis": "y"
        },
        {
         "hovertemplate": "Country=Angola<br>Region=Africa<br>Happiness_Score=%{x}<br>Family=%{y}<br>Happiness_Rank=%{marker.size}<extra></extra>",
         "legendgroup": "Angola",
         "marker": {
          "color": "#636efa",
          "size": [
           141
          ],
          "sizemode": "area",
          "sizeref": 0.3925,
          "symbol": "circle"
         },
         "mode": "markers",
         "name": "Angola",
         "orientation": "v",
         "showlegend": true,
         "type": "scatter",
         "x": [
          3.866
         ],
         "xaxis": "x2",
         "y": [
          0.66366
         ],
         "yaxis": "y2"
        },
        {
         "hovertemplate": "Country=Niger<br>Region=Africa<br>Happiness_Score=%{x}<br>Family=%{y}<br>Happiness_Rank=%{marker.size}<extra></extra>",
         "legendgroup": "Niger",
         "marker": {
          "color": "#EF553B",
          "size": [
           142
          ],
          "sizemode": "area",
          "sizeref": 0.3925,
          "symbol": "circle"
         },
         "mode": "markers",
         "name": "Niger",
         "orientation": "v",
         "showlegend": true,
         "type": "scatter",
         "x": [
          3.856
         ],
         "xaxis": "x2",
         "y": [
          0.6053
         ],
         "yaxis": "y2"
        },
        {
         "hovertemplate": "Country=South Sudan<br>Region=Africa<br>Happiness_Score=%{x}<br>Family=%{y}<br>Happiness_Rank=%{marker.size}<extra></extra>",
         "legendgroup": "South Sudan",
         "marker": {
          "color": "#00cc96",
          "size": [
           143
          ],
          "sizemode": "area",
          "sizeref": 0.3925,
          "symbol": "circle"
         },
         "mode": "markers",
         "name": "South Sudan",
         "orientation": "v",
         "showlegend": true,
         "type": "scatter",
         "x": [
          3.832
         ],
         "xaxis": "x2",
         "y": [
          0.18519
         ],
         "yaxis": "y2"
        },
        {
         "hovertemplate": "Country=Chad<br>Region=Africa<br>Happiness_Score=%{x}<br>Family=%{y}<br>Happiness_Rank=%{marker.size}<extra></extra>",
         "legendgroup": "Chad",
         "marker": {
          "color": "#ab63fa",
          "size": [
           144
          ],
          "sizemode": "area",
          "sizeref": 0.3925,
          "symbol": "circle"
         },
         "mode": "markers",
         "name": "Chad",
         "orientation": "v",
         "showlegend": true,
         "type": "scatter",
         "x": [
          3.763
         ],
         "xaxis": "x2",
         "y": [
          0.63178
         ],
         "yaxis": "y2"
        },
        {
         "hovertemplate": "Country=Burkina Faso<br>Region=Africa<br>Happiness_Score=%{x}<br>Family=%{y}<br>Happiness_Rank=%{marker.size}<extra></extra>",
         "legendgroup": "Burkina Faso",
         "marker": {
          "color": "#FFA15A",
          "size": [
           145
          ],
          "sizemode": "area",
          "sizeref": 0.3925,
          "symbol": "circle"
         },
         "mode": "markers",
         "name": "Burkina Faso",
         "orientation": "v",
         "showlegend": true,
         "type": "scatter",
         "x": [
          3.739
         ],
         "xaxis": "x2",
         "y": [
          0.63054
         ],
         "yaxis": "y2"
        },
        {
         "hovertemplate": "Country=Uganda<br>Region=Africa<br>Happiness_Score=%{x}<br>Family=%{y}<br>Happiness_Rank=%{marker.size}<extra></extra>",
         "legendgroup": "Uganda",
         "marker": {
          "color": "#19d3f3",
          "size": [
           145
          ],
          "sizemode": "area",
          "sizeref": 0.3925,
          "symbol": "circle"
         },
         "mode": "markers",
         "name": "Uganda",
         "orientation": "v",
         "showlegend": true,
         "type": "scatter",
         "x": [
          3.739
         ],
         "xaxis": "x2",
         "y": [
          0.90981
         ],
         "yaxis": "y2"
        },
        {
         "hovertemplate": "Country=Yemen<br>Region=Africa<br>Happiness_Score=%{x}<br>Family=%{y}<br>Happiness_Rank=%{marker.size}<extra></extra>",
         "legendgroup": "Yemen",
         "marker": {
          "color": "#FF6692",
          "size": [
           147
          ],
          "sizemode": "area",
          "sizeref": 0.3925,
          "symbol": "circle"
         },
         "mode": "markers",
         "name": "Yemen",
         "orientation": "v",
         "showlegend": true,
         "type": "scatter",
         "x": [
          3.724
         ],
         "xaxis": "x2",
         "y": [
          0.47493
         ],
         "yaxis": "y2"
        },
        {
         "hovertemplate": "Country=Madagascar<br>Region=Africa<br>Happiness_Score=%{x}<br>Family=%{y}<br>Happiness_Rank=%{marker.size}<extra></extra>",
         "legendgroup": "Madagascar",
         "marker": {
          "color": "#B6E880",
          "size": [
           148
          ],
          "sizemode": "area",
          "sizeref": 0.3925,
          "symbol": "circle"
         },
         "mode": "markers",
         "name": "Madagascar",
         "orientation": "v",
         "showlegend": true,
         "type": "scatter",
         "x": [
          3.695
         ],
         "xaxis": "x2",
         "y": [
          0.46115
         ],
         "yaxis": "y2"
        },
        {
         "hovertemplate": "Country=Tanzania<br>Region=Africa<br>Happiness_Score=%{x}<br>Family=%{y}<br>Happiness_Rank=%{marker.size}<extra></extra>",
         "legendgroup": "Tanzania",
         "marker": {
          "color": "#FF97FF",
          "size": [
           149
          ],
          "sizemode": "area",
          "sizeref": 0.3925,
          "symbol": "circle"
         },
         "mode": "markers",
         "name": "Tanzania",
         "orientation": "v",
         "showlegend": true,
         "type": "scatter",
         "x": [
          3.666
         ],
         "xaxis": "x2",
         "y": [
          0.77623
         ],
         "yaxis": "y2"
        },
        {
         "hovertemplate": "Country=Liberia<br>Region=Africa<br>Happiness_Score=%{x}<br>Family=%{y}<br>Happiness_Rank=%{marker.size}<extra></extra>",
         "legendgroup": "Liberia",
         "marker": {
          "color": "#FECB52",
          "size": [
           150
          ],
          "sizemode": "area",
          "sizeref": 0.3925,
          "symbol": "circle"
         },
         "mode": "markers",
         "name": "Liberia",
         "orientation": "v",
         "showlegend": true,
         "type": "scatter",
         "x": [
          3.622
         ],
         "xaxis": "x2",
         "y": [
          0.50353
         ],
         "yaxis": "y2"
        },
        {
         "hovertemplate": "Country=Guinea<br>Region=Africa<br>Happiness_Score=%{x}<br>Family=%{y}<br>Happiness_Rank=%{marker.size}<extra></extra>",
         "legendgroup": "Guinea",
         "marker": {
          "color": "#636efa",
          "size": [
           151
          ],
          "sizemode": "area",
          "sizeref": 0.3925,
          "symbol": "circle"
         },
         "mode": "markers",
         "name": "Guinea",
         "orientation": "v",
         "showlegend": true,
         "type": "scatter",
         "x": [
          3.607
         ],
         "xaxis": "x2",
         "y": [
          0.3109
         ],
         "yaxis": "y2"
        },
        {
         "hovertemplate": "Country=Rwanda<br>Region=Africa<br>Happiness_Score=%{x}<br>Family=%{y}<br>Happiness_Rank=%{marker.size}<extra></extra>",
         "legendgroup": "Rwanda",
         "marker": {
          "color": "#EF553B",
          "size": [
           152
          ],
          "sizemode": "area",
          "sizeref": 0.3925,
          "symbol": "circle"
         },
         "mode": "markers",
         "name": "Rwanda",
         "orientation": "v",
         "showlegend": true,
         "type": "scatter",
         "x": [
          3.515
         ],
         "xaxis": "x2",
         "y": [
          0.61586
         ],
         "yaxis": "y2"
        },
        {
         "hovertemplate": "Country=Benin<br>Region=Africa<br>Happiness_Score=%{x}<br>Family=%{y}<br>Happiness_Rank=%{marker.size}<extra></extra>",
         "legendgroup": "Benin",
         "marker": {
          "color": "#00cc96",
          "size": [
           153
          ],
          "sizemode": "area",
          "sizeref": 0.3925,
          "symbol": "circle"
         },
         "mode": "markers",
         "name": "Benin",
         "orientation": "v",
         "showlegend": true,
         "type": "scatter",
         "x": [
          3.484
         ],
         "xaxis": "x2",
         "y": [
          0.10419
         ],
         "yaxis": "y2"
        },
        {
         "hovertemplate": "Country=Afghanistan<br>Region=Asia<br>Happiness_Score=%{x}<br>Family=%{y}<br>Happiness_Rank=%{marker.size}<extra></extra>",
         "legendgroup": "Afghanistan",
         "marker": {
          "color": "#ab63fa",
          "size": [
           154
          ],
          "sizemode": "area",
          "sizeref": 0.3925,
          "symbol": "circle"
         },
         "mode": "markers",
         "name": "Afghanistan",
         "orientation": "v",
         "showlegend": true,
         "type": "scatter",
         "x": [
          3.36
         ],
         "xaxis": "x",
         "y": [
          0.11037
         ],
         "yaxis": "y"
        },
        {
         "hovertemplate": "Country=Togo<br>Region=Africa<br>Happiness_Score=%{x}<br>Family=%{y}<br>Happiness_Rank=%{marker.size}<extra></extra>",
         "legendgroup": "Togo",
         "marker": {
          "color": "#FFA15A",
          "size": [
           155
          ],
          "sizemode": "area",
          "sizeref": 0.3925,
          "symbol": "circle"
         },
         "mode": "markers",
         "name": "Togo",
         "orientation": "v",
         "showlegend": true,
         "type": "scatter",
         "x": [
          3.303
         ],
         "xaxis": "x2",
         "y": [
          0
         ],
         "yaxis": "y2"
        },
        {
         "hovertemplate": "Country=Syria<br>Region=Africa<br>Happiness_Score=%{x}<br>Family=%{y}<br>Happiness_Rank=%{marker.size}<extra></extra>",
         "legendgroup": "Syria",
         "marker": {
          "color": "#19d3f3",
          "size": [
           156
          ],
          "sizemode": "area",
          "sizeref": 0.3925,
          "symbol": "circle"
         },
         "mode": "markers",
         "name": "Syria",
         "orientation": "v",
         "showlegend": true,
         "type": "scatter",
         "x": [
          3.069
         ],
         "xaxis": "x2",
         "y": [
          0.14866
         ],
         "yaxis": "y2"
        },
        {
         "hovertemplate": "Country=Burundi<br>Region=Africa<br>Happiness_Score=%{x}<br>Family=%{y}<br>Happiness_Rank=%{marker.size}<extra></extra>",
         "legendgroup": "Burundi",
         "marker": {
          "color": "#FF6692",
          "size": [
           157
          ],
          "sizemode": "area",
          "sizeref": 0.3925,
          "symbol": "circle"
         },
         "mode": "markers",
         "name": "Burundi",
         "orientation": "v",
         "showlegend": true,
         "type": "scatter",
         "x": [
          2.905
         ],
         "xaxis": "x2",
         "y": [
          0.23442
         ],
         "yaxis": "y2"
        }
       ],
       "layout": {
        "annotations": [
         {
          "font": {},
          "showarrow": false,
          "text": "Region=Asia",
          "textangle": 90,
          "x": 0.98,
          "xanchor": "left",
          "xref": "paper",
          "y": 0.08800000000000001,
          "yanchor": "middle",
          "yref": "paper"
         },
         {
          "font": {},
          "showarrow": false,
          "text": "Region=Africa",
          "textangle": 90,
          "x": 0.98,
          "xanchor": "left",
          "xref": "paper",
          "y": 0.29400000000000004,
          "yanchor": "middle",
          "yref": "paper"
         },
         {
          "font": {},
          "showarrow": false,
          "text": "Region=Oceania",
          "textangle": 90,
          "x": 0.98,
          "xanchor": "left",
          "xref": "paper",
          "y": 0.5,
          "yanchor": "middle",
          "yref": "paper"
         },
         {
          "font": {},
          "showarrow": false,
          "text": "Region=America",
          "textangle": 90,
          "x": 0.98,
          "xanchor": "left",
          "xref": "paper",
          "y": 0.706,
          "yanchor": "middle",
          "yref": "paper"
         },
         {
          "font": {},
          "showarrow": false,
          "text": "Region=Europe",
          "textangle": 90,
          "x": 0.98,
          "xanchor": "left",
          "xref": "paper",
          "y": 0.912,
          "yanchor": "middle",
          "yref": "paper"
         }
        ],
        "height": 800,
        "legend": {
         "itemsizing": "constant",
         "title": {
          "text": "Country"
         },
         "tracegroupgap": 0
        },
        "template": {
         "data": {
          "bar": [
           {
            "error_x": {
             "color": "#2a3f5f"
            },
            "error_y": {
             "color": "#2a3f5f"
            },
            "marker": {
             "line": {
              "color": "#E5ECF6",
              "width": 0.5
             },
             "pattern": {
              "fillmode": "overlay",
              "size": 10,
              "solidity": 0.2
             }
            },
            "type": "bar"
           }
          ],
          "barpolar": [
           {
            "marker": {
             "line": {
              "color": "#E5ECF6",
              "width": 0.5
             },
             "pattern": {
              "fillmode": "overlay",
              "size": 10,
              "solidity": 0.2
             }
            },
            "type": "barpolar"
           }
          ],
          "carpet": [
           {
            "aaxis": {
             "endlinecolor": "#2a3f5f",
             "gridcolor": "white",
             "linecolor": "white",
             "minorgridcolor": "white",
             "startlinecolor": "#2a3f5f"
            },
            "baxis": {
             "endlinecolor": "#2a3f5f",
             "gridcolor": "white",
             "linecolor": "white",
             "minorgridcolor": "white",
             "startlinecolor": "#2a3f5f"
            },
            "type": "carpet"
           }
          ],
          "choropleth": [
           {
            "colorbar": {
             "outlinewidth": 0,
             "ticks": ""
            },
            "type": "choropleth"
           }
          ],
          "contour": [
           {
            "colorbar": {
             "outlinewidth": 0,
             "ticks": ""
            },
            "colorscale": [
             [
              0,
              "#0d0887"
             ],
             [
              0.1111111111111111,
              "#46039f"
             ],
             [
              0.2222222222222222,
              "#7201a8"
             ],
             [
              0.3333333333333333,
              "#9c179e"
             ],
             [
              0.4444444444444444,
              "#bd3786"
             ],
             [
              0.5555555555555556,
              "#d8576b"
             ],
             [
              0.6666666666666666,
              "#ed7953"
             ],
             [
              0.7777777777777778,
              "#fb9f3a"
             ],
             [
              0.8888888888888888,
              "#fdca26"
             ],
             [
              1,
              "#f0f921"
             ]
            ],
            "type": "contour"
           }
          ],
          "contourcarpet": [
           {
            "colorbar": {
             "outlinewidth": 0,
             "ticks": ""
            },
            "type": "contourcarpet"
           }
          ],
          "heatmap": [
           {
            "colorbar": {
             "outlinewidth": 0,
             "ticks": ""
            },
            "colorscale": [
             [
              0,
              "#0d0887"
             ],
             [
              0.1111111111111111,
              "#46039f"
             ],
             [
              0.2222222222222222,
              "#7201a8"
             ],
             [
              0.3333333333333333,
              "#9c179e"
             ],
             [
              0.4444444444444444,
              "#bd3786"
             ],
             [
              0.5555555555555556,
              "#d8576b"
             ],
             [
              0.6666666666666666,
              "#ed7953"
             ],
             [
              0.7777777777777778,
              "#fb9f3a"
             ],
             [
              0.8888888888888888,
              "#fdca26"
             ],
             [
              1,
              "#f0f921"
             ]
            ],
            "type": "heatmap"
           }
          ],
          "heatmapgl": [
           {
            "colorbar": {
             "outlinewidth": 0,
             "ticks": ""
            },
            "colorscale": [
             [
              0,
              "#0d0887"
             ],
             [
              0.1111111111111111,
              "#46039f"
             ],
             [
              0.2222222222222222,
              "#7201a8"
             ],
             [
              0.3333333333333333,
              "#9c179e"
             ],
             [
              0.4444444444444444,
              "#bd3786"
             ],
             [
              0.5555555555555556,
              "#d8576b"
             ],
             [
              0.6666666666666666,
              "#ed7953"
             ],
             [
              0.7777777777777778,
              "#fb9f3a"
             ],
             [
              0.8888888888888888,
              "#fdca26"
             ],
             [
              1,
              "#f0f921"
             ]
            ],
            "type": "heatmapgl"
           }
          ],
          "histogram": [
           {
            "marker": {
             "pattern": {
              "fillmode": "overlay",
              "size": 10,
              "solidity": 0.2
             }
            },
            "type": "histogram"
           }
          ],
          "histogram2d": [
           {
            "colorbar": {
             "outlinewidth": 0,
             "ticks": ""
            },
            "colorscale": [
             [
              0,
              "#0d0887"
             ],
             [
              0.1111111111111111,
              "#46039f"
             ],
             [
              0.2222222222222222,
              "#7201a8"
             ],
             [
              0.3333333333333333,
              "#9c179e"
             ],
             [
              0.4444444444444444,
              "#bd3786"
             ],
             [
              0.5555555555555556,
              "#d8576b"
             ],
             [
              0.6666666666666666,
              "#ed7953"
             ],
             [
              0.7777777777777778,
              "#fb9f3a"
             ],
             [
              0.8888888888888888,
              "#fdca26"
             ],
             [
              1,
              "#f0f921"
             ]
            ],
            "type": "histogram2d"
           }
          ],
          "histogram2dcontour": [
           {
            "colorbar": {
             "outlinewidth": 0,
             "ticks": ""
            },
            "colorscale": [
             [
              0,
              "#0d0887"
             ],
             [
              0.1111111111111111,
              "#46039f"
             ],
             [
              0.2222222222222222,
              "#7201a8"
             ],
             [
              0.3333333333333333,
              "#9c179e"
             ],
             [
              0.4444444444444444,
              "#bd3786"
             ],
             [
              0.5555555555555556,
              "#d8576b"
             ],
             [
              0.6666666666666666,
              "#ed7953"
             ],
             [
              0.7777777777777778,
              "#fb9f3a"
             ],
             [
              0.8888888888888888,
              "#fdca26"
             ],
             [
              1,
              "#f0f921"
             ]
            ],
            "type": "histogram2dcontour"
           }
          ],
          "mesh3d": [
           {
            "colorbar": {
             "outlinewidth": 0,
             "ticks": ""
            },
            "type": "mesh3d"
           }
          ],
          "parcoords": [
           {
            "line": {
             "colorbar": {
              "outlinewidth": 0,
              "ticks": ""
             }
            },
            "type": "parcoords"
           }
          ],
          "pie": [
           {
            "automargin": true,
            "type": "pie"
           }
          ],
          "scatter": [
           {
            "marker": {
             "colorbar": {
              "outlinewidth": 0,
              "ticks": ""
             }
            },
            "type": "scatter"
           }
          ],
          "scatter3d": [
           {
            "line": {
             "colorbar": {
              "outlinewidth": 0,
              "ticks": ""
             }
            },
            "marker": {
             "colorbar": {
              "outlinewidth": 0,
              "ticks": ""
             }
            },
            "type": "scatter3d"
           }
          ],
          "scattercarpet": [
           {
            "marker": {
             "colorbar": {
              "outlinewidth": 0,
              "ticks": ""
             }
            },
            "type": "scattercarpet"
           }
          ],
          "scattergeo": [
           {
            "marker": {
             "colorbar": {
              "outlinewidth": 0,
              "ticks": ""
             }
            },
            "type": "scattergeo"
           }
          ],
          "scattergl": [
           {
            "marker": {
             "colorbar": {
              "outlinewidth": 0,
              "ticks": ""
             }
            },
            "type": "scattergl"
           }
          ],
          "scattermapbox": [
           {
            "marker": {
             "colorbar": {
              "outlinewidth": 0,
              "ticks": ""
             }
            },
            "type": "scattermapbox"
           }
          ],
          "scatterpolar": [
           {
            "marker": {
             "colorbar": {
              "outlinewidth": 0,
              "ticks": ""
             }
            },
            "type": "scatterpolar"
           }
          ],
          "scatterpolargl": [
           {
            "marker": {
             "colorbar": {
              "outlinewidth": 0,
              "ticks": ""
             }
            },
            "type": "scatterpolargl"
           }
          ],
          "scatterternary": [
           {
            "marker": {
             "colorbar": {
              "outlinewidth": 0,
              "ticks": ""
             }
            },
            "type": "scatterternary"
           }
          ],
          "surface": [
           {
            "colorbar": {
             "outlinewidth": 0,
             "ticks": ""
            },
            "colorscale": [
             [
              0,
              "#0d0887"
             ],
             [
              0.1111111111111111,
              "#46039f"
             ],
             [
              0.2222222222222222,
              "#7201a8"
             ],
             [
              0.3333333333333333,
              "#9c179e"
             ],
             [
              0.4444444444444444,
              "#bd3786"
             ],
             [
              0.5555555555555556,
              "#d8576b"
             ],
             [
              0.6666666666666666,
              "#ed7953"
             ],
             [
              0.7777777777777778,
              "#fb9f3a"
             ],
             [
              0.8888888888888888,
              "#fdca26"
             ],
             [
              1,
              "#f0f921"
             ]
            ],
            "type": "surface"
           }
          ],
          "table": [
           {
            "cells": {
             "fill": {
              "color": "#EBF0F8"
             },
             "line": {
              "color": "white"
             }
            },
            "header": {
             "fill": {
              "color": "#C8D4E3"
             },
             "line": {
              "color": "white"
             }
            },
            "type": "table"
           }
          ]
         },
         "layout": {
          "annotationdefaults": {
           "arrowcolor": "#2a3f5f",
           "arrowhead": 0,
           "arrowwidth": 1
          },
          "autotypenumbers": "strict",
          "coloraxis": {
           "colorbar": {
            "outlinewidth": 0,
            "ticks": ""
           }
          },
          "colorscale": {
           "diverging": [
            [
             0,
             "#8e0152"
            ],
            [
             0.1,
             "#c51b7d"
            ],
            [
             0.2,
             "#de77ae"
            ],
            [
             0.3,
             "#f1b6da"
            ],
            [
             0.4,
             "#fde0ef"
            ],
            [
             0.5,
             "#f7f7f7"
            ],
            [
             0.6,
             "#e6f5d0"
            ],
            [
             0.7,
             "#b8e186"
            ],
            [
             0.8,
             "#7fbc41"
            ],
            [
             0.9,
             "#4d9221"
            ],
            [
             1,
             "#276419"
            ]
           ],
           "sequential": [
            [
             0,
             "#0d0887"
            ],
            [
             0.1111111111111111,
             "#46039f"
            ],
            [
             0.2222222222222222,
             "#7201a8"
            ],
            [
             0.3333333333333333,
             "#9c179e"
            ],
            [
             0.4444444444444444,
             "#bd3786"
            ],
            [
             0.5555555555555556,
             "#d8576b"
            ],
            [
             0.6666666666666666,
             "#ed7953"
            ],
            [
             0.7777777777777778,
             "#fb9f3a"
            ],
            [
             0.8888888888888888,
             "#fdca26"
            ],
            [
             1,
             "#f0f921"
            ]
           ],
           "sequentialminus": [
            [
             0,
             "#0d0887"
            ],
            [
             0.1111111111111111,
             "#46039f"
            ],
            [
             0.2222222222222222,
             "#7201a8"
            ],
            [
             0.3333333333333333,
             "#9c179e"
            ],
            [
             0.4444444444444444,
             "#bd3786"
            ],
            [
             0.5555555555555556,
             "#d8576b"
            ],
            [
             0.6666666666666666,
             "#ed7953"
            ],
            [
             0.7777777777777778,
             "#fb9f3a"
            ],
            [
             0.8888888888888888,
             "#fdca26"
            ],
            [
             1,
             "#f0f921"
            ]
           ]
          },
          "colorway": [
           "#636efa",
           "#EF553B",
           "#00cc96",
           "#ab63fa",
           "#FFA15A",
           "#19d3f3",
           "#FF6692",
           "#B6E880",
           "#FF97FF",
           "#FECB52"
          ],
          "font": {
           "color": "#2a3f5f"
          },
          "geo": {
           "bgcolor": "white",
           "lakecolor": "white",
           "landcolor": "#E5ECF6",
           "showlakes": true,
           "showland": true,
           "subunitcolor": "white"
          },
          "hoverlabel": {
           "align": "left"
          },
          "hovermode": "closest",
          "mapbox": {
           "style": "light"
          },
          "paper_bgcolor": "white",
          "plot_bgcolor": "#E5ECF6",
          "polar": {
           "angularaxis": {
            "gridcolor": "white",
            "linecolor": "white",
            "ticks": ""
           },
           "bgcolor": "#E5ECF6",
           "radialaxis": {
            "gridcolor": "white",
            "linecolor": "white",
            "ticks": ""
           }
          },
          "scene": {
           "xaxis": {
            "backgroundcolor": "#E5ECF6",
            "gridcolor": "white",
            "gridwidth": 2,
            "linecolor": "white",
            "showbackground": true,
            "ticks": "",
            "zerolinecolor": "white"
           },
           "yaxis": {
            "backgroundcolor": "#E5ECF6",
            "gridcolor": "white",
            "gridwidth": 2,
            "linecolor": "white",
            "showbackground": true,
            "ticks": "",
            "zerolinecolor": "white"
           },
           "zaxis": {
            "backgroundcolor": "#E5ECF6",
            "gridcolor": "white",
            "gridwidth": 2,
            "linecolor": "white",
            "showbackground": true,
            "ticks": "",
            "zerolinecolor": "white"
           }
          },
          "shapedefaults": {
           "line": {
            "color": "#2a3f5f"
           }
          },
          "ternary": {
           "aaxis": {
            "gridcolor": "white",
            "linecolor": "white",
            "ticks": ""
           },
           "baxis": {
            "gridcolor": "white",
            "linecolor": "white",
            "ticks": ""
           },
           "bgcolor": "#E5ECF6",
           "caxis": {
            "gridcolor": "white",
            "linecolor": "white",
            "ticks": ""
           }
          },
          "title": {
           "x": 0.05
          },
          "xaxis": {
           "automargin": true,
           "gridcolor": "white",
           "linecolor": "white",
           "ticks": "",
           "title": {
            "standoff": 15
           },
           "zerolinecolor": "white",
           "zerolinewidth": 2
          },
          "yaxis": {
           "automargin": true,
           "gridcolor": "white",
           "linecolor": "white",
           "ticks": "",
           "title": {
            "standoff": 15
           },
           "zerolinecolor": "white",
           "zerolinewidth": 2
          }
         }
        },
        "title": {
         "text": "Happiness Score vs Family"
        },
        "width": 1500,
        "xaxis": {
         "anchor": "y",
         "domain": [
          0,
          0.98
         ],
         "title": {
          "text": "Happiness_Score"
         }
        },
        "xaxis2": {
         "anchor": "y2",
         "domain": [
          0,
          0.98
         ],
         "matches": "x",
         "showticklabels": false
        },
        "xaxis3": {
         "anchor": "y3",
         "domain": [
          0,
          0.98
         ],
         "matches": "x",
         "showticklabels": false
        },
        "xaxis4": {
         "anchor": "y4",
         "domain": [
          0,
          0.98
         ],
         "matches": "x",
         "showticklabels": false
        },
        "xaxis5": {
         "anchor": "y5",
         "domain": [
          0,
          0.98
         ],
         "matches": "x",
         "showticklabels": false
        },
        "yaxis": {
         "anchor": "x",
         "domain": [
          0,
          0.17600000000000002
         ],
         "title": {
          "text": "Family"
         }
        },
        "yaxis2": {
         "anchor": "x2",
         "domain": [
          0.20600000000000002,
          0.382
         ],
         "matches": "y",
         "title": {
          "text": "Family"
         }
        },
        "yaxis3": {
         "anchor": "x3",
         "domain": [
          0.41200000000000003,
          0.5880000000000001
         ],
         "matches": "y",
         "title": {
          "text": "Family"
         }
        },
        "yaxis4": {
         "anchor": "x4",
         "domain": [
          0.618,
          0.794
         ],
         "matches": "y",
         "title": {
          "text": "Family"
         }
        },
        "yaxis5": {
         "anchor": "x5",
         "domain": [
          0.8240000000000001,
          1
         ],
         "matches": "y",
         "title": {
          "text": "Family"
         }
        }
       }
      }
     },
     "metadata": {},
     "output_type": "display_data"
    }
   ],
   "source": [
    "\n",
    "fig = px.scatter(happiness_df, x=\"Happiness_Score\", y=\"Family\", color=\"Country\",size=\"Happiness_Rank\", width=1500, height=800, title=\"Happiness Score vs Family\", facet_row=\"Region\")\n",
    "fig.show()"
   ]
  },
  {
   "cell_type": "code",
   "execution_count": 9,
   "metadata": {},
   "outputs": [
    {
     "data": {
      "text/plain": [
       "Index(['Country', 'Region', 'Happiness_Rank', 'Happiness_Score',\n",
       "       'Lower Confidence Interval', 'Upper Confidence Interval', 'GDP',\n",
       "       'Family', 'Life_Expectancy', 'Freedom', 'Trust_against_corrruption',\n",
       "       'Generosity', 'Dystopia_Residual'],\n",
       "      dtype='object')"
      ]
     },
     "execution_count": 9,
     "metadata": {},
     "output_type": "execute_result"
    }
   ],
   "source": [
    "happiness_df.columns"
   ]
  },
  {
   "cell_type": "code",
   "execution_count": 14,
   "metadata": {},
   "outputs": [
    {
     "name": "stderr",
     "output_type": "stream",
     "text": [
      "c:\\Users\\330s-15ikb-w3ix\\AppData\\Local\\Programs\\Python\\Python310\\lib\\site-packages\\bubbly\\bubbly.py:222: FutureWarning:\n",
      "\n",
      "The frame.append method is deprecated and will be removed from pandas in a future version. Use pandas.concat instead.\n",
      "\n",
      "c:\\Users\\330s-15ikb-w3ix\\AppData\\Local\\Programs\\Python\\Python310\\lib\\site-packages\\bubbly\\bubbly.py:222: FutureWarning:\n",
      "\n",
      "The frame.append method is deprecated and will be removed from pandas in a future version. Use pandas.concat instead.\n",
      "\n",
      "c:\\Users\\330s-15ikb-w3ix\\AppData\\Local\\Programs\\Python\\Python310\\lib\\site-packages\\bubbly\\bubbly.py:222: FutureWarning:\n",
      "\n",
      "The frame.append method is deprecated and will be removed from pandas in a future version. Use pandas.concat instead.\n",
      "\n",
      "c:\\Users\\330s-15ikb-w3ix\\AppData\\Local\\Programs\\Python\\Python310\\lib\\site-packages\\bubbly\\bubbly.py:222: FutureWarning:\n",
      "\n",
      "The frame.append method is deprecated and will be removed from pandas in a future version. Use pandas.concat instead.\n",
      "\n",
      "c:\\Users\\330s-15ikb-w3ix\\AppData\\Local\\Programs\\Python\\Python310\\lib\\site-packages\\bubbly\\bubbly.py:222: FutureWarning:\n",
      "\n",
      "The frame.append method is deprecated and will be removed from pandas in a future version. Use pandas.concat instead.\n",
      "\n",
      "c:\\Users\\330s-15ikb-w3ix\\AppData\\Local\\Programs\\Python\\Python310\\lib\\site-packages\\bubbly\\bubbly.py:222: FutureWarning:\n",
      "\n",
      "The frame.append method is deprecated and will be removed from pandas in a future version. Use pandas.concat instead.\n",
      "\n",
      "c:\\Users\\330s-15ikb-w3ix\\AppData\\Local\\Programs\\Python\\Python310\\lib\\site-packages\\bubbly\\bubbly.py:222: FutureWarning:\n",
      "\n",
      "The frame.append method is deprecated and will be removed from pandas in a future version. Use pandas.concat instead.\n",
      "\n",
      "c:\\Users\\330s-15ikb-w3ix\\AppData\\Local\\Programs\\Python\\Python310\\lib\\site-packages\\bubbly\\bubbly.py:222: FutureWarning:\n",
      "\n",
      "The frame.append method is deprecated and will be removed from pandas in a future version. Use pandas.concat instead.\n",
      "\n",
      "c:\\Users\\330s-15ikb-w3ix\\AppData\\Local\\Programs\\Python\\Python310\\lib\\site-packages\\bubbly\\bubbly.py:222: FutureWarning:\n",
      "\n",
      "The frame.append method is deprecated and will be removed from pandas in a future version. Use pandas.concat instead.\n",
      "\n",
      "c:\\Users\\330s-15ikb-w3ix\\AppData\\Local\\Programs\\Python\\Python310\\lib\\site-packages\\bubbly\\bubbly.py:222: FutureWarning:\n",
      "\n",
      "The frame.append method is deprecated and will be removed from pandas in a future version. Use pandas.concat instead.\n",
      "\n",
      "c:\\Users\\330s-15ikb-w3ix\\AppData\\Local\\Programs\\Python\\Python310\\lib\\site-packages\\bubbly\\bubbly.py:222: FutureWarning:\n",
      "\n",
      "The frame.append method is deprecated and will be removed from pandas in a future version. Use pandas.concat instead.\n",
      "\n",
      "c:\\Users\\330s-15ikb-w3ix\\AppData\\Local\\Programs\\Python\\Python310\\lib\\site-packages\\bubbly\\bubbly.py:222: FutureWarning:\n",
      "\n",
      "The frame.append method is deprecated and will be removed from pandas in a future version. Use pandas.concat instead.\n",
      "\n",
      "c:\\Users\\330s-15ikb-w3ix\\AppData\\Local\\Programs\\Python\\Python310\\lib\\site-packages\\bubbly\\bubbly.py:222: FutureWarning:\n",
      "\n",
      "The frame.append method is deprecated and will be removed from pandas in a future version. Use pandas.concat instead.\n",
      "\n",
      "c:\\Users\\330s-15ikb-w3ix\\AppData\\Local\\Programs\\Python\\Python310\\lib\\site-packages\\bubbly\\bubbly.py:222: FutureWarning:\n",
      "\n",
      "The frame.append method is deprecated and will be removed from pandas in a future version. Use pandas.concat instead.\n",
      "\n",
      "c:\\Users\\330s-15ikb-w3ix\\AppData\\Local\\Programs\\Python\\Python310\\lib\\site-packages\\bubbly\\bubbly.py:222: FutureWarning:\n",
      "\n",
      "The frame.append method is deprecated and will be removed from pandas in a future version. Use pandas.concat instead.\n",
      "\n",
      "c:\\Users\\330s-15ikb-w3ix\\AppData\\Local\\Programs\\Python\\Python310\\lib\\site-packages\\bubbly\\bubbly.py:222: FutureWarning:\n",
      "\n",
      "The frame.append method is deprecated and will be removed from pandas in a future version. Use pandas.concat instead.\n",
      "\n",
      "c:\\Users\\330s-15ikb-w3ix\\AppData\\Local\\Programs\\Python\\Python310\\lib\\site-packages\\bubbly\\bubbly.py:222: FutureWarning:\n",
      "\n",
      "The frame.append method is deprecated and will be removed from pandas in a future version. Use pandas.concat instead.\n",
      "\n",
      "c:\\Users\\330s-15ikb-w3ix\\AppData\\Local\\Programs\\Python\\Python310\\lib\\site-packages\\bubbly\\bubbly.py:222: FutureWarning:\n",
      "\n",
      "The frame.append method is deprecated and will be removed from pandas in a future version. Use pandas.concat instead.\n",
      "\n",
      "c:\\Users\\330s-15ikb-w3ix\\AppData\\Local\\Programs\\Python\\Python310\\lib\\site-packages\\bubbly\\bubbly.py:222: FutureWarning:\n",
      "\n",
      "The frame.append method is deprecated and will be removed from pandas in a future version. Use pandas.concat instead.\n",
      "\n",
      "c:\\Users\\330s-15ikb-w3ix\\AppData\\Local\\Programs\\Python\\Python310\\lib\\site-packages\\bubbly\\bubbly.py:222: FutureWarning:\n",
      "\n",
      "The frame.append method is deprecated and will be removed from pandas in a future version. Use pandas.concat instead.\n",
      "\n",
      "c:\\Users\\330s-15ikb-w3ix\\AppData\\Local\\Programs\\Python\\Python310\\lib\\site-packages\\pandas\\core\\arraylike.py:402: RuntimeWarning:\n",
      "\n",
      "divide by zero encountered in log10\n",
      "\n",
      "c:\\Users\\330s-15ikb-w3ix\\AppData\\Local\\Programs\\Python\\Python310\\lib\\site-packages\\plotly\\offline\\offline.py:157: UserWarning:\n",
      "\n",
      "\n",
      "Unrecognized config options supplied: ['scrollzoom']\n",
      "\n"
     ]
    },
    {
     "data": {
      "application/vnd.plotly.v1+json": {
       "config": {
        "linkText": "Export to plot.ly",
        "plotlyServerURL": "https://plot.ly",
        "scrollzoom": true,
        "showLink": false
       },
       "data": [
        {
         "marker": {
          "size": [
           1,
           2,
           3,
           4,
           5,
           7,
           10,
           12,
           16,
           18,
           19,
           20,
           23,
           27,
           30,
           32,
           37,
           45,
           49,
           50,
           54,
           55,
           56,
           57,
           60,
           61,
           62,
           63,
           65,
           68,
           69,
           71,
           72,
           74,
           77,
           81,
           85,
           86,
           87,
           88,
           91,
           94,
           95,
           99,
           100,
           109,
           121,
           123,
           126,
           129
          ],
          "sizemode": "area",
          "sizeref": 0.016354166666666666
         },
         "mode": "markers",
         "name": "Europe",
         "text": [
          "Denmark",
          "Switzerland",
          "Iceland",
          "Norway",
          "Finland",
          "Netherlands",
          "Sweden",
          "Austria",
          "Germany",
          "Belgium",
          "Ireland",
          "Luxembourg",
          "United Kingdom",
          "Czech Republic",
          "Malta",
          "France",
          "Spain",
          "Slovakia",
          "Uzbekistan",
          "Italy",
          "Kazakhstan",
          "Moldova",
          "Russia",
          "Poland",
          "Lithuania",
          "Belarus",
          "North Cyprus",
          "Slovenia",
          "Turkmenistan",
          "Latvia",
          "Cyprus",
          "Romania",
          "Estonia",
          "Croatia",
          "Kosovo",
          "Azerbaijan",
          "Kyrgyzstan",
          "Serbia",
          "Bosnia and Herzegovina",
          "Montenegro",
          "Hungary",
          "Portugal",
          "Macedonia",
          "Greece",
          "Tajikistan",
          "Albania",
          "Armenia",
          "Ukraine",
          "Georgia",
          "Bulgaria"
         ],
         "type": "scatter",
         "x": [
          1.44178,
          1.52733,
          1.42666,
          1.57744,
          1.40598,
          1.46468,
          1.45181,
          1.45038,
          1.44787,
          1.42539,
          1.48341,
          1.69752,
          1.40283,
          1.30915,
          1.30782,
          1.39488,
          1.34253,
          1.27973,
          0.73591,
          1.35495,
          1.22943,
          0.69177,
          1.23228,
          1.24585,
          1.2692,
          1.13062,
          1.31141,
          1.29947,
          1.08017,
          1.21788,
          1.31857,
          1.1697,
          1.27964,
          1.18649,
          0.90145,
          1.12373,
          0.56044,
          1.03437,
          0.93383,
          1.07838,
          1.24142,
          1.27607,
          1.0193,
          1.24886,
          0.48835,
          0.9553,
          0.86086,
          0.87287,
          0.83792,
          1.11306
         ],
         "y": [
          0.79504,
          0.86303,
          0.86733,
          0.79579,
          0.81091,
          0.81231,
          0.83121,
          0.80565,
          0.81487,
          0.81959,
          0.81455,
          0.84542,
          0.80991,
          0.76376,
          0.80315,
          0.83795,
          0.87896,
          0.70367,
          0.50163,
          0.85102,
          0.57386,
          0.52309,
          0.58991,
          0.69058,
          0.64674,
          0.63104,
          0.84142,
          0.79151,
          0.44006,
          0.63952,
          0.8488,
          0.67602,
          0.68098,
          0.70524,
          0.54,
          0.54504,
          0.55449,
          0.6458,
          0.70766,
          0.63533,
          0.67608,
          0.79363,
          0.64738,
          0.80029,
          0.53119,
          0.73007,
          0.64083,
          0.58628,
          0.64035,
          0.67806
         ]
        },
        {
         "marker": {
          "size": [
           6,
           13,
           14,
           15,
           17,
           21,
           24,
           25,
           26,
           29,
           31,
           39,
           40,
           43,
           44,
           46,
           48,
           51,
           52,
           59,
           64,
           70,
           73,
           89,
           104,
           136
          ],
          "sizemode": "area",
          "sizeref": 0.016354166666666666
         },
         "mode": "markers",
         "name": "America",
         "text": [
          "Canada",
          "United States",
          "Costa Rica",
          "Puerto Rico",
          "Brazil",
          "Mexico",
          "Chile",
          "Panama",
          "Argentina",
          "Uruguay",
          "Colombia",
          "Guatemala",
          "Suriname",
          "Trinidad and Tobago",
          "Venezuela",
          "El Salvador",
          "Nicaragua",
          "Ecuador",
          "Belize",
          "Bolivia",
          "Peru",
          "Paraguay",
          "Jamaica",
          "Dominican Republic",
          "Honduras",
          "Haiti"
         ],
         "type": "scatter",
         "x": [
          1.44015,
          1.50796,
          1.06879,
          1.35943,
          1.08754,
          1.11508,
          1.2167,
          1.18306,
          1.15137,
          1.18157,
          1.03032,
          0.83454,
          1.09686,
          1.32572,
          1.13367,
          0.8737,
          0.69384,
          0.97306,
          0.87616,
          0.79422,
          0.99602,
          0.89373,
          0.89333,
          1.02787,
          0.69429,
          0.34097
         ],
         "y": [
          0.8276,
          0.779,
          0.76146,
          0.77758,
          0.61415,
          0.71143,
          0.81883,
          0.70835,
          0.69711,
          0.72183,
          0.59659,
          0.54039,
          0.50933,
          0.52608,
          0.61904,
          0.596,
          0.65213,
          0.68613,
          0.45569,
          0.4697,
          0.62994,
          0.58295,
          0.59469,
          0.57669,
          0.58383,
          0.27494
         ]
        },
        {
         "marker": {
          "size": [
           8,
           9
          ],
          "sizemode": "area",
          "sizeref": 0.016354166666666666
         },
         "mode": "markers",
         "name": "Oceania",
         "text": [
          "New Zealand",
          "Australia"
         ],
         "type": "scatter",
         "x": [
          1.36066,
          1.44443
         ],
         "y": [
          0.83096,
          0.8512
         ]
        },
        {
         "marker": {
          "size": [
           11,
           28,
           34,
           36,
           38,
           41,
           42,
           66,
           67,
           76,
           78,
           80,
           90,
           93,
           97,
           98,
           103,
           105,
           106,
           108,
           111,
           112,
           113,
           114,
           115,
           116,
           120,
           122,
           124,
           125,
           127,
           128,
           130,
           131,
           132,
           133,
           134,
           135,
           137,
           138,
           139,
           141,
           142,
           143,
           144,
           145,
           145,
           147,
           148,
           149,
           150,
           151,
           152,
           153,
           155,
           156,
           157
          ],
          "sizemode": "area",
          "sizeref": 0.016354166666666666
         },
         "mode": "markers",
         "name": "Africa",
         "text": [
          "Israel",
          "United Arab Emirates",
          "Saudi Arabia",
          "Qatar",
          "Algeria",
          "Kuwait",
          "Bahrain",
          "Mauritius",
          "Libya",
          "Somalia",
          "Turkey",
          "Jordan",
          "Morocco",
          "Lebanon",
          "Somaliland Region",
          "Tunisia",
          "Nigeria",
          "Iran",
          "Zambia",
          "Palestinian Territories",
          "Sierra Leone",
          "Iraq",
          "Namibia",
          "Cameroon",
          "Ethiopia",
          "South Africa",
          "Egypt",
          "Kenya",
          "Ghana",
          "Congo (Kinshasa)",
          "Congo (Brazzaville)",
          "Senegal",
          "Mauritania",
          "Zimbabwe",
          "Malawi",
          "Sudan",
          "Gabon",
          "Mali",
          "Botswana",
          "Comoros",
          "Ivory Coast",
          "Angola",
          "Niger",
          "South Sudan",
          "Chad",
          "Burkina Faso",
          "Uganda",
          "Yemen",
          "Madagascar",
          "Tanzania",
          "Liberia",
          "Guinea",
          "Rwanda",
          "Benin",
          "Togo",
          "Syria",
          "Burundi"
         ],
         "type": "scatter",
         "x": [
          1.33766,
          1.57352,
          1.48953,
          1.82427,
          1.05266,
          1.61714,
          1.44024,
          1.14372,
          1.06688,
          0,
          1.16492,
          0.99673,
          0.84058,
          1.12268,
          0.25558,
          0.97724,
          0.75216,
          1.11758,
          0.61202,
          0.67024,
          0.36485,
          1.07474,
          0.93287,
          0.52497,
          0.29283,
          1.02416,
          0.95395,
          0.52267,
          0.63107,
          0.05661,
          0.77109,
          0.44314,
          0.61391,
          0.35041,
          0.08709,
          0.63069,
          1.15851,
          0.31292,
          1.09426,
          0.27509,
          0.55507,
          0.84731,
          0.1327,
          0.39394,
          0.42214,
          0.31995,
          0.34719,
          0.57939,
          0.27954,
          0.47155,
          0.10706,
          0.22415,
          0.32846,
          0.39499,
          0.28123,
          0.74719,
          0.06831
         ],
         "y": [
          0.84917,
          0.72993,
          0.59267,
          0.71723,
          0.61804,
          0.63569,
          0.65696,
          0.66189,
          0.52304,
          0.11466,
          0.64718,
          0.60712,
          0.59471,
          0.76171,
          0.33108,
          0.59577,
          0.05108,
          0.64232,
          0.23573,
          0.56844,
          0,
          0.51076,
          0.34745,
          0.12698,
          0.34578,
          0.18611,
          0.52116,
          0.30147,
          0.29681,
          0.188,
          0.28212,
          0.40457,
          0.28639,
          0.1595,
          0.29364,
          0.29759,
          0.3494,
          0.16347,
          0.34752,
          0.29981,
          0.04476,
          0.04991,
          0.26162,
          0.15781,
          0.03824,
          0.21297,
          0.19625,
          0.31048,
          0.37109,
          0.357,
          0.23165,
          0.18829,
          0.31865,
          0.21028,
          0.24811,
          0.62994,
          0.15747
         ]
        },
        {
         "marker": {
          "size": [
           22,
           33,
           34,
           47,
           53,
           57,
           75,
           79,
           82,
           83,
           84,
           92,
           96,
           101,
           102,
           107,
           110,
           117,
           118,
           119,
           140,
           154
          ],
          "sizemode": "area",
          "sizeref": 0.016354166666666666
         },
         "mode": "markers",
         "name": "Asia",
         "text": [
          "Singapore",
          "Thailand",
          "Taiwan",
          "Malaysia",
          "Japan",
          "South Korea",
          "Hong Kong",
          "Indonesia",
          "Philippines",
          "China",
          "Bhutan",
          "Pakistan",
          "Vietnam",
          "Mongolia",
          "Laos",
          "Nepal",
          "Bangladesh",
          "Sri Lanka",
          "India",
          "Myanmar",
          "Cambodia",
          "Afghanistan"
         ],
         "type": "scatter",
         "x": [
          1.64555,
          1.0893,
          1.39729,
          1.25142,
          1.38007,
          1.35948,
          1.5107,
          0.95104,
          0.81217,
          1.0278,
          0.8527,
          0.68816,
          0.74037,
          0.98853,
          0.68042,
          0.44626,
          0.54177,
          0.97318,
          0.74036,
          0.34112,
          0.55604,
          0.38227
         ],
         "y": [
          0.94719,
          0.64915,
          0.79565,
          0.62366,
          0.91491,
          0.88645,
          0.95277,
          0.49374,
          0.47036,
          0.73561,
          0.49759,
          0.40306,
          0.66157,
          0.55469,
          0.38291,
          0.50073,
          0.52989,
          0.62007,
          0.45091,
          0.3988,
          0.42494,
          0.17344
         ]
        }
       ],
       "layout": {
        "height": 650,
        "hovermode": "closest",
        "margin": {
         "b": 50,
         "pad": 5,
         "t": 50
        },
        "showlegend": true,
        "template": {
         "data": {
          "bar": [
           {
            "error_x": {
             "color": "#2a3f5f"
            },
            "error_y": {
             "color": "#2a3f5f"
            },
            "marker": {
             "line": {
              "color": "#E5ECF6",
              "width": 0.5
             },
             "pattern": {
              "fillmode": "overlay",
              "size": 10,
              "solidity": 0.2
             }
            },
            "type": "bar"
           }
          ],
          "barpolar": [
           {
            "marker": {
             "line": {
              "color": "#E5ECF6",
              "width": 0.5
             },
             "pattern": {
              "fillmode": "overlay",
              "size": 10,
              "solidity": 0.2
             }
            },
            "type": "barpolar"
           }
          ],
          "carpet": [
           {
            "aaxis": {
             "endlinecolor": "#2a3f5f",
             "gridcolor": "white",
             "linecolor": "white",
             "minorgridcolor": "white",
             "startlinecolor": "#2a3f5f"
            },
            "baxis": {
             "endlinecolor": "#2a3f5f",
             "gridcolor": "white",
             "linecolor": "white",
             "minorgridcolor": "white",
             "startlinecolor": "#2a3f5f"
            },
            "type": "carpet"
           }
          ],
          "choropleth": [
           {
            "colorbar": {
             "outlinewidth": 0,
             "ticks": ""
            },
            "type": "choropleth"
           }
          ],
          "contour": [
           {
            "colorbar": {
             "outlinewidth": 0,
             "ticks": ""
            },
            "colorscale": [
             [
              0,
              "#0d0887"
             ],
             [
              0.1111111111111111,
              "#46039f"
             ],
             [
              0.2222222222222222,
              "#7201a8"
             ],
             [
              0.3333333333333333,
              "#9c179e"
             ],
             [
              0.4444444444444444,
              "#bd3786"
             ],
             [
              0.5555555555555556,
              "#d8576b"
             ],
             [
              0.6666666666666666,
              "#ed7953"
             ],
             [
              0.7777777777777778,
              "#fb9f3a"
             ],
             [
              0.8888888888888888,
              "#fdca26"
             ],
             [
              1,
              "#f0f921"
             ]
            ],
            "type": "contour"
           }
          ],
          "contourcarpet": [
           {
            "colorbar": {
             "outlinewidth": 0,
             "ticks": ""
            },
            "type": "contourcarpet"
           }
          ],
          "heatmap": [
           {
            "colorbar": {
             "outlinewidth": 0,
             "ticks": ""
            },
            "colorscale": [
             [
              0,
              "#0d0887"
             ],
             [
              0.1111111111111111,
              "#46039f"
             ],
             [
              0.2222222222222222,
              "#7201a8"
             ],
             [
              0.3333333333333333,
              "#9c179e"
             ],
             [
              0.4444444444444444,
              "#bd3786"
             ],
             [
              0.5555555555555556,
              "#d8576b"
             ],
             [
              0.6666666666666666,
              "#ed7953"
             ],
             [
              0.7777777777777778,
              "#fb9f3a"
             ],
             [
              0.8888888888888888,
              "#fdca26"
             ],
             [
              1,
              "#f0f921"
             ]
            ],
            "type": "heatmap"
           }
          ],
          "heatmapgl": [
           {
            "colorbar": {
             "outlinewidth": 0,
             "ticks": ""
            },
            "colorscale": [
             [
              0,
              "#0d0887"
             ],
             [
              0.1111111111111111,
              "#46039f"
             ],
             [
              0.2222222222222222,
              "#7201a8"
             ],
             [
              0.3333333333333333,
              "#9c179e"
             ],
             [
              0.4444444444444444,
              "#bd3786"
             ],
             [
              0.5555555555555556,
              "#d8576b"
             ],
             [
              0.6666666666666666,
              "#ed7953"
             ],
             [
              0.7777777777777778,
              "#fb9f3a"
             ],
             [
              0.8888888888888888,
              "#fdca26"
             ],
             [
              1,
              "#f0f921"
             ]
            ],
            "type": "heatmapgl"
           }
          ],
          "histogram": [
           {
            "marker": {
             "pattern": {
              "fillmode": "overlay",
              "size": 10,
              "solidity": 0.2
             }
            },
            "type": "histogram"
           }
          ],
          "histogram2d": [
           {
            "colorbar": {
             "outlinewidth": 0,
             "ticks": ""
            },
            "colorscale": [
             [
              0,
              "#0d0887"
             ],
             [
              0.1111111111111111,
              "#46039f"
             ],
             [
              0.2222222222222222,
              "#7201a8"
             ],
             [
              0.3333333333333333,
              "#9c179e"
             ],
             [
              0.4444444444444444,
              "#bd3786"
             ],
             [
              0.5555555555555556,
              "#d8576b"
             ],
             [
              0.6666666666666666,
              "#ed7953"
             ],
             [
              0.7777777777777778,
              "#fb9f3a"
             ],
             [
              0.8888888888888888,
              "#fdca26"
             ],
             [
              1,
              "#f0f921"
             ]
            ],
            "type": "histogram2d"
           }
          ],
          "histogram2dcontour": [
           {
            "colorbar": {
             "outlinewidth": 0,
             "ticks": ""
            },
            "colorscale": [
             [
              0,
              "#0d0887"
             ],
             [
              0.1111111111111111,
              "#46039f"
             ],
             [
              0.2222222222222222,
              "#7201a8"
             ],
             [
              0.3333333333333333,
              "#9c179e"
             ],
             [
              0.4444444444444444,
              "#bd3786"
             ],
             [
              0.5555555555555556,
              "#d8576b"
             ],
             [
              0.6666666666666666,
              "#ed7953"
             ],
             [
              0.7777777777777778,
              "#fb9f3a"
             ],
             [
              0.8888888888888888,
              "#fdca26"
             ],
             [
              1,
              "#f0f921"
             ]
            ],
            "type": "histogram2dcontour"
           }
          ],
          "mesh3d": [
           {
            "colorbar": {
             "outlinewidth": 0,
             "ticks": ""
            },
            "type": "mesh3d"
           }
          ],
          "parcoords": [
           {
            "line": {
             "colorbar": {
              "outlinewidth": 0,
              "ticks": ""
             }
            },
            "type": "parcoords"
           }
          ],
          "pie": [
           {
            "automargin": true,
            "type": "pie"
           }
          ],
          "scatter": [
           {
            "marker": {
             "colorbar": {
              "outlinewidth": 0,
              "ticks": ""
             }
            },
            "type": "scatter"
           }
          ],
          "scatter3d": [
           {
            "line": {
             "colorbar": {
              "outlinewidth": 0,
              "ticks": ""
             }
            },
            "marker": {
             "colorbar": {
              "outlinewidth": 0,
              "ticks": ""
             }
            },
            "type": "scatter3d"
           }
          ],
          "scattercarpet": [
           {
            "marker": {
             "colorbar": {
              "outlinewidth": 0,
              "ticks": ""
             }
            },
            "type": "scattercarpet"
           }
          ],
          "scattergeo": [
           {
            "marker": {
             "colorbar": {
              "outlinewidth": 0,
              "ticks": ""
             }
            },
            "type": "scattergeo"
           }
          ],
          "scattergl": [
           {
            "marker": {
             "colorbar": {
              "outlinewidth": 0,
              "ticks": ""
             }
            },
            "type": "scattergl"
           }
          ],
          "scattermapbox": [
           {
            "marker": {
             "colorbar": {
              "outlinewidth": 0,
              "ticks": ""
             }
            },
            "type": "scattermapbox"
           }
          ],
          "scatterpolar": [
           {
            "marker": {
             "colorbar": {
              "outlinewidth": 0,
              "ticks": ""
             }
            },
            "type": "scatterpolar"
           }
          ],
          "scatterpolargl": [
           {
            "marker": {
             "colorbar": {
              "outlinewidth": 0,
              "ticks": ""
             }
            },
            "type": "scatterpolargl"
           }
          ],
          "scatterternary": [
           {
            "marker": {
             "colorbar": {
              "outlinewidth": 0,
              "ticks": ""
             }
            },
            "type": "scatterternary"
           }
          ],
          "surface": [
           {
            "colorbar": {
             "outlinewidth": 0,
             "ticks": ""
            },
            "colorscale": [
             [
              0,
              "#0d0887"
             ],
             [
              0.1111111111111111,
              "#46039f"
             ],
             [
              0.2222222222222222,
              "#7201a8"
             ],
             [
              0.3333333333333333,
              "#9c179e"
             ],
             [
              0.4444444444444444,
              "#bd3786"
             ],
             [
              0.5555555555555556,
              "#d8576b"
             ],
             [
              0.6666666666666666,
              "#ed7953"
             ],
             [
              0.7777777777777778,
              "#fb9f3a"
             ],
             [
              0.8888888888888888,
              "#fdca26"
             ],
             [
              1,
              "#f0f921"
             ]
            ],
            "type": "surface"
           }
          ],
          "table": [
           {
            "cells": {
             "fill": {
              "color": "#EBF0F8"
             },
             "line": {
              "color": "white"
             }
            },
            "header": {
             "fill": {
              "color": "#C8D4E3"
             },
             "line": {
              "color": "white"
             }
            },
            "type": "table"
           }
          ]
         },
         "layout": {
          "annotationdefaults": {
           "arrowcolor": "#2a3f5f",
           "arrowhead": 0,
           "arrowwidth": 1
          },
          "autotypenumbers": "strict",
          "coloraxis": {
           "colorbar": {
            "outlinewidth": 0,
            "ticks": ""
           }
          },
          "colorscale": {
           "diverging": [
            [
             0,
             "#8e0152"
            ],
            [
             0.1,
             "#c51b7d"
            ],
            [
             0.2,
             "#de77ae"
            ],
            [
             0.3,
             "#f1b6da"
            ],
            [
             0.4,
             "#fde0ef"
            ],
            [
             0.5,
             "#f7f7f7"
            ],
            [
             0.6,
             "#e6f5d0"
            ],
            [
             0.7,
             "#b8e186"
            ],
            [
             0.8,
             "#7fbc41"
            ],
            [
             0.9,
             "#4d9221"
            ],
            [
             1,
             "#276419"
            ]
           ],
           "sequential": [
            [
             0,
             "#0d0887"
            ],
            [
             0.1111111111111111,
             "#46039f"
            ],
            [
             0.2222222222222222,
             "#7201a8"
            ],
            [
             0.3333333333333333,
             "#9c179e"
            ],
            [
             0.4444444444444444,
             "#bd3786"
            ],
            [
             0.5555555555555556,
             "#d8576b"
            ],
            [
             0.6666666666666666,
             "#ed7953"
            ],
            [
             0.7777777777777778,
             "#fb9f3a"
            ],
            [
             0.8888888888888888,
             "#fdca26"
            ],
            [
             1,
             "#f0f921"
            ]
           ],
           "sequentialminus": [
            [
             0,
             "#0d0887"
            ],
            [
             0.1111111111111111,
             "#46039f"
            ],
            [
             0.2222222222222222,
             "#7201a8"
            ],
            [
             0.3333333333333333,
             "#9c179e"
            ],
            [
             0.4444444444444444,
             "#bd3786"
            ],
            [
             0.5555555555555556,
             "#d8576b"
            ],
            [
             0.6666666666666666,
             "#ed7953"
            ],
            [
             0.7777777777777778,
             "#fb9f3a"
            ],
            [
             0.8888888888888888,
             "#fdca26"
            ],
            [
             1,
             "#f0f921"
            ]
           ]
          },
          "colorway": [
           "#636efa",
           "#EF553B",
           "#00cc96",
           "#ab63fa",
           "#FFA15A",
           "#19d3f3",
           "#FF6692",
           "#B6E880",
           "#FF97FF",
           "#FECB52"
          ],
          "font": {
           "color": "#2a3f5f"
          },
          "geo": {
           "bgcolor": "white",
           "lakecolor": "white",
           "landcolor": "#E5ECF6",
           "showlakes": true,
           "showland": true,
           "subunitcolor": "white"
          },
          "hoverlabel": {
           "align": "left"
          },
          "hovermode": "closest",
          "mapbox": {
           "style": "light"
          },
          "paper_bgcolor": "white",
          "plot_bgcolor": "#E5ECF6",
          "polar": {
           "angularaxis": {
            "gridcolor": "white",
            "linecolor": "white",
            "ticks": ""
           },
           "bgcolor": "#E5ECF6",
           "radialaxis": {
            "gridcolor": "white",
            "linecolor": "white",
            "ticks": ""
           }
          },
          "scene": {
           "xaxis": {
            "backgroundcolor": "#E5ECF6",
            "gridcolor": "white",
            "gridwidth": 2,
            "linecolor": "white",
            "showbackground": true,
            "ticks": "",
            "zerolinecolor": "white"
           },
           "yaxis": {
            "backgroundcolor": "#E5ECF6",
            "gridcolor": "white",
            "gridwidth": 2,
            "linecolor": "white",
            "showbackground": true,
            "ticks": "",
            "zerolinecolor": "white"
           },
           "zaxis": {
            "backgroundcolor": "#E5ECF6",
            "gridcolor": "white",
            "gridwidth": 2,
            "linecolor": "white",
            "showbackground": true,
            "ticks": "",
            "zerolinecolor": "white"
           }
          },
          "shapedefaults": {
           "line": {
            "color": "#2a3f5f"
           }
          },
          "ternary": {
           "aaxis": {
            "gridcolor": "white",
            "linecolor": "white",
            "ticks": ""
           },
           "baxis": {
            "gridcolor": "white",
            "linecolor": "white",
            "ticks": ""
           },
           "bgcolor": "#E5ECF6",
           "caxis": {
            "gridcolor": "white",
            "linecolor": "white",
            "ticks": ""
           }
          },
          "title": {
           "x": 0.05
          },
          "xaxis": {
           "automargin": true,
           "gridcolor": "white",
           "linecolor": "white",
           "ticks": "",
           "title": {
            "standoff": 15
           },
           "zerolinecolor": "white",
           "zerolinewidth": 2
          },
          "yaxis": {
           "automargin": true,
           "gridcolor": "white",
           "linecolor": "white",
           "ticks": "",
           "title": {
            "standoff": 15
           },
           "zerolinecolor": "white",
           "zerolinewidth": 2
          }
         }
        },
        "title": {
         "text": "GDP vs Life Expectancy"
        },
        "xaxis": {
         "autorange": false,
         "range": [
          null,
          0.2715326808967822
         ],
         "title": {
          "text": "GDP per Capita"
         },
         "type": "log"
        },
        "yaxis": {
         "autorange": false,
         "range": [
          0,
          1.333878
         ],
         "title": {
          "text": "Life Expectancy"
         }
        }
       }
      }
     },
     "metadata": {},
     "output_type": "display_data"
    }
   ],
   "source": [
    "from bubbly.bubbly import bubbleplot\n",
    "from plotly.offline import init_notebook_mode, iplot\n",
    "\n",
    "figure = bubbleplot(dataset=happiness_df, x_column='GDP', y_column='Life_Expectancy', \n",
    "    bubble_column='Country', size_column='Happiness_Rank', color_column='Region', \n",
    "    x_title=\"GDP per Capita\", y_title=\"Life Expectancy\", title='GDP vs Life Expectancy',\n",
    "    x_logscale=True, scale_bubble=3, height=650)\n",
    "\n",
    "iplot(figure, config={'scrollzoom': True})"
   ]
  },
  {
   "cell_type": "code",
   "execution_count": null,
   "metadata": {},
   "outputs": [],
   "source": []
  }
 ],
 "metadata": {
  "kernelspec": {
   "display_name": "Python 3",
   "language": "python",
   "name": "python3"
  },
  "language_info": {
   "codemirror_mode": {
    "name": "ipython",
    "version": 3
   },
   "file_extension": ".py",
   "mimetype": "text/x-python",
   "name": "python",
   "nbconvert_exporter": "python",
   "pygments_lexer": "ipython3",
   "version": "3.10.2"
  },
  "orig_nbformat": 4
 },
 "nbformat": 4,
 "nbformat_minor": 2
}
